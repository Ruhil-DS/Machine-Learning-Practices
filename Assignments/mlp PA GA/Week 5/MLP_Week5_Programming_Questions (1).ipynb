{
 "cells": [
  {
   "cell_type": "markdown",
   "metadata": {
    "id": "k0PY-Pf_JXEj"
   },
   "source": [
    "# Practice Questions"
   ]
  },
  {
   "cell_type": "markdown",
   "metadata": {
    "id": "aeoWxrsGUkHL"
   },
   "source": [
    "Question Group: 22T1_MLP_W5_PP\n",
    "\n",
    "Total # of questiosn: 6"
   ]
  },
  {
   "cell_type": "markdown",
   "metadata": {
    "id": "5pMkFmlcSHsd"
   },
   "source": [
    "## Que 1.\n",
    "\n",
    "[1 point] Load the MNIST dataset (mnist_784, version=1) from openml. How many number of samples are there in the dataset?\n",
    "[NAT]\n",
    "**Ans:70000**"
   ]
  },
  {
   "cell_type": "markdown",
   "metadata": {
    "id": "Mq7aDgWwmgeM"
   },
   "source": [
    "**Solution**"
   ]
  },
  {
   "cell_type": "code",
   "execution_count": null,
   "metadata": {
    "colab": {
     "base_uri": "https://localhost:8080/"
    },
    "id": "vRSFaiQ6K_VI",
    "outputId": "67de798d-71db-4b4a-e07a-547b9ebaf6ac"
   },
   "outputs": [
    {
     "name": "stdout",
     "output_type": "stream",
     "text": [
      "(70000, 784)\n"
     ]
    }
   ],
   "source": [
    "import sys\n",
    "import sklearn\n",
    "import numpy as np\n",
    "import seaborn as sns\n",
    "from matplotlib import pyplot as plt\n",
    "from sklearn.datasets import fetch_openml\n",
    "import ssl\n",
    "try:\n",
    "    _create_unverified_https_context = ssl._create_unverified_context\n",
    "except AttributeError:\n",
    "    pass\n",
    "else:\n",
    "    ssl._create_default_https_context = _create_unverified_https_context\n",
    "\n",
    "X,y= fetch_openml('mnist_784',version=1,return_X_y=True) \n",
    "X = X.to_numpy()\n",
    "y = y.to_numpy()\n",
    "print(X.shape)\n"
   ]
  },
  {
   "cell_type": "code",
   "execution_count": null,
   "metadata": {
    "id": "GrXCNm4PEoda"
   },
   "outputs": [],
   "source": [
    "np.random.seed(42)"
   ]
  },
  {
   "cell_type": "markdown",
   "metadata": {
    "id": "2-d528zSTGj5"
   },
   "source": [
    "## Que 2.\n",
    "[2 point] Access the sample at the index 2022. \n",
    "\n",
    "    * What is the label of the sample?\n",
    "\n",
    "    * What is the mean value of the sample?\n",
    "    \n",
    "    * How many zeros are there in the sample? \n",
    "\n",
    "Pack the answer in a tuple like (label,mean,num_zeros)."
   ]
  },
  {
   "cell_type": "markdown",
   "metadata": {
    "id": "KwuP92UtsdI3"
   },
   "source": [
    "Options: <br>\n",
    "1. (2,27.76,700) <br>\n",
    "2. (1,0,680) <br>\n",
    "3. (2,27.76,643) <br>\n",
    "4. (2,30,128) <br>\n",
    "\n",
    "**Ans: 3**"
   ]
  },
  {
   "cell_type": "markdown",
   "metadata": {
    "id": "CCjXh0zqUu2J"
   },
   "source": [
    "**Solution:**"
   ]
  },
  {
   "cell_type": "code",
   "execution_count": null,
   "metadata": {
    "colab": {
     "base_uri": "https://localhost:8080/"
    },
    "id": "ln43k04bUpaK",
    "outputId": "292069f3-4389-4b40-f479-f6e5db9aea3c"
   },
   "outputs": [
    {
     "name": "stdout",
     "output_type": "stream",
     "text": [
      "label:2 \tmean:27.76 \tmax:254.0 \tnumber of zeros:643\n"
     ]
    }
   ],
   "source": [
    "x = X[2022,:]\n",
    "label = y[2022]\n",
    "mean = np.round(np.mean(x),2)\n",
    "maximum = np.max(x)\n",
    "num_zeros = x.size - np.count_nonzero(x)\n",
    "print(\"label:{0} \\tmean:{1} \\tmax:{2} \\tnumber of zeros:{3}\".format(label,mean,maximum,num_zeros))"
   ]
  },
  {
   "cell_type": "markdown",
   "metadata": {
    "id": "FumBaz_tYkT2"
   },
   "source": [
    "## Que 3.\n",
    "\n",
    "[4 points] Create a dataset by taking first 10000  images for training and next 2000 images for testing from the original dataset. Answer the following questions.\n",
    "\n",
    "  * How many unique classes are there in the training set?\n",
    "  * The number of training samples for the digit-6 are?\n",
    "  * The number of training samples for the digit-9 are?\n",
    "  * How many unique classes are there in the test set?\n",
    "  * Which class has more number of test samples?\n",
    "\n",
    "Pack the answers in a tuple like (2, 1000, 800, 5, 7).\n",
    "\n",
    "Options: <br>\n",
    "1. (5, 2000, 1100, 3, 1) <br>\n",
    "2. (10, 1014, 978, 10, 1) <br>\n",
    "3. (10, 1089, 978, 10, 2) <br>\n",
    "4. (10, 1014, 988, 10, 3) <br>\n",
    "\n",
    "**Ans: 2**"
   ]
  },
  {
   "cell_type": "markdown",
   "metadata": {
    "id": "j7a4Dwu1U7uH"
   },
   "source": [
    "**Solution:**"
   ]
  },
  {
   "cell_type": "code",
   "execution_count": null,
   "metadata": {
    "colab": {
     "base_uri": "https://localhost:8080/"
    },
    "id": "5d-XSnZ9bTAF",
    "outputId": "0c905d44-881d-47e0-850c-a9bd9a5c11f5"
   },
   "outputs": [
    {
     "name": "stdout",
     "output_type": "stream",
     "text": [
      "Unique classes in training set: 10\n",
      "Unique classes in testing set: 10\n",
      "[1001 1127  991 1032  980  863 1014 1070  944  978]\n",
      "Number of samples for dig-6 are: 1014\n",
      "Number of samples for dig-9 are: 978\n",
      "The class having more num of testing samples is:  1\n"
     ]
    }
   ],
   "source": [
    "x_train = X[:10000]\n",
    "x_test = X[10000:12000]\n",
    "y_train = y[:10000].astype(np.int8)\n",
    "y_test = y[10000:12000]\n",
    "train_uniq = np.unique(y_train)\n",
    "print('Unique classes in training set:',len(train_uniq))\n",
    "test_uniq = np.unique(y_test)\n",
    "print('Unique classes in testing set:',len(test_uniq))\n",
    "count,bins = np.histogram(y_train,bins=10)\n",
    "print(count)\n",
    "print('Number of samples for dig-6 are:',count[6])\n",
    "print('Number of samples for dig-9 are:',count[9])\n",
    "count,bins = np.histogram(y_test.astype(np.int8),bins=10)\n",
    "#print(count)\n",
    "max_cls = np.argmax(count)\n",
    "print('The class having more num of testing samples is: ',max_cls)"
   ]
  },
  {
   "cell_type": "markdown",
   "metadata": {
    "id": "X4NVMqFzaHW6"
   },
   "source": [
    "Unique classes in training set: 10\n",
    "Unique classes in testing set: 10\n",
    "[1001 1127  991 1032  980  863 1014 1070  944  978]\n",
    "Number of samples for dig-6 are: 1014\n",
    "Number of samples for dig-9 are: 978\n",
    "The class having more num of testing samples is:  1"
   ]
  },
  {
   "cell_type": "markdown",
   "metadata": {
    "id": "xzIWwagJuqzX"
   },
   "source": [
    "## Que 4.\n",
    "\n",
    "[4 points] Consider the above modified training and testing sets with first 10000  images for training and next 2000 images for testing. \n",
    "   * Steps to be followed\n",
    "      * Collect all digit-6 (Positive class) and digit-9 (Negative class) images and stack them properly as a single datamatrix. \n",
    "      *By convention, keep all digit-6 images from index 0 to i followed by digit-9 images from index i+1 to n (i denotes the end index of digit-6 images)\n",
    "      * Similarly, collect the respective labels and store it in a variable (Do sanity check).\n",
    "      * Set the label values to 1 for positive classes and -1 for negative classes.\n",
    "      * Load `from sklearn.utils import shuffle`\n",
    "      *  Shuffle the datamatrix and labels. (Set `random_state` value to 1729). <br>\n",
    "\n",
    " what are the first three labels starting from the index 0?. Select from the following options,\n",
    "\n",
    "Options: <br>\n",
    "1. (1,-1,1) <br>\n",
    "2. (1,1,-1) <br>\n",
    "3. (1,-1,-1) <br>\n",
    "4. (-1,-1,1) <br>\n",
    "5. None of them\n",
    "\n",
    "Ans: 3"
   ]
  },
  {
   "cell_type": "markdown",
   "metadata": {
    "id": "tKTIy11Sqb7M"
   },
   "source": [
    "**Solution:**"
   ]
  },
  {
   "cell_type": "code",
   "execution_count": null,
   "metadata": {
    "colab": {
     "base_uri": "https://localhost:8080/"
    },
    "id": "MbquDbP6h1TY",
    "outputId": "757fc0c2-2e60-414b-a52e-dd393e42bbed"
   },
   "outputs": [
    {
     "name": "stdout",
     "output_type": "stream",
     "text": [
      "The first three labels starting from the index 0 are [ 1. -1. -1.]\n"
     ]
    }
   ],
   "source": [
    "# get the index of dig6 and dig_9\n",
    "dig_6_idx = np.where(y_train == 6)[0]\n",
    "dig_9_idx = np.where(y_train == 9)[0]\n",
    "index = np.concatenate((dig_6_idx,dig_9_idx),axis=0)\n",
    "# get all samples from the index array\n",
    "x_train1 = x_train[index,:]\n",
    "# create the label vector\n",
    "y_train1 = np.concatenate((np.ones(len(dig_6_idx)),-1*np.ones(len(dig_9_idx))))\n",
    "\n",
    "from sklearn.utils import shuffle\n",
    "x_train1,y_train1 = shuffle(x_train1,y_train1,random_state=1729)\n",
    "print('The first three labels starting from the index 0 are',y_train1[:3])"
   ]
  },
  {
   "cell_type": "markdown",
   "metadata": {
    "id": "ian4FZThA-94"
   },
   "source": [
    "## Que 5.\n",
    "\n",
    "[4 Points] Instantiate a perceptron classifier that meets the following requirements\n",
    "  * random_state = 1729\n",
    "  * learning rate = 1\n",
    "  * Train for 10 iterations (epoch)\n",
    "  * Set shuffle the dataset for each epoch (iteration) as False.\n",
    "  * Include the intercept (bias) term.\n",
    "  * No regularization <br>\n",
    "\n",
    "Fit the perceptron classifier on the training dataset. What is the value of $w$ for the 70th feature after 10 iterations? \n",
    "\n",
    "(Note: Indexing for coefficient starts from 0. Don't worry if it raises a convergence warning)\n",
    "\n",
    "Options : <br>\n",
    "1. 605.0\n",
    "2. 608.0\n",
    "3. 60.50\n",
    "4. 6.08\n",
    "\n",
    "**Ans: 1**\n",
    "\n",
    "\n"
   ]
  },
  {
   "cell_type": "markdown",
   "metadata": {
    "id": "O0gsHzZjVrfU"
   },
   "source": [
    "**Solution:**"
   ]
  },
  {
   "cell_type": "code",
   "execution_count": null,
   "metadata": {
    "id": "C-9q3n3L55EH"
   },
   "outputs": [],
   "source": [
    "from sklearn.linear_model import Perceptron\n",
    "clf = Perceptron(random_state=1729,\n",
    "                 eta0=1,max_iter=10,\n",
    "                 shuffle=False,\n",
    "                 validation_fraction=0.1,\n",
    "                 fit_intercept=True,\n",
    "                 penalty=None, \n",
    "                 warm_start=False)"
   ]
  },
  {
   "cell_type": "code",
   "execution_count": null,
   "metadata": {
    "colab": {
     "base_uri": "https://localhost:8080/"
    },
    "id": "IAH8-Z9YPMUP",
    "outputId": "3cab99be-b3ef-41f6-b476-0e5268bea37a"
   },
   "outputs": [
    {
     "name": "stdout",
     "output_type": "stream",
     "text": [
      "{'alpha': 0.0001, 'class_weight': None, 'early_stopping': False, 'eta0': 1, 'fit_intercept': True, 'l1_ratio': 0.15, 'max_iter': 10, 'n_iter_no_change': 5, 'n_jobs': None, 'penalty': None, 'random_state': 1729, 'shuffle': False, 'tol': 0.001, 'validation_fraction': 0.1, 'verbose': 0, 'warm_start': False}\n"
     ]
    }
   ],
   "source": [
    "# ensure the clf parameters were set properly\n",
    "print(clf.get_params())"
   ]
  },
  {
   "cell_type": "code",
   "execution_count": null,
   "metadata": {
    "colab": {
     "base_uri": "https://localhost:8080/"
    },
    "id": "Ny0ODSvoSZiG",
    "outputId": "b39d4686-fe4b-4533-dc8f-0a95364c609f"
   },
   "outputs": [
    {
     "name": "stdout",
     "output_type": "stream",
     "text": [
      "The value of the weight for the 69th feature is:  605.0\n"
     ]
    },
    {
     "name": "stderr",
     "output_type": "stream",
     "text": [
      "/usr/local/lib/python3.7/dist-packages/sklearn/linear_model/_stochastic_gradient.py:700: ConvergenceWarning: Maximum number of iteration reached before convergence. Consider increasing max_iter to improve the fit.\n",
      "  ConvergenceWarning,\n"
     ]
    }
   ],
   "source": [
    "clf.fit(x_train1,y_train1)\n",
    "print('The value of the weight for the 69th feature is: ',clf.coef_[0,69])"
   ]
  },
  {
   "cell_type": "code",
   "execution_count": null,
   "metadata": {
    "id": "TUQrVNx_j3KE"
   },
   "outputs": [],
   "source": []
  },
  {
   "cell_type": "markdown",
   "metadata": {
    "id": "ut_CLP4BTOPV"
   },
   "source": [
    "## Que 6.\n",
    "[2 points] With respective to the above question and for the same settings.<br>\n",
    "Which of the following is the sequence of bias (intercept) updates for the first 5 epochs?\n",
    " \n",
    " Options: \n",
    " \n",
    " 1. [-1.0, -4.0, -4.0, -6.0, -5.0]\n",
    " 2. [-1.0, -6.0, -4.0, -6.0, -5.0]\n",
    " 3. [-1.0, -6.0, -6.0, -6.0, -5.0]\n",
    " 4. [-1.0, -4.0, -4.0, -5.0, -5.0]\n",
    "\n",
    "**Ans:1**"
   ]
  },
  {
   "cell_type": "markdown",
   "metadata": {
    "id": "T3SqzWEEV1y4"
   },
   "source": [
    "**Solution:**"
   ]
  },
  {
   "cell_type": "code",
   "execution_count": null,
   "metadata": {
    "id": "fWYBzIkmTzXG"
   },
   "outputs": [],
   "source": [
    "clf = Perceptron(random_state=1729,\n",
    "                 eta0=1,max_iter=1,\n",
    "                 shuffle=False,\n",
    "                 validation_fraction=0.1,\n",
    "                 fit_intercept=True,\n",
    "                 penalty=None, \n",
    "                 warm_start=False)"
   ]
  },
  {
   "cell_type": "code",
   "execution_count": null,
   "metadata": {
    "colab": {
     "base_uri": "https://localhost:8080/"
    },
    "id": "uNHDofK0BVZN",
    "outputId": "79320117-c800-4c8f-b4c8-62c5c5dba2d3"
   },
   "outputs": [
    {
     "name": "stdout",
     "output_type": "stream",
     "text": [
      "The sequence of bias updates:  [-1.0, -4.0, -4.0, -6.0, -5.0]\n"
     ]
    }
   ],
   "source": [
    "updates = []\n",
    "for i in range(5):\n",
    "  clf.partial_fit(x_train1,y_train1,classes=np.unique(y_train1))\n",
    "  updates.append(clf.intercept_[0])  \n",
    "print('The sequence of bias updates: ',updates)"
   ]
  },
  {
   "cell_type": "markdown",
   "metadata": {
    "id": "-Lsm0LVPd_pI"
   },
   "source": [
    "# Graded Questions\n",
    "\n",
    "Question Group: 22T1_MLP_W5_PG\n",
    "\n",
    "Total # of questiosn: 10"
   ]
  },
  {
   "cell_type": "markdown",
   "metadata": {
    "id": "cfdXi3Eq645n"
   },
   "source": [
    "##(Common data for all the graded questions)\n",
    "\n",
    "From the MNIST dataset, create a new dataset by taking first 10000  images for training and next 2000 images for testing. \n",
    "- Collect all digit-5 (Positive class) and digit-3 (Negative class) images and stack them properly as a single datamatrix. \n",
    "- By convention, keep all digit-5 images from index 0 to i followed by digit-3 images from index i+1 to n (i denotes the end index of digit-5 images)\n",
    "- Similarly, collect the respective labels and store it in a variable (Do sanity check).\n",
    "- Set the label values to 1 for positive class and -1 for negative class.\n",
    "- Instantiate a perceptron classifier with the below parameters\n",
    "  * random_state = 42\n",
    "  * learning rate = 1\n",
    "  * Train for 100 iterations (epoch)\n",
    "  * Should shuffle the dataset for each epoch (iteration)\n",
    "  * Include the intercept (bias) term.\n",
    "  * No regularization <br>\n",
    "\n",
    "Use the training set for fitting the perceptron model and use the test data to make the predictions. \n",
    "Answer the below questions."
   ]
  },
  {
   "cell_type": "markdown",
   "metadata": {
    "id": "j3-qs6dh-npv"
   },
   "source": [
    "## Que 1.\n",
    "[2 points] Which of the following is a pair that gives the number of training samples for digit 5 and digit 3?\n",
    "\n",
    "Options : <br>\n",
    "\n",
    "1. (1014, 1032)\n",
    "2. (980, 991)\n",
    "3. (863, 1032) \n",
    "4. (863, 991)\n",
    "\n",
    "**Ans: 3**\n"
   ]
  },
  {
   "cell_type": "markdown",
   "metadata": {
    "id": "6hlsctvniAkE"
   },
   "source": [
    "Solution:"
   ]
  },
  {
   "cell_type": "code",
   "execution_count": null,
   "metadata": {
    "id": "AO8GVC28h_0O"
   },
   "outputs": [],
   "source": []
  },
  {
   "cell_type": "markdown",
   "metadata": {
    "id": "s1i-_2OvXdaL"
   },
   "source": [
    "## Que 2.\n",
    "[2 points, (NAT)] Obtain confusion matrix for the test samples and the predicted samples. How many True Positives are there?\n",
    "\n",
    "**Ans: 173**\n",
    "\n",
    "\n",
    "   \n"
   ]
  },
  {
   "cell_type": "markdown",
   "metadata": {
    "id": "1xY29WyxBKyO"
   },
   "source": [
    "## Que 3.\n",
    "[2 points, (NAT)] From the confusion matrix, answer how many True Negatives are there?\n",
    "\n",
    "\n",
    "**Ans: 190**\n",
    "\n",
    "   \n"
   ]
  },
  {
   "cell_type": "markdown",
   "metadata": {
    "id": "15IIjds6Bc9I"
   },
   "source": [
    "## Que 4.\n",
    "[2 points, (NAT)] From the confusion matrix, answer how many False Negatives are there?\n",
    "\n",
    "**Ans: 6**  \n"
   ]
  },
  {
   "cell_type": "markdown",
   "metadata": {
    "id": "RFlXPeSIBheM",
    "tags": []
   },
   "source": [
    "## Que 5.\n",
    "[2 points, (NAT)] From the confusion matrix, answer how many False Positives are there?\n",
    "\n",
    "**Ans: 12**\n",
    "   \n"
   ]
  },
  {
   "cell_type": "markdown",
   "metadata": {
    "id": "OnP-0CaTB5Ow"
   },
   "source": [
    "## Que 6.\n",
    "[3 points, Multiple select] In the same model setup just change the  shuffle parameter to False, refit the classifier on training data, make predictions on test data and observe the accuracy, precision score and recall score. Which of the following statements are True based on your observations? \n",
    "\n",
    "Options: <br>\n",
    "\n",
    "1. The accuracy value remains same while `shuffle = True` and `shuffle = False`.\n",
    "2. The precision score value decreased after setting `shuffle = False`. \n",
    "3. The recall score value decreased after setting `shuffle = False`.\n",
    "4. The accuracy value increased after setting `shuffle = False`.\n",
    "5. The precision score value increased after setting `shuffle = False`. \n",
    "6. The recall score value increased after setting `shuffle = False`.\n",
    "7. The accuracy value decreased after setting  `shuffle = False`.\n",
    "\n",
    "      \n",
    "**Ans: 3, 5, 7**\n",
    "\n",
    "\n",
    "   \n"
   ]
  },
  {
   "cell_type": "markdown",
   "metadata": {
    "id": "eSCKdyqA75Iv"
   },
   "source": [
    "**Solution**"
   ]
  },
  {
   "cell_type": "code",
   "execution_count": null,
   "metadata": {
    "colab": {
     "base_uri": "https://localhost:8080/"
    },
    "id": "7UVGaACH5TOD",
    "outputId": "5671c4dc-8721-4d3e-f5de-e74b177796ea"
   },
   "outputs": [
    {
     "name": "stdout",
     "output_type": "stream",
     "text": [
      "Unique classes in training set: 10\n",
      "Unique classes in testing set: 10\n",
      "[1001 1127  991 1032  980  863 1014 1070  944  978]\n",
      "Number of samples for dig-5 are: 863\n",
      "Number of samples for dig-3 are: 1032\n",
      "The class having more num of testing samples is:  1\n"
     ]
    }
   ],
   "source": [
    "x_train = X[:10000]\n",
    "x_test = X[10000:12000]\n",
    "y_train = y[:10000].astype(np.int8)\n",
    "y_test = y[10000:12000].astype(np.int8)\n",
    "train_uniq = np.unique(y_train)\n",
    "print('Unique classes in training set:',len(train_uniq))\n",
    "test_uniq = np.unique(y_test)\n",
    "print('Unique classes in testing set:',len(test_uniq))\n",
    "count,bins = np.histogram(y_train,bins=10)\n",
    "print(count)\n",
    "print('Number of samples for dig-5 are:',count[5])\n",
    "print('Number of samples for dig-3 are:',count[3])\n",
    "count,bins = np.histogram(y_test.astype(np.int8),bins=10)\n",
    "#print(count)\n",
    "max_cls = np.argmax(count)\n",
    "print('The class having more num of testing samples is: ',max_cls)\n",
    "\n",
    "# get the train index of dig 5 and dig_3\n",
    "dig_5_idx = np.where(y_train == 5)[0]\n",
    "dig_3_idx = np.where(y_train == 3)[0]\n",
    "index = np.concatenate((dig_5_idx,dig_3_idx),axis=0)\n",
    "# get all samples from the index array\n",
    "x_train1 = x_train[index,:]\n",
    "# create the label vector\n",
    "y_train1 = np.concatenate((np.ones(len(dig_5_idx)),-1*np.ones(len(dig_3_idx))))\n",
    "\n",
    "# get the test index of dig 5 and dig_3\n",
    "dig_5_idx1 = np.where(y_test == 5)[0]\n",
    "dig_3_idx1 = np.where(y_test == 3)[0]\n",
    "index1 = np.concatenate((dig_5_idx1,dig_3_idx1),axis=0)\n",
    "# get all samples from the index array\n",
    "x_test1 = x_test[index1,:]\n",
    "# create the label vector\n",
    "y_test1 = np.concatenate((np.ones(len(dig_5_idx1)),-1*np.ones(len(dig_3_idx1))))"
   ]
  },
  {
   "cell_type": "code",
   "execution_count": null,
   "metadata": {
    "colab": {
     "base_uri": "https://localhost:8080/",
     "height": 331
    },
    "id": "Z0OS3GUFXbL-",
    "outputId": "c8228213-5893-481a-a65c-a69b9826b5d8"
   },
   "outputs": [
    {
     "name": "stdout",
     "output_type": "stream",
     "text": [
      "A 0.952755905511811\n",
      "P 0.9664804469273743\n",
      "R 0.9351351351351351\n"
     ]
    },
    {
     "data": {
      "image/png": "[encoded data removed]",
      "text/plain": [
       "<Figure size 432x288 with 2 Axes>"
      ]
     },
     "metadata": {
      "needs_background": "light"
     },
     "output_type": "display_data"
    }
   ],
   "source": [
    "from sklearn.metrics import ConfusionMatrixDisplay, accuracy_score, precision_score,recall_score\n",
    "from sklearn.linear_model import Perceptron\n",
    "\n",
    "clf = Perceptron(random_state=42,\n",
    "                 eta0=1,max_iter=100,\n",
    "                 shuffle=True,validation_fraction=0.1,\n",
    "                 fit_intercept=True,\n",
    "                 penalty=None,\n",
    "                 warm_start=False)\n",
    "\n",
    "clf.fit(x_train1,y_train1)\n",
    "\n",
    "y_pred1 = clf.predict(x_test1)\n",
    "cm_display = ConfusionMatrixDisplay.from_predictions(y_test1,y_pred1,values_format='.5g') \n",
    "print('A', accuracy_score(y_test1,y_pred1))\n",
    "print('P', precision_score(y_test1,y_pred1))\n",
    "print('R', recall_score(y_test1,y_pred1))\n",
    "\n",
    "plt.show()"
   ]
  },
  {
   "cell_type": "code",
   "execution_count": null,
   "metadata": {
    "colab": {
     "base_uri": "https://localhost:8080/",
     "height": 331
    },
    "id": "Ax60RpqvFaT3",
    "outputId": "251d8c72-93a2-42af-8fb4-df2f7527b844"
   },
   "outputs": [
    {
     "name": "stdout",
     "output_type": "stream",
     "text": [
      "A 0.5485564304461942\n",
      "P 1.0\n",
      "R 0.07027027027027027\n"
     ]
    },
    {
     "data": {
      "image/png": "[encoded data removed]",
      "text/plain": [
       "<Figure size 432x288 with 2 Axes>"
      ]
     },
     "metadata": {
      "needs_background": "light"
     },
     "output_type": "display_data"
    }
   ],
   "source": [
    "clf = Perceptron(random_state=42,\n",
    "                 eta0=1,max_iter=100,\n",
    "                 shuffle=False,\n",
    "                 validation_fraction=0.1,\n",
    "                 fit_intercept=True,\n",
    "                 penalty=None,\n",
    "                 warm_start=False)\n",
    "clf.fit(x_train1,y_train1)\n",
    "\n",
    "y_pred1 = clf.predict(x_test1)\n",
    "cm_display = ConfusionMatrixDisplay.from_predictions(y_test1,y_pred1,values_format='.5g') \n",
    "print('A', accuracy_score(y_test1,y_pred1))\n",
    "print('P', precision_score(y_test1,y_pred1))\n",
    "print('R', recall_score(y_test1,y_pred1))\n",
    "plt.show()"
   ]
  },
  {
   "cell_type": "markdown",
   "metadata": {
    "id": "e_dyz6jCrpvA"
   },
   "source": [
    "## Que 7.\n",
    "\n",
    "[4 points] Apply linear PCA and reduce the dimention of the datapoints to 10. Set `n_components=10`, `random_state=1` for PCA. Train perceptron classifier with same settings (`shuffle = True`) and use the trained model to make predictions on test data. Which of the following option gives the correct values inferred from confusion matrix?\n",
    "\n",
    "Options: <br>\n",
    "\n",
    "1. (TP: 119, TN: 93, FP: 77, FN: 92)\n",
    "2. (TP: 119, TN: 93, FP: 92, FN: 77)\n",
    "3. (TP: 93, TN: 119, FP: 92, FN: 77)\n",
    "4. (TP: 93, TN: 119, FP: 77, FN: 92)\n",
    "\n",
    "**Ans: 2**"
   ]
  },
  {
   "cell_type": "markdown",
   "metadata": {
    "id": "IMAeRbSSPr50"
   },
   "source": [
    "## Que 8.\n",
    "\n",
    "[3 points] Which of the following option gives the correct values for (accuracy_score, precision_score, recall_score)?\n",
    "\n",
    "Options: <br>\n",
    "\n",
    "1. (0.5564, 0.5470, 0.5027)\n",
    "2. (0.5027, 0.5314, 0.5490)\n",
    "3. (0.5180, 0.5381, 0.5370)\n",
    "4. (0.5301, 0.5180, 0.4648)\n",
    "\n",
    "**Ans: 1**"
   ]
  },
  {
   "cell_type": "markdown",
   "metadata": {
    "id": "YU-2a3KJLM0z"
   },
   "source": [
    "**Solution**"
   ]
  },
  {
   "cell_type": "code",
   "execution_count": null,
   "metadata": {
    "colab": {
     "base_uri": "https://localhost:8080/",
     "height": 331
    },
    "id": "eH-kzD5svokT",
    "outputId": "9801d3df-3740-436a-d121-1a73785882d4"
   },
   "outputs": [
    {
     "data": {
      "image/png": "[encoded data removed]",
      "text/plain": [
       "<Figure size 432x288 with 2 Axes>"
      ]
     },
     "metadata": {
      "needs_background": "light"
     },
     "output_type": "display_data"
    },
    {
     "name": "stdout",
     "output_type": "stream",
     "text": [
      "A 0.5564304461942258\n",
      "P 0.5470588235294118\n",
      "R 0.5027027027027027\n"
     ]
    }
   ],
   "source": [
    "from sklearn.decomposition import PCA\n",
    "from sklearn.metrics import classification_report\n",
    "\n",
    "pca = PCA(n_components=10,random_state=1)\n",
    "\n",
    "x_train1_reduced = pca.fit(x_train1).transform(x_train1)\n",
    "x_test1_reduced = pca.fit(x_test1).transform(x_test1)\n",
    "clf = Perceptron(random_state=42,\n",
    "                 eta0=1,max_iter=100,\n",
    "                 shuffle=True,\n",
    "                 validation_fraction=0.1,\n",
    "                 fit_intercept=True,\n",
    "                 penalty=None, \n",
    "                 warm_start=False)\n",
    "clf.fit(x_train1_reduced,y_train1)\n",
    "y_pred1 = clf.predict(x_test1_reduced)\n",
    "cm_display = ConfusionMatrixDisplay.from_predictions(y_test1,y_pred1,values_format='.5g') \n",
    "plt.show()\n",
    "print('A', accuracy_score(y_test1,y_pred1))\n",
    "print('P', precision_score(y_test1,y_pred1))\n",
    "print('R', recall_score(y_test1,y_pred1))"
   ]
  },
  {
   "cell_type": "code",
   "execution_count": null,
   "metadata": {
    "colab": {
     "base_uri": "https://localhost:8080/"
    },
    "id": "sTkjqgqLOqHJ",
    "outputId": "aa6c4e08-c683-41bb-fa22-b182eeb39f8c"
   },
   "outputs": [
    {
     "data": {
      "text/plain": [
       "(1895, 784)"
      ]
     },
     "execution_count": 15,
     "metadata": {},
     "output_type": "execute_result"
    }
   ],
   "source": [
    "x_train1.shape"
   ]
  },
  {
   "cell_type": "code",
   "execution_count": null,
   "metadata": {
    "colab": {
     "base_uri": "https://localhost:8080/",
     "height": 331
    },
    "id": "KHyFQz9KbG4Y",
    "outputId": "f887b760-e66f-4c63-d3c8-d221f2720b6a"
   },
   "outputs": [
    {
     "data": {
      "image/png": "[encoded data removed]",
      "text/plain": [
       "<Figure size 432x288 with 2 Axes>"
      ]
     },
     "metadata": {
      "needs_background": "light"
     },
     "output_type": "display_data"
    },
    {
     "name": "stdout",
     "output_type": "stream",
     "text": [
      "A 0.9212598425196851\n",
      "P 0.8934010152284264\n",
      "R 0.9513513513513514\n"
     ]
    }
   ],
   "source": [
    "from sklearn.decomposition import PCA\n",
    "from sklearn.metrics import classification_report\n",
    "from sklearn.base import clone\n",
    "p = pca.fit(x_train1)\n",
    "x_train1_resduced = p.transform(x_train1)\n",
    "x_test1_reduced =  p.transform(x_test1)\n",
    "clf1 = clone(clf)\n",
    "clf1.fit(x_train1_reduced,y_train1)\n",
    "y_pred1 = clf1.predict(x_test1_reduced)\n",
    "cm_display = ConfusionMatrixDisplay.from_predictions(y_test1,y_pred1,values_format='.5g') \n",
    "plt.show()\n",
    "print('A', accuracy_score(y_test1,y_pred1))\n",
    "print('P', precision_score(y_test1,y_pred1))\n",
    "print('R', recall_score(y_test1,y_pred1))"
   ]
  },
  {
   "cell_type": "code",
   "execution_count": null,
   "metadata": {
    "id": "o0RwRY-Sageo"
   },
   "outputs": [],
   "source": [
    "rng = np.random.RandomState(42)"
   ]
  },
  {
   "cell_type": "code",
   "execution_count": null,
   "metadata": {
    "colab": {
     "base_uri": "https://localhost:8080/",
     "height": 366
    },
    "id": "mqg893knFbWJ",
    "outputId": "14835742-5954-4f31-fd3f-ea0bffd948f4"
   },
   "outputs": [
    {
     "name": "stdout",
     "output_type": "stream",
     "text": [
      "[Pipeline] ............... (step 1 of 2) Processing pca, total=   0.2s\n",
      "[Pipeline] ........ (step 2 of 2) Processing perceptron, total=   0.0s\n"
     ]
    },
    {
     "data": {
      "image/png": "[encoded data removed]",
      "text/plain": [
       "<Figure size 432x288 with 2 Axes>"
      ]
     },
     "metadata": {
      "needs_background": "light"
     },
     "output_type": "display_data"
    },
    {
     "name": "stdout",
     "output_type": "stream",
     "text": [
      "A 0.8713910761154856\n",
      "P 0.8333333333333334\n",
      "R 0.918918918918919\n"
     ]
    }
   ],
   "source": [
    "from sklearn.decomposition import PCA\n",
    "from sklearn.metrics import classification_report\n",
    "from sklearn.pipeline import make_pipeline\n",
    "\n",
    "pca = PCA(n_components=10,random_state=1)\n",
    "# x_train1_reduced = pca.fit(x_train1).transform(x_train1)\n",
    "# x_test1_reduced = pca.fit(x_test1).transform(x_test1)\n",
    "clf = Perceptron(random_state=42,\n",
    "                 eta0=1,max_iter=100,\n",
    "                 shuffle=True,\n",
    "                 validation_fraction=0.1,\n",
    "                 fit_intercept=True,\n",
    "                 penalty=None, \n",
    "                 warm_start=False)\n",
    "pipe = make_pipeline(pca,clf,verbose=1)\n",
    "pipe.fit(x_train1,y_train1)\n",
    "y_pred1 = pipe.predict(x_test1)\n",
    "cm_display = ConfusionMatrixDisplay.from_predictions(y_test1,y_pred1,values_format='.5g') \n",
    "plt.show()\n",
    "print('A', accuracy_score(y_test1,y_pred1))\n",
    "print('P', precision_score(y_test1,y_pred1))\n",
    "print('R', recall_score(y_test1,y_pred1))"
   ]
  },
  {
   "cell_type": "markdown",
   "metadata": {
    "id": "cBnGa6_wL-D0"
   },
   "source": [
    "## Que 9.\n",
    "[2 points]  In the same model setup after PCA reduction, now provide L2 regularization by setting `penalty = 'l2'` and regularization parameter value `alpha = 0.01`, refit the classifier on training data, make predictions on test data and observe the accuracy, precision score and recall score. \n",
    "Does regularization improved the accuracy, precision and recall score of the model?\n",
    "\n",
    "Options: <br>\n",
    "\n",
    "1. Yes\n",
    "2. No\n",
    "\n",
    "\n",
    "**Ans: 2**"
   ]
  },
  {
   "cell_type": "markdown",
   "metadata": {
    "id": "MRBxSWJoiJJz"
   },
   "source": [
    "**Solution:**"
   ]
  },
  {
   "cell_type": "code",
   "execution_count": null,
   "metadata": {
    "colab": {
     "base_uri": "https://localhost:8080/"
    },
    "id": "ulkrqpwSL3Se",
    "outputId": "c90dd8c4-8774-4fd3-ac9e-7875027cd29c"
   },
   "outputs": [
    {
     "name": "stdout",
     "output_type": "stream",
     "text": [
      "A 0.7480314960629921\n",
      "P 0.7542857142857143\n",
      "R 0.7135135135135136\n"
     ]
    }
   ],
   "source": [
    "clf = Perceptron(random_state=rng,\n",
    "                 eta0=1,max_iter=100,\n",
    "                 alpha = 0.01,\n",
    "                 shuffle=True,\n",
    "                 validation_fraction=0.1,\n",
    "                 fit_intercept=True,\n",
    "                 penalty='l2')\n",
    "\n",
    "clf.fit(x_train1_reduced,y_train1)\n",
    "y_pred1 = clf.predict(x_test1_reduced)\n",
    "print('A', accuracy_score(y_test1,y_pred1))\n",
    "print('P', precision_score(y_test1,y_pred1))\n",
    "print('R', recall_score(y_test1,y_pred1))"
   ]
  },
  {
   "cell_type": "markdown",
   "metadata": {
    "id": "t8hSoLQSQdGY"
   },
   "source": [
    "## Que 10.\n",
    "[2 points]  In the same model setup after PCA reduction, now provide L1 regularization by setting `penalty = 'l1'` and regularization parameter value `alpha = 0.01`, refit the classifier on training data, make predictions on test data and observe the accuracy, precision score and recall score. \n",
    "Does L1 regularization improve the accuracy,  precision and recall score compared to L2 regularization?\n",
    "\n",
    "Options:\n",
    "1. Yes\n",
    "2. No\n",
    "\n",
    "**Ans: 1**"
   ]
  },
  {
   "cell_type": "markdown",
   "metadata": {
    "id": "v_uW1_H8iHUX"
   },
   "source": [
    "**Solution:**"
   ]
  },
  {
   "cell_type": "code",
   "execution_count": null,
   "metadata": {
    "colab": {
     "base_uri": "https://localhost:8080/"
    },
    "id": "0-X_0VAuMoXu",
    "outputId": "47c82dd7-9eba-40b0-cba2-14578eb9dc32"
   },
   "outputs": [
    {
     "name": "stdout",
     "output_type": "stream",
     "text": [
      "A 0.868766404199475\n",
      "P 0.8688524590163934\n",
      "R 0.8594594594594595\n"
     ]
    }
   ],
   "source": [
    "clf = Perceptron(random_state=42,\n",
    "                 eta0=1,max_iter=100,\n",
    "                 alpha = 0.01,\n",
    "                 shuffle=True,\n",
    "                 validation_fraction=0.1,\n",
    "                 fit_intercept=True,\n",
    "                 penalty='l1')\n",
    "\n",
    "clf.fit(x_train1_reduced,y_train1)\n",
    "y_pred1 = clf.predict(x_test1_reduced)\n",
    "print('A', accuracy_score(y_test1,y_pred1))\n",
    "print('P', precision_score(y_test1,y_pred1))\n",
    "print('R', recall_score(y_test1,y_pred1))"
   ]
  }
 ],
 "metadata": {
  "colab": {
   "collapsed_sections": [],
   "provenance": []
  },
  "kernelspec": {
   "display_name": "Python 3 (ipykernel)",
   "language": "python",
   "name": "python3"
  },
  "language_info": {
   "codemirror_mode": {
    "name": "ipython",
    "version": 3
   },
   "file_extension": ".py",
   "mimetype": "text/x-python",
   "name": "python",
   "nbconvert_exporter": "python",
   "pygments_lexer": "ipython3",
   "version": "3.9.13"
  }
 },
 "nbformat": 4,
 "nbformat_minor": 4
}
