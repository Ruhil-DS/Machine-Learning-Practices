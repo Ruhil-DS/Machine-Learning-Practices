{
  "nbformat": 4,
  "nbformat_minor": 0,
  "metadata": {
    "colab": {
      "provenance": []
    },
    "kernelspec": {
      "name": "python3",
      "display_name": "Python 3"
    },
    "language_info": {
      "name": "python"
    }
  },
  "cells": [
    {
      "cell_type": "markdown",
      "source": [
        "# MLP 2023 Term 3 OPPE 1\n",
        "**Date:** 18 NOV 2023\n",
        "\n",
        "# Please regularly save your Answers in the exam portal by clicking on \"Submit\" button\n",
        "## You can submit exam infinite time in given exam period."
      ],
      "metadata": {
        "id": "gLRM1f-5ShEw"
      }
    },
    {
      "cell_type": "code",
      "source": [
        "# @title Student's Details to be filled before the exam starts:{ form-width: \"50%\", display-mode: \"form\" }\n",
        "\n",
        "Student_Name = \"Pushpak Ruhil\" # @param {type:\"string\"}\n",
        "Student_Roll_No = \"21f2001180\" # @param {type:\"string\"}\n"
      ],
      "metadata": {
        "id": "VOK-GOIatpGh"
      },
      "execution_count": null,
      "outputs": []
    },
    {
      "cell_type": "markdown",
      "source": [
        "# Unit 1 of 2: Preprocessing"
      ],
      "metadata": {
        "id": "tJkctlvfnzMu"
      }
    },
    {
      "cell_type": "code",
      "source": [
        "#@title Q.1: Which dataset are you using for Preprocessing unit of exam? {display-mode: \"form\"}\n",
        "Dataset = \"Preprocessing1.csv\" # @param [\"Preprocessing1.csv\", \"Preprocessing2.csv\", \"Preprocessing3.csv\", \"Preprocessing4.csv\", \"Preprocessing5.csv\"]\n"
      ],
      "metadata": {
        "id": "8i7rSwFCagln"
      },
      "execution_count": null,
      "outputs": []
    },
    {
      "cell_type": "markdown",
      "source": [
        "### Q. 2:"
      ],
      "metadata": {
        "id": "Uw1RexjSnhJK"
      }
    },
    {
      "cell_type": "code",
      "execution_count": null,
      "metadata": {
        "id": "2FfA0k2KnhJL"
      },
      "outputs": [],
      "source": []
    },
    {
      "cell_type": "markdown",
      "source": [
        "### Q. 3:"
      ],
      "metadata": {
        "id": "koQSKlS2nhsW"
      }
    },
    {
      "cell_type": "code",
      "execution_count": null,
      "metadata": {
        "id": "kbGlvaHxnhsX"
      },
      "outputs": [],
      "source": []
    },
    {
      "cell_type": "markdown",
      "source": [
        "### Q. 4:"
      ],
      "metadata": {
        "id": "AHyTZdvLnh14"
      }
    },
    {
      "cell_type": "code",
      "execution_count": null,
      "metadata": {
        "id": "J2F4KP8Xnh15"
      },
      "outputs": [],
      "source": []
    },
    {
      "cell_type": "markdown",
      "source": [
        "### Q. 5:"
      ],
      "metadata": {
        "id": "aHvMKZRKnh-N"
      }
    },
    {
      "cell_type": "code",
      "execution_count": null,
      "metadata": {
        "id": "rHp9EoVUnh-O"
      },
      "outputs": [],
      "source": []
    },
    {
      "cell_type": "markdown",
      "source": [
        "### Q. 6:\n",
        "\n"
      ],
      "metadata": {
        "id": "wakf2BDAniYB"
      }
    },
    {
      "cell_type": "code",
      "execution_count": null,
      "metadata": {
        "id": "MZdT3ZH1niYC"
      },
      "outputs": [],
      "source": []
    },
    {
      "cell_type": "markdown",
      "source": [
        "### Q. 7:"
      ],
      "metadata": {
        "id": "aU_rpC49nihO"
      }
    },
    {
      "cell_type": "code",
      "execution_count": null,
      "metadata": {
        "id": "hyYzgH1unihP"
      },
      "outputs": [],
      "source": []
    },
    {
      "cell_type": "markdown",
      "source": [
        "### Q. 8:"
      ],
      "metadata": {
        "id": "6G8XIh3Zniox"
      }
    },
    {
      "cell_type": "code",
      "execution_count": null,
      "metadata": {
        "id": "6q6lSNOKniox"
      },
      "outputs": [],
      "source": []
    },
    {
      "cell_type": "markdown",
      "source": [
        "### Q. 9:"
      ],
      "metadata": {
        "id": "Ya6hm0XGniwB"
      }
    },
    {
      "cell_type": "code",
      "execution_count": null,
      "metadata": {
        "id": "awg8ffpTniwB"
      },
      "outputs": [],
      "source": []
    },
    {
      "cell_type": "markdown",
      "source": [
        "### Q. 10:"
      ],
      "metadata": {
        "id": "LFc8n8FIni3E"
      }
    },
    {
      "cell_type": "code",
      "execution_count": null,
      "metadata": {
        "id": "Bci76g7Qni3F"
      },
      "outputs": [],
      "source": []
    },
    {
      "cell_type": "markdown",
      "source": [
        "### Q. 11:"
      ],
      "metadata": {
        "id": "x7HT3SDqni9t"
      }
    },
    {
      "cell_type": "code",
      "execution_count": null,
      "metadata": {
        "id": "SZVSXKi_ni9u"
      },
      "outputs": [],
      "source": []
    },
    {
      "cell_type": "markdown",
      "source": [
        "### Q. 12:"
      ],
      "metadata": {
        "id": "jRjM0rXdnjFg"
      }
    },
    {
      "cell_type": "code",
      "execution_count": null,
      "metadata": {
        "id": "jyO_KmCCnjFh"
      },
      "outputs": [],
      "source": []
    },
    {
      "cell_type": "markdown",
      "source": [
        "### Q. 13:"
      ],
      "metadata": {
        "id": "DstfuzPRnjOB"
      }
    },
    {
      "cell_type": "code",
      "execution_count": null,
      "metadata": {
        "id": "L4CRzjjanjOC"
      },
      "outputs": [],
      "source": []
    },
    {
      "cell_type": "markdown",
      "source": [
        "# Unit 2 of 2: Model Building"
      ],
      "metadata": {
        "id": "RKdGis_-n5ht"
      }
    },
    {
      "cell_type": "code",
      "source": [
        "#@title Q.1: Which dataset are you using for Model Building unit of exam? {display-mode: \"form\"}\n",
        "Dataset = \"modelBuilding4.csv\" # @param [\"modelBuilding1.csv\", \"modelBuilding2.csv\", \"modelBuilding3.csv\", \"modelBuilding4.csv\", \"modelBuilding5.csv\"]\n"
      ],
      "metadata": {
        "id": "dKAGOrz7wFZP"
      },
      "execution_count": null,
      "outputs": []
    },
    {
      "cell_type": "code",
      "source": [],
      "metadata": {
        "id": "OcwutKr9oD8o"
      },
      "execution_count": null,
      "outputs": []
    },
    {
      "cell_type": "markdown",
      "source": [
        "### Q. 2:"
      ],
      "metadata": {
        "id": "Kd3QlUj0oD8p"
      }
    },
    {
      "cell_type": "code",
      "execution_count": null,
      "metadata": {
        "id": "EO4iS5J-oD8p"
      },
      "outputs": [],
      "source": []
    },
    {
      "cell_type": "markdown",
      "source": [
        "### Q. 3:"
      ],
      "metadata": {
        "id": "einMzBEEoD8q"
      }
    },
    {
      "cell_type": "code",
      "execution_count": null,
      "metadata": {
        "id": "x-7eep5-oD8q"
      },
      "outputs": [],
      "source": []
    },
    {
      "cell_type": "markdown",
      "source": [
        "### Q. 4:"
      ],
      "metadata": {
        "id": "YOC1sxszoD8r"
      }
    },
    {
      "cell_type": "code",
      "execution_count": null,
      "metadata": {
        "id": "psfB8bSloD8r"
      },
      "outputs": [],
      "source": []
    },
    {
      "cell_type": "markdown",
      "source": [
        "### Q. 5:"
      ],
      "metadata": {
        "id": "cyrUzaOFoD8r"
      }
    },
    {
      "cell_type": "code",
      "execution_count": null,
      "metadata": {
        "id": "TM_fDz3goD8s"
      },
      "outputs": [],
      "source": []
    },
    {
      "cell_type": "markdown",
      "source": [
        "### Q. 6:\n",
        "\n"
      ],
      "metadata": {
        "id": "QJj1LGK5oD8s"
      }
    },
    {
      "cell_type": "code",
      "execution_count": null,
      "metadata": {
        "id": "a8j5SXwmoD8t"
      },
      "outputs": [],
      "source": []
    },
    {
      "cell_type": "markdown",
      "source": [
        "### Q. 7:"
      ],
      "metadata": {
        "id": "W6VRhPn_oD8t"
      }
    },
    {
      "cell_type": "code",
      "execution_count": null,
      "metadata": {
        "id": "J0kAXrKxoD8t"
      },
      "outputs": [],
      "source": []
    }
  ]
}