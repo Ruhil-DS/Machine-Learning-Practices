{
  "nbformat": 4,
  "nbformat_minor": 0,
  "metadata": {
    "colab": {
      "provenance": []
    },
    "kernelspec": {
      "name": "python3",
      "display_name": "Python 3"
    },
    "language_info": {
      "name": "python"
    }
  },
  "cells": [
    {
      "cell_type": "code",
      "source": [
        "# @title Student's Details to be filled before the exam starts:{display-mode: \"form\" }\n",
        "\n",
        "Student_Name = \"Pushpak\" # @param {type:\"string\"}\n",
        "Student_Roll_No = \"Ruhil\" # @param {type:\"string\"}\n"
      ],
      "metadata": {
        "id": "VOK-GOIatpGh"
      },
      "execution_count": 1,
      "outputs": []
    },
    {
      "cell_type": "markdown",
      "source": [
        "## Where you have to submit the correct answers\n",
        "- Google Form\n",
        "- Select answers in colab file form-field also\n",
        "\n",
        "**Note:** We will only prioritize **Google Form** responses.\n",
        "\n",
        "- you have to make sure that the code for each question is present below the respected question number\n",
        "\n",
        "- You will receive two **dataset links** from the portal only\n",
        "  1.   Unit 1 of 2 : Preprocessing\n",
        "    -  train_test_split not required  \n",
        "  1.   Unit 2 of 2 : ModelBuilding\n",
        "    -  train_test_split required\n",
        "\n",
        "- This exam consists of a Regression problem.\n",
        "\n",
        "- The target feature in the dataset is the '**Sale Price**' column.\n",
        "- Random state should be taken as 27 wherever applicable.\n",
        "\n",
        "- in google form field [None ,Select] represents no answer given\n",
        "   - NAT : None\n",
        "   - MCQ : Select"
      ],
      "metadata": {
        "id": "cp8ljQoZBRJ2"
      }
    },
    {
      "cell_type": "markdown",
      "source": [
        "# Metadata\n",
        "\n",
        "1. Year - selling year\n",
        "1. Date - selling date\n",
        "1. Locality - locality of the property\n",
        "1. Estimated Value - estimated selling price of the property\n",
        "1. Sale Price - Selling price of the property  ▶▶▶ **Target**\n",
        "1. num_family - Number of family staying in the property\n",
        "1. Residential - Type of the property\n",
        "1. num_rooms - Number of rooms\n",
        "1. carpet_area - The area of an apartment that can be covered by a carpet or the net usable area is known as the carpet area.\n",
        "1. property_tax_rate - yearly tax of the property($)\n",
        "1. Face - Direction property is facing\n",
        "1. Bathroom Count"
      ],
      "metadata": {
        "id": "v9auhUNiS8PD"
      }
    },
    {
      "cell_type": "markdown",
      "source": [
        "# Shape of the dataset is (10000,12) for both units [Note if you are not getting this shape that means your data has not been uploaded correctly to the colab]"
      ],
      "metadata": {
        "id": "CJSFMO3iRkF3"
      }
    },
    {
      "cell_type": "markdown",
      "source": [
        "# Unit 1 of 2 : Preprocessing\n",
        "- train_test_split not required.\n",
        "- Take whole dataset to solve all the question.\\\n",
        "## [Dataset Link](https://drive.google.com/file/d/1ugXf9514sOZx5izMY7Mt6_HX8doCQLcO/view)"
      ],
      "metadata": {
        "id": "o6L0DwwbQ_CP"
      }
    },
    {
      "cell_type": "code",
      "source": [
        "# @title Q1. [marks : 1] Which dataset are you using for this exam? {vertical-output: true, display-mode: \"form\", run:\"auto\" }\n",
        "Ans1 = \"Preprocessing3.csv\" # @param [\"Preprocessing1.csv\",\"Preprocessing2.csv\",\"Preprocessing3.csv\",\"Preprocessing4.csv\",\"Preprocessing5.csv\",\"Select\"]\n",
        "# correct = \"Preprocessing3.csv\"\n",
        "# if Ans1 == correct:\n",
        "#   print(\"correct\")\n",
        "# else :\n",
        "#   print(f\"correct answer should be : {correct}\")"
      ],
      "metadata": {
        "id": "iQ48rlfZq1ny"
      },
      "execution_count": 2,
      "outputs": []
    },
    {
      "cell_type": "code",
      "source": [
        "import numpy as np\n",
        "import pandas as pd"
      ],
      "metadata": {
        "id": "vgOt2FBfarR5"
      },
      "execution_count": 3,
      "outputs": []
    },
    {
      "cell_type": "code",
      "source": [
        "df = pd.read_csv(Ans1)"
      ],
      "metadata": {
        "id": "pRgOTkPYG5e3"
      },
      "execution_count": 4,
      "outputs": []
    },
    {
      "cell_type": "code",
      "source": [
        "df.head(2)"
      ],
      "metadata": {
        "colab": {
          "base_uri": "https://localhost:8080/",
          "height": 112
        },
        "id": "i9G-YwPuG-mP",
        "outputId": "d65bfabe-907b-4b7e-f499-bb6ba5144844"
      },
      "execution_count": 5,
      "outputs": [
        {
          "output_type": "execute_result",
          "data": {
            "text/plain": [
              "         Date  Year   Locality  Estimated Value  Sale Price       Property  \\\n",
              "0  2009-01-02  2009  Greenwich              NaN   5187000.0              ?   \n",
              "1  2009-01-02  2009    Norwalk              NaN    480000.0  Single Family   \n",
              "\n",
              "      Residential  num_rooms  num_bathrooms  carpet_area  property_tax_rate  \\\n",
              "0  Detached House          3              2       1026.0           1.025953   \n",
              "1  Detached House          3              2       1051.0           1.025953   \n",
              "\n",
              "    Face  \n",
              "0  South  \n",
              "1   West  "
            ],
            "text/html": [
              "\n",
              "  <div id=\"df-d64f1151-a4d3-4ece-b23f-85e8af8c232a\" class=\"colab-df-container\">\n",
              "    <div>\n",
              "<style scoped>\n",
              "    .dataframe tbody tr th:only-of-type {\n",
              "        vertical-align: middle;\n",
              "    }\n",
              "\n",
              "    .dataframe tbody tr th {\n",
              "        vertical-align: top;\n",
              "    }\n",
              "\n",
              "    .dataframe thead th {\n",
              "        text-align: right;\n",
              "    }\n",
              "</style>\n",
              "<table border=\"1\" class=\"dataframe\">\n",
              "  <thead>\n",
              "    <tr style=\"text-align: right;\">\n",
              "      <th></th>\n",
              "      <th>Date</th>\n",
              "      <th>Year</th>\n",
              "      <th>Locality</th>\n",
              "      <th>Estimated Value</th>\n",
              "      <th>Sale Price</th>\n",
              "      <th>Property</th>\n",
              "      <th>Residential</th>\n",
              "      <th>num_rooms</th>\n",
              "      <th>num_bathrooms</th>\n",
              "      <th>carpet_area</th>\n",
              "      <th>property_tax_rate</th>\n",
              "      <th>Face</th>\n",
              "    </tr>\n",
              "  </thead>\n",
              "  <tbody>\n",
              "    <tr>\n",
              "      <th>0</th>\n",
              "      <td>2009-01-02</td>\n",
              "      <td>2009</td>\n",
              "      <td>Greenwich</td>\n",
              "      <td>NaN</td>\n",
              "      <td>5187000.0</td>\n",
              "      <td>?</td>\n",
              "      <td>Detached House</td>\n",
              "      <td>3</td>\n",
              "      <td>2</td>\n",
              "      <td>1026.0</td>\n",
              "      <td>1.025953</td>\n",
              "      <td>South</td>\n",
              "    </tr>\n",
              "    <tr>\n",
              "      <th>1</th>\n",
              "      <td>2009-01-02</td>\n",
              "      <td>2009</td>\n",
              "      <td>Norwalk</td>\n",
              "      <td>NaN</td>\n",
              "      <td>480000.0</td>\n",
              "      <td>Single Family</td>\n",
              "      <td>Detached House</td>\n",
              "      <td>3</td>\n",
              "      <td>2</td>\n",
              "      <td>1051.0</td>\n",
              "      <td>1.025953</td>\n",
              "      <td>West</td>\n",
              "    </tr>\n",
              "  </tbody>\n",
              "</table>\n",
              "</div>\n",
              "    <div class=\"colab-df-buttons\">\n",
              "\n",
              "  <div class=\"colab-df-container\">\n",
              "    <button class=\"colab-df-convert\" onclick=\"convertToInteractive('df-d64f1151-a4d3-4ece-b23f-85e8af8c232a')\"\n",
              "            title=\"Convert this dataframe to an interactive table.\"\n",
              "            style=\"display:none;\">\n",
              "\n",
              "  <svg xmlns=\"http://www.w3.org/2000/svg\" height=\"24px\" viewBox=\"0 -960 960 960\">\n",
              "    <path d=\"M120-120v-720h720v720H120Zm60-500h600v-160H180v160Zm220 220h160v-160H400v160Zm0 220h160v-160H400v160ZM180-400h160v-160H180v160Zm440 0h160v-160H620v160ZM180-180h160v-160H180v160Zm440 0h160v-160H620v160Z\"/>\n",
              "  </svg>\n",
              "    </button>\n",
              "\n",
              "  <style>\n",
              "    .colab-df-container {\n",
              "      display:flex;\n",
              "      gap: 12px;\n",
              "    }\n",
              "\n",
              "    .colab-df-convert {\n",
              "      background-color: #E8F0FE;\n",
              "      border: none;\n",
              "      border-radius: 50%;\n",
              "      cursor: pointer;\n",
              "      display: none;\n",
              "      fill: #1967D2;\n",
              "      height: 32px;\n",
              "      padding: 0 0 0 0;\n",
              "      width: 32px;\n",
              "    }\n",
              "\n",
              "    .colab-df-convert:hover {\n",
              "      background-color: #E2EBFA;\n",
              "      box-shadow: 0px 1px 2px rgba(60, 64, 67, 0.3), 0px 1px 3px 1px rgba(60, 64, 67, 0.15);\n",
              "      fill: #174EA6;\n",
              "    }\n",
              "\n",
              "    .colab-df-buttons div {\n",
              "      margin-bottom: 4px;\n",
              "    }\n",
              "\n",
              "    [theme=dark] .colab-df-convert {\n",
              "      background-color: #3B4455;\n",
              "      fill: #D2E3FC;\n",
              "    }\n",
              "\n",
              "    [theme=dark] .colab-df-convert:hover {\n",
              "      background-color: #434B5C;\n",
              "      box-shadow: 0px 1px 3px 1px rgba(0, 0, 0, 0.15);\n",
              "      filter: drop-shadow(0px 1px 2px rgba(0, 0, 0, 0.3));\n",
              "      fill: #FFFFFF;\n",
              "    }\n",
              "  </style>\n",
              "\n",
              "    <script>\n",
              "      const buttonEl =\n",
              "        document.querySelector('#df-d64f1151-a4d3-4ece-b23f-85e8af8c232a button.colab-df-convert');\n",
              "      buttonEl.style.display =\n",
              "        google.colab.kernel.accessAllowed ? 'block' : 'none';\n",
              "\n",
              "      async function convertToInteractive(key) {\n",
              "        const element = document.querySelector('#df-d64f1151-a4d3-4ece-b23f-85e8af8c232a');\n",
              "        const dataTable =\n",
              "          await google.colab.kernel.invokeFunction('convertToInteractive',\n",
              "                                                    [key], {});\n",
              "        if (!dataTable) return;\n",
              "\n",
              "        const docLinkHtml = 'Like what you see? Visit the ' +\n",
              "          '<a target=\"_blank\" href=https://colab.research.google.com/notebooks/data_table.ipynb>data table notebook</a>'\n",
              "          + ' to learn more about interactive tables.';\n",
              "        element.innerHTML = '';\n",
              "        dataTable['output_type'] = 'display_data';\n",
              "        await google.colab.output.renderOutput(dataTable, element);\n",
              "        const docLink = document.createElement('div');\n",
              "        docLink.innerHTML = docLinkHtml;\n",
              "        element.appendChild(docLink);\n",
              "      }\n",
              "    </script>\n",
              "  </div>\n",
              "\n",
              "\n",
              "<div id=\"df-2efea771-6ed1-4a59-aa83-5e72da490373\">\n",
              "  <button class=\"colab-df-quickchart\" onclick=\"quickchart('df-2efea771-6ed1-4a59-aa83-5e72da490373')\"\n",
              "            title=\"Suggest charts\"\n",
              "            style=\"display:none;\">\n",
              "\n",
              "<svg xmlns=\"http://www.w3.org/2000/svg\" height=\"24px\"viewBox=\"0 0 24 24\"\n",
              "     width=\"24px\">\n",
              "    <g>\n",
              "        <path d=\"M19 3H5c-1.1 0-2 .9-2 2v14c0 1.1.9 2 2 2h14c1.1 0 2-.9 2-2V5c0-1.1-.9-2-2-2zM9 17H7v-7h2v7zm4 0h-2V7h2v10zm4 0h-2v-4h2v4z\"/>\n",
              "    </g>\n",
              "</svg>\n",
              "  </button>\n",
              "\n",
              "<style>\n",
              "  .colab-df-quickchart {\n",
              "      --bg-color: #E8F0FE;\n",
              "      --fill-color: #1967D2;\n",
              "      --hover-bg-color: #E2EBFA;\n",
              "      --hover-fill-color: #174EA6;\n",
              "      --disabled-fill-color: #AAA;\n",
              "      --disabled-bg-color: #DDD;\n",
              "  }\n",
              "\n",
              "  [theme=dark] .colab-df-quickchart {\n",
              "      --bg-color: #3B4455;\n",
              "      --fill-color: #D2E3FC;\n",
              "      --hover-bg-color: #434B5C;\n",
              "      --hover-fill-color: #FFFFFF;\n",
              "      --disabled-bg-color: #3B4455;\n",
              "      --disabled-fill-color: #666;\n",
              "  }\n",
              "\n",
              "  .colab-df-quickchart {\n",
              "    background-color: var(--bg-color);\n",
              "    border: none;\n",
              "    border-radius: 50%;\n",
              "    cursor: pointer;\n",
              "    display: none;\n",
              "    fill: var(--fill-color);\n",
              "    height: 32px;\n",
              "    padding: 0;\n",
              "    width: 32px;\n",
              "  }\n",
              "\n",
              "  .colab-df-quickchart:hover {\n",
              "    background-color: var(--hover-bg-color);\n",
              "    box-shadow: 0 1px 2px rgba(60, 64, 67, 0.3), 0 1px 3px 1px rgba(60, 64, 67, 0.15);\n",
              "    fill: var(--button-hover-fill-color);\n",
              "  }\n",
              "\n",
              "  .colab-df-quickchart-complete:disabled,\n",
              "  .colab-df-quickchart-complete:disabled:hover {\n",
              "    background-color: var(--disabled-bg-color);\n",
              "    fill: var(--disabled-fill-color);\n",
              "    box-shadow: none;\n",
              "  }\n",
              "\n",
              "  .colab-df-spinner {\n",
              "    border: 2px solid var(--fill-color);\n",
              "    border-color: transparent;\n",
              "    border-bottom-color: var(--fill-color);\n",
              "    animation:\n",
              "      spin 1s steps(1) infinite;\n",
              "  }\n",
              "\n",
              "  @keyframes spin {\n",
              "    0% {\n",
              "      border-color: transparent;\n",
              "      border-bottom-color: var(--fill-color);\n",
              "      border-left-color: var(--fill-color);\n",
              "    }\n",
              "    20% {\n",
              "      border-color: transparent;\n",
              "      border-left-color: var(--fill-color);\n",
              "      border-top-color: var(--fill-color);\n",
              "    }\n",
              "    30% {\n",
              "      border-color: transparent;\n",
              "      border-left-color: var(--fill-color);\n",
              "      border-top-color: var(--fill-color);\n",
              "      border-right-color: var(--fill-color);\n",
              "    }\n",
              "    40% {\n",
              "      border-color: transparent;\n",
              "      border-right-color: var(--fill-color);\n",
              "      border-top-color: var(--fill-color);\n",
              "    }\n",
              "    60% {\n",
              "      border-color: transparent;\n",
              "      border-right-color: var(--fill-color);\n",
              "    }\n",
              "    80% {\n",
              "      border-color: transparent;\n",
              "      border-right-color: var(--fill-color);\n",
              "      border-bottom-color: var(--fill-color);\n",
              "    }\n",
              "    90% {\n",
              "      border-color: transparent;\n",
              "      border-bottom-color: var(--fill-color);\n",
              "    }\n",
              "  }\n",
              "</style>\n",
              "\n",
              "  <script>\n",
              "    async function quickchart(key) {\n",
              "      const quickchartButtonEl =\n",
              "        document.querySelector('#' + key + ' button');\n",
              "      quickchartButtonEl.disabled = true;  // To prevent multiple clicks.\n",
              "      quickchartButtonEl.classList.add('colab-df-spinner');\n",
              "      try {\n",
              "        const charts = await google.colab.kernel.invokeFunction(\n",
              "            'suggestCharts', [key], {});\n",
              "      } catch (error) {\n",
              "        console.error('Error during call to suggestCharts:', error);\n",
              "      }\n",
              "      quickchartButtonEl.classList.remove('colab-df-spinner');\n",
              "      quickchartButtonEl.classList.add('colab-df-quickchart-complete');\n",
              "    }\n",
              "    (() => {\n",
              "      let quickchartButtonEl =\n",
              "        document.querySelector('#df-2efea771-6ed1-4a59-aa83-5e72da490373 button');\n",
              "      quickchartButtonEl.style.display =\n",
              "        google.colab.kernel.accessAllowed ? 'block' : 'none';\n",
              "    })();\n",
              "  </script>\n",
              "</div>\n",
              "    </div>\n",
              "  </div>\n"
            ]
          },
          "metadata": {},
          "execution_count": 5
        }
      ]
    },
    {
      "cell_type": "code",
      "source": [
        "df.Locality.unique()"
      ],
      "metadata": {
        "colab": {
          "base_uri": "https://localhost:8080/"
        },
        "id": "MernWuYuG_pt",
        "outputId": "49a0e07e-cc74-49f0-a46b-22fe8ce6c7d9"
      },
      "execution_count": 9,
      "outputs": [
        {
          "output_type": "execute_result",
          "data": {
            "text/plain": [
              "array(['Greenwich', 'Norwalk', 'Waterbury', nan, 'Bridgeport',\n",
              "       'Fairfield', 'West Hartford', 'Stamford'], dtype=object)"
            ]
          },
          "metadata": {},
          "execution_count": 9
        }
      ]
    },
    {
      "cell_type": "code",
      "source": [
        "# @title Q2. [marks : 4] What are the unique values present in the Locality feature of the dataset? {vertical-output: true, display-mode: \"form\" }\n",
        "Ans2 = \" [Bridgeport, Fairfield, Greenwich, Norwalk,Stamford,Waterbury, West Hartford]\" # @param [\"[Detached House, Duplex, Triplex, Fourplex]\", \" [West Hartford, Waterbury, Norwalk]\", \"[Boston, California, Greenwich, Stamford]\", \" [Bridgeport, Fairfield, Greenwich, Norwalk,Stamford,Waterbury, West Hartford]\", \"Select\"]\n",
        "\n",
        "correct = \"Preprocessing3.csv\"\n",
        "if Ans1 == correct:\n",
        "  print(\"correct\")\n",
        "else :\n",
        "  print(f\"correct answer should be : {correct}\")"
      ],
      "metadata": {
        "colab": {
          "base_uri": "https://localhost:8080/"
        },
        "id": "JdPtaP8-xKDy",
        "outputId": "616563bc-09d8-4350-bf41-0841ae43d3b3"
      },
      "execution_count": 10,
      "outputs": [
        {
          "output_type": "stream",
          "name": "stdout",
          "text": [
            "correct\n"
          ]
        }
      ]
    },
    {
      "cell_type": "code",
      "source": [
        "df.info()"
      ],
      "metadata": {
        "colab": {
          "base_uri": "https://localhost:8080/"
        },
        "id": "h2g7SdKlHTqy",
        "outputId": "a78e25ce-8a86-44d5-a9b8-6f3ce0c70aaf"
      },
      "execution_count": 11,
      "outputs": [
        {
          "output_type": "stream",
          "name": "stdout",
          "text": [
            "<class 'pandas.core.frame.DataFrame'>\n",
            "RangeIndex: 10000 entries, 0 to 9999\n",
            "Data columns (total 12 columns):\n",
            " #   Column             Non-Null Count  Dtype  \n",
            "---  ------             --------------  -----  \n",
            " 0   Date               10000 non-null  object \n",
            " 1   Year               10000 non-null  int64  \n",
            " 2   Locality           8715 non-null   object \n",
            " 3   Estimated Value    8719 non-null   float64\n",
            " 4   Sale Price         10000 non-null  float64\n",
            " 5   Property           10000 non-null  object \n",
            " 6   Residential        10000 non-null  object \n",
            " 7   num_rooms          10000 non-null  int64  \n",
            " 8   num_bathrooms      10000 non-null  int64  \n",
            " 9   carpet_area        8718 non-null   float64\n",
            " 10  property_tax_rate  10000 non-null  float64\n",
            " 11  Face               10000 non-null  object \n",
            "dtypes: float64(4), int64(3), object(5)\n",
            "memory usage: 937.6+ KB\n"
          ]
        }
      ]
    },
    {
      "cell_type": "code",
      "source": [
        "df.sample(2)"
      ],
      "metadata": {
        "colab": {
          "base_uri": "https://localhost:8080/",
          "height": 112
        },
        "id": "O37grAqLHr4y",
        "outputId": "d626e46e-cad9-489a-b570-fc932e4c416c"
      },
      "execution_count": 13,
      "outputs": [
        {
          "output_type": "execute_result",
          "data": {
            "text/plain": [
              "            Date  Year   Locality  Estimated Value  Sale Price       Property  \\\n",
              "3414  2014-06-29  2014  Greenwich         664160.0    755000.0  Single Family   \n",
              "1905  2012-02-22  2012    Norwalk         483490.0    589000.0  Single Family   \n",
              "\n",
              "         Residential  num_rooms  num_bathrooms  carpet_area  \\\n",
              "3414  Detached House          3              2       1040.0   \n",
              "1905  Detached House          3              3        901.0   \n",
              "\n",
              "      property_tax_rate  Face  \n",
              "3414           1.350819  West  \n",
              "1905           1.021958  West  "
            ],
            "text/html": [
              "\n",
              "  <div id=\"df-f4fb4729-e4b7-4334-97f1-02930a55ae6e\" class=\"colab-df-container\">\n",
              "    <div>\n",
              "<style scoped>\n",
              "    .dataframe tbody tr th:only-of-type {\n",
              "        vertical-align: middle;\n",
              "    }\n",
              "\n",
              "    .dataframe tbody tr th {\n",
              "        vertical-align: top;\n",
              "    }\n",
              "\n",
              "    .dataframe thead th {\n",
              "        text-align: right;\n",
              "    }\n",
              "</style>\n",
              "<table border=\"1\" class=\"dataframe\">\n",
              "  <thead>\n",
              "    <tr style=\"text-align: right;\">\n",
              "      <th></th>\n",
              "      <th>Date</th>\n",
              "      <th>Year</th>\n",
              "      <th>Locality</th>\n",
              "      <th>Estimated Value</th>\n",
              "      <th>Sale Price</th>\n",
              "      <th>Property</th>\n",
              "      <th>Residential</th>\n",
              "      <th>num_rooms</th>\n",
              "      <th>num_bathrooms</th>\n",
              "      <th>carpet_area</th>\n",
              "      <th>property_tax_rate</th>\n",
              "      <th>Face</th>\n",
              "    </tr>\n",
              "  </thead>\n",
              "  <tbody>\n",
              "    <tr>\n",
              "      <th>3414</th>\n",
              "      <td>2014-06-29</td>\n",
              "      <td>2014</td>\n",
              "      <td>Greenwich</td>\n",
              "      <td>664160.0</td>\n",
              "      <td>755000.0</td>\n",
              "      <td>Single Family</td>\n",
              "      <td>Detached House</td>\n",
              "      <td>3</td>\n",
              "      <td>2</td>\n",
              "      <td>1040.0</td>\n",
              "      <td>1.350819</td>\n",
              "      <td>West</td>\n",
              "    </tr>\n",
              "    <tr>\n",
              "      <th>1905</th>\n",
              "      <td>2012-02-22</td>\n",
              "      <td>2012</td>\n",
              "      <td>Norwalk</td>\n",
              "      <td>483490.0</td>\n",
              "      <td>589000.0</td>\n",
              "      <td>Single Family</td>\n",
              "      <td>Detached House</td>\n",
              "      <td>3</td>\n",
              "      <td>3</td>\n",
              "      <td>901.0</td>\n",
              "      <td>1.021958</td>\n",
              "      <td>West</td>\n",
              "    </tr>\n",
              "  </tbody>\n",
              "</table>\n",
              "</div>\n",
              "    <div class=\"colab-df-buttons\">\n",
              "\n",
              "  <div class=\"colab-df-container\">\n",
              "    <button class=\"colab-df-convert\" onclick=\"convertToInteractive('df-f4fb4729-e4b7-4334-97f1-02930a55ae6e')\"\n",
              "            title=\"Convert this dataframe to an interactive table.\"\n",
              "            style=\"display:none;\">\n",
              "\n",
              "  <svg xmlns=\"http://www.w3.org/2000/svg\" height=\"24px\" viewBox=\"0 -960 960 960\">\n",
              "    <path d=\"M120-120v-720h720v720H120Zm60-500h600v-160H180v160Zm220 220h160v-160H400v160Zm0 220h160v-160H400v160ZM180-400h160v-160H180v160Zm440 0h160v-160H620v160ZM180-180h160v-160H180v160Zm440 0h160v-160H620v160Z\"/>\n",
              "  </svg>\n",
              "    </button>\n",
              "\n",
              "  <style>\n",
              "    .colab-df-container {\n",
              "      display:flex;\n",
              "      gap: 12px;\n",
              "    }\n",
              "\n",
              "    .colab-df-convert {\n",
              "      background-color: #E8F0FE;\n",
              "      border: none;\n",
              "      border-radius: 50%;\n",
              "      cursor: pointer;\n",
              "      display: none;\n",
              "      fill: #1967D2;\n",
              "      height: 32px;\n",
              "      padding: 0 0 0 0;\n",
              "      width: 32px;\n",
              "    }\n",
              "\n",
              "    .colab-df-convert:hover {\n",
              "      background-color: #E2EBFA;\n",
              "      box-shadow: 0px 1px 2px rgba(60, 64, 67, 0.3), 0px 1px 3px 1px rgba(60, 64, 67, 0.15);\n",
              "      fill: #174EA6;\n",
              "    }\n",
              "\n",
              "    .colab-df-buttons div {\n",
              "      margin-bottom: 4px;\n",
              "    }\n",
              "\n",
              "    [theme=dark] .colab-df-convert {\n",
              "      background-color: #3B4455;\n",
              "      fill: #D2E3FC;\n",
              "    }\n",
              "\n",
              "    [theme=dark] .colab-df-convert:hover {\n",
              "      background-color: #434B5C;\n",
              "      box-shadow: 0px 1px 3px 1px rgba(0, 0, 0, 0.15);\n",
              "      filter: drop-shadow(0px 1px 2px rgba(0, 0, 0, 0.3));\n",
              "      fill: #FFFFFF;\n",
              "    }\n",
              "  </style>\n",
              "\n",
              "    <script>\n",
              "      const buttonEl =\n",
              "        document.querySelector('#df-f4fb4729-e4b7-4334-97f1-02930a55ae6e button.colab-df-convert');\n",
              "      buttonEl.style.display =\n",
              "        google.colab.kernel.accessAllowed ? 'block' : 'none';\n",
              "\n",
              "      async function convertToInteractive(key) {\n",
              "        const element = document.querySelector('#df-f4fb4729-e4b7-4334-97f1-02930a55ae6e');\n",
              "        const dataTable =\n",
              "          await google.colab.kernel.invokeFunction('convertToInteractive',\n",
              "                                                    [key], {});\n",
              "        if (!dataTable) return;\n",
              "\n",
              "        const docLinkHtml = 'Like what you see? Visit the ' +\n",
              "          '<a target=\"_blank\" href=https://colab.research.google.com/notebooks/data_table.ipynb>data table notebook</a>'\n",
              "          + ' to learn more about interactive tables.';\n",
              "        element.innerHTML = '';\n",
              "        dataTable['output_type'] = 'display_data';\n",
              "        await google.colab.output.renderOutput(dataTable, element);\n",
              "        const docLink = document.createElement('div');\n",
              "        docLink.innerHTML = docLinkHtml;\n",
              "        element.appendChild(docLink);\n",
              "      }\n",
              "    </script>\n",
              "  </div>\n",
              "\n",
              "\n",
              "<div id=\"df-5893a7e6-92af-4f42-ab9a-c8d78467db59\">\n",
              "  <button class=\"colab-df-quickchart\" onclick=\"quickchart('df-5893a7e6-92af-4f42-ab9a-c8d78467db59')\"\n",
              "            title=\"Suggest charts\"\n",
              "            style=\"display:none;\">\n",
              "\n",
              "<svg xmlns=\"http://www.w3.org/2000/svg\" height=\"24px\"viewBox=\"0 0 24 24\"\n",
              "     width=\"24px\">\n",
              "    <g>\n",
              "        <path d=\"M19 3H5c-1.1 0-2 .9-2 2v14c0 1.1.9 2 2 2h14c1.1 0 2-.9 2-2V5c0-1.1-.9-2-2-2zM9 17H7v-7h2v7zm4 0h-2V7h2v10zm4 0h-2v-4h2v4z\"/>\n",
              "    </g>\n",
              "</svg>\n",
              "  </button>\n",
              "\n",
              "<style>\n",
              "  .colab-df-quickchart {\n",
              "      --bg-color: #E8F0FE;\n",
              "      --fill-color: #1967D2;\n",
              "      --hover-bg-color: #E2EBFA;\n",
              "      --hover-fill-color: #174EA6;\n",
              "      --disabled-fill-color: #AAA;\n",
              "      --disabled-bg-color: #DDD;\n",
              "  }\n",
              "\n",
              "  [theme=dark] .colab-df-quickchart {\n",
              "      --bg-color: #3B4455;\n",
              "      --fill-color: #D2E3FC;\n",
              "      --hover-bg-color: #434B5C;\n",
              "      --hover-fill-color: #FFFFFF;\n",
              "      --disabled-bg-color: #3B4455;\n",
              "      --disabled-fill-color: #666;\n",
              "  }\n",
              "\n",
              "  .colab-df-quickchart {\n",
              "    background-color: var(--bg-color);\n",
              "    border: none;\n",
              "    border-radius: 50%;\n",
              "    cursor: pointer;\n",
              "    display: none;\n",
              "    fill: var(--fill-color);\n",
              "    height: 32px;\n",
              "    padding: 0;\n",
              "    width: 32px;\n",
              "  }\n",
              "\n",
              "  .colab-df-quickchart:hover {\n",
              "    background-color: var(--hover-bg-color);\n",
              "    box-shadow: 0 1px 2px rgba(60, 64, 67, 0.3), 0 1px 3px 1px rgba(60, 64, 67, 0.15);\n",
              "    fill: var(--button-hover-fill-color);\n",
              "  }\n",
              "\n",
              "  .colab-df-quickchart-complete:disabled,\n",
              "  .colab-df-quickchart-complete:disabled:hover {\n",
              "    background-color: var(--disabled-bg-color);\n",
              "    fill: var(--disabled-fill-color);\n",
              "    box-shadow: none;\n",
              "  }\n",
              "\n",
              "  .colab-df-spinner {\n",
              "    border: 2px solid var(--fill-color);\n",
              "    border-color: transparent;\n",
              "    border-bottom-color: var(--fill-color);\n",
              "    animation:\n",
              "      spin 1s steps(1) infinite;\n",
              "  }\n",
              "\n",
              "  @keyframes spin {\n",
              "    0% {\n",
              "      border-color: transparent;\n",
              "      border-bottom-color: var(--fill-color);\n",
              "      border-left-color: var(--fill-color);\n",
              "    }\n",
              "    20% {\n",
              "      border-color: transparent;\n",
              "      border-left-color: var(--fill-color);\n",
              "      border-top-color: var(--fill-color);\n",
              "    }\n",
              "    30% {\n",
              "      border-color: transparent;\n",
              "      border-left-color: var(--fill-color);\n",
              "      border-top-color: var(--fill-color);\n",
              "      border-right-color: var(--fill-color);\n",
              "    }\n",
              "    40% {\n",
              "      border-color: transparent;\n",
              "      border-right-color: var(--fill-color);\n",
              "      border-top-color: var(--fill-color);\n",
              "    }\n",
              "    60% {\n",
              "      border-color: transparent;\n",
              "      border-right-color: var(--fill-color);\n",
              "    }\n",
              "    80% {\n",
              "      border-color: transparent;\n",
              "      border-right-color: var(--fill-color);\n",
              "      border-bottom-color: var(--fill-color);\n",
              "    }\n",
              "    90% {\n",
              "      border-color: transparent;\n",
              "      border-bottom-color: var(--fill-color);\n",
              "    }\n",
              "  }\n",
              "</style>\n",
              "\n",
              "  <script>\n",
              "    async function quickchart(key) {\n",
              "      const quickchartButtonEl =\n",
              "        document.querySelector('#' + key + ' button');\n",
              "      quickchartButtonEl.disabled = true;  // To prevent multiple clicks.\n",
              "      quickchartButtonEl.classList.add('colab-df-spinner');\n",
              "      try {\n",
              "        const charts = await google.colab.kernel.invokeFunction(\n",
              "            'suggestCharts', [key], {});\n",
              "      } catch (error) {\n",
              "        console.error('Error during call to suggestCharts:', error);\n",
              "      }\n",
              "      quickchartButtonEl.classList.remove('colab-df-spinner');\n",
              "      quickchartButtonEl.classList.add('colab-df-quickchart-complete');\n",
              "    }\n",
              "    (() => {\n",
              "      let quickchartButtonEl =\n",
              "        document.querySelector('#df-5893a7e6-92af-4f42-ab9a-c8d78467db59 button');\n",
              "      quickchartButtonEl.style.display =\n",
              "        google.colab.kernel.accessAllowed ? 'block' : 'none';\n",
              "    })();\n",
              "  </script>\n",
              "</div>\n",
              "    </div>\n",
              "  </div>\n"
            ]
          },
          "metadata": {},
          "execution_count": 13
        }
      ]
    },
    {
      "cell_type": "code",
      "source": [
        "#@title Q.3 [Marks: 4] Which of the following columns have categorical data?{vertical-output: true, display-mode: \"form\", run:\"auto\" }\n",
        "Ans3 = \"[Locality,Property,Face]\" # @param [\"[Estimated Value, Locality,Property]\",\"[Estimated Value,Property,Face]\", \"[Locality,Property,Face]\", \"[num_bathrooms, Face, Year]\", \"Select\"]\n",
        "print(Ans3)"
      ],
      "metadata": {
        "id": "Ucx5gHksGynf",
        "colab": {
          "base_uri": "https://localhost:8080/"
        },
        "outputId": "8f77cf96-d89c-48de-8143-7ee389164524"
      },
      "execution_count": 14,
      "outputs": [
        {
          "output_type": "stream",
          "name": "stdout",
          "text": [
            "[Locality,Property,Face]\n"
          ]
        }
      ]
    },
    {
      "cell_type": "code",
      "source": [
        "df.isnull().sum() + (df=='?').sum()"
      ],
      "metadata": {
        "colab": {
          "base_uri": "https://localhost:8080/"
        },
        "id": "cQqsBjBuH5eY",
        "outputId": "65e1a12d-50e8-4cd3-864c-ad2d3a353de8"
      },
      "execution_count": 20,
      "outputs": [
        {
          "output_type": "execute_result",
          "data": {
            "text/plain": [
              "Date                    0\n",
              "Year                    0\n",
              "Locality             1285\n",
              "Estimated Value      1281\n",
              "Sale Price              0\n",
              "Property             1873\n",
              "Residential             0\n",
              "num_rooms               0\n",
              "num_bathrooms           0\n",
              "carpet_area          1282\n",
              "property_tax_rate       0\n",
              "Face                    0\n",
              "dtype: int64"
            ]
          },
          "metadata": {},
          "execution_count": 20
        }
      ]
    },
    {
      "cell_type": "code",
      "source": [
        "#@title Q4 [marks: 4] Which of the following features have `missing`(NaN) or unknown (\"?\") values present in the dataset? {vertical-output: true, display-mode: \"form\", run:\"auto\" }\n",
        "Ans4 = \"[Estimated Value, Locality,Property]\" # @param [\"[Estimated Value, Locality,Property]\",\"[Estimated Value,Property,Face]\", \"[Locality,Property,Face]\", \"[num_bathrooms, Face, Year]\", \"Select\"]\n",
        "print(Ans4)"
      ],
      "metadata": {
        "id": "pn-AI_QMGygd",
        "colab": {
          "base_uri": "https://localhost:8080/"
        },
        "outputId": "963522d4-fcde-431c-c67b-89f72cc760e9"
      },
      "execution_count": 21,
      "outputs": [
        {
          "output_type": "stream",
          "name": "stdout",
          "text": [
            "[Estimated Value, Locality,Property]\n"
          ]
        }
      ]
    },
    {
      "cell_type": "code",
      "source": [
        "(df.query(\"(Year == 2022) & (Locality == 'Greenwich') & (num_rooms >=3) & ((Face == 'North') | (Face == 'East'))\")).shape"
      ],
      "metadata": {
        "colab": {
          "base_uri": "https://localhost:8080/"
        },
        "id": "WF-ivYbOIQuI",
        "outputId": "f113337e-cf76-442c-cca1-c2c1bf2fc383"
      },
      "execution_count": 26,
      "outputs": [
        {
          "output_type": "execute_result",
          "data": {
            "text/plain": [
              "(35, 12)"
            ]
          },
          "metadata": {},
          "execution_count": 26
        }
      ]
    },
    {
      "cell_type": "code",
      "source": [],
      "metadata": {
        "id": "mPwHj5HbIQPo"
      },
      "execution_count": null,
      "outputs": []
    },
    {
      "cell_type": "code",
      "source": [
        "# @title Q5[marks:4] In the **Year** 2022, how many houses (rows) located in the Greenwich **Locality** have more than equal to 3 **num_room**, and **facing** towards either the North or East? {  vertical-output: true, display-mode: \"form\" }\n",
        "Ans5 = 35 # @param {type:\"integer\"}\n",
        "print(Ans5)\n"
      ],
      "metadata": {
        "id": "vli2c284iubS",
        "colab": {
          "base_uri": "https://localhost:8080/"
        },
        "outputId": "ce28ac8f-c2b2-44c0-8e14-023e35ff3620"
      },
      "execution_count": 27,
      "outputs": [
        {
          "output_type": "stream",
          "name": "stdout",
          "text": [
            "35\n"
          ]
        }
      ]
    },
    {
      "cell_type": "markdown",
      "source": [
        "# Rules for Imputing the missing(NaN) or unknown (\"?\") values:\n",
        "- In `Preprocessing unit` train_test_split is **not requred**. Take whole dataset to solve all the question\n",
        "- compute the instructed statistical values for different columns in to repalce missing(NaN) and unknown(\"?\") values respectively.\n",
        "- Ignore the missing and unknown values while calculating the statistical values.\n",
        "\n",
        "* Replace missing values(NaN) with the MOST FREQUENT value of the **Locality** feature\n",
        "* Repalce missing values(NaN) with the MEDIAN value of the **Estimated Value** feature\n",
        "* Replace missing values(NaN) with the MEAN value of the **carpet_area** feature\n",
        "* Replace Unknown values(\"?\") with the MOST FREQUENT value of the **Property**.\n",
        "\n",
        "- Write the answers related to the above imputation in below questions respectively.\n"
      ],
      "metadata": {
        "id": "pfXCwvwTGydl"
      }
    },
    {
      "cell_type": "code",
      "source": [
        "df.mean(numeric_only=True)"
      ],
      "metadata": {
        "colab": {
          "base_uri": "https://localhost:8080/"
        },
        "id": "FVhwmZlHJJnI",
        "outputId": "bb7f6866-1956-4402-8009-748902d4204a"
      },
      "execution_count": 29,
      "outputs": [
        {
          "output_type": "execute_result",
          "data": {
            "text/plain": [
              "Year                   2015.920200\n",
              "Estimated Value      429623.569102\n",
              "Sale Price           611374.759639\n",
              "num_rooms                 3.328900\n",
              "num_bathrooms             2.330400\n",
              "carpet_area            1112.476715\n",
              "property_tax_rate         1.147900\n",
              "dtype: float64"
            ]
          },
          "metadata": {},
          "execution_count": 29
        }
      ]
    },
    {
      "cell_type": "code",
      "source": [
        "from sklearn.impute import SimpleImputer\n",
        "from sklearn.compose import ColumnTransformer\n",
        "from sklearn.pipeline import Pipeline"
      ],
      "metadata": {
        "id": "9Ohf1KNcJgz7"
      },
      "execution_count": 31,
      "outputs": []
    },
    {
      "cell_type": "code",
      "source": [
        "col_trans = ColumnTransformer([\n",
        "    ('locality', SimpleImputer(strategy='most_frequent'), ['Locality']),\n",
        "    ('estimated_value', SimpleImputer(strategy='median'), ['Estimated Value']),\n",
        "    ('carpet_area', SimpleImputer(strategy='mean'), ['carpet_area']),\n",
        "    ('property', SimpleImputer(strategy='most_frequent', missing_values='?'), ['Property'])\n",
        "], remainder='passthrough', verbose_feature_names_out=False)"
      ],
      "metadata": {
        "id": "w1y4SoiaJgxL"
      },
      "execution_count": 54,
      "outputs": []
    },
    {
      "cell_type": "code",
      "source": [
        "df_trans = col_trans.fit_transform(df)"
      ],
      "metadata": {
        "id": "5E4ci8TZJguo"
      },
      "execution_count": 55,
      "outputs": []
    },
    {
      "cell_type": "code",
      "source": [
        "df_trans = pd.DataFrame(df_trans, columns=col_trans.get_feature_names_out())"
      ],
      "metadata": {
        "id": "SduuwQrdKsl6"
      },
      "execution_count": 56,
      "outputs": []
    },
    {
      "cell_type": "code",
      "source": [
        "df_trans.head(2)"
      ],
      "metadata": {
        "colab": {
          "base_uri": "https://localhost:8080/",
          "height": 112
        },
        "id": "76UnmU4ZJgJq",
        "outputId": "4c63e3ec-d93d-48b4-e3f6-8d03245a4fd0"
      },
      "execution_count": 70,
      "outputs": [
        {
          "output_type": "execute_result",
          "data": {
            "text/plain": [
              "    Locality Estimated Value carpet_area       Property        Date  Year  \\\n",
              "0  Greenwich        230090.0      1026.0  Single Family  2009-01-02  2009   \n",
              "1    Norwalk        230090.0      1051.0  Single Family  2009-01-02  2009   \n",
              "\n",
              "  Sale Price     Residential num_rooms num_bathrooms property_tax_rate   Face  \n",
              "0  5187000.0  Detached House         3             2          1.025953  South  \n",
              "1   480000.0  Detached House         3             2          1.025953   West  "
            ],
            "text/html": [
              "\n",
              "  <div id=\"df-e8207add-feb3-48d6-b3b0-cac8aa1333f7\" class=\"colab-df-container\">\n",
              "    <div>\n",
              "<style scoped>\n",
              "    .dataframe tbody tr th:only-of-type {\n",
              "        vertical-align: middle;\n",
              "    }\n",
              "\n",
              "    .dataframe tbody tr th {\n",
              "        vertical-align: top;\n",
              "    }\n",
              "\n",
              "    .dataframe thead th {\n",
              "        text-align: right;\n",
              "    }\n",
              "</style>\n",
              "<table border=\"1\" class=\"dataframe\">\n",
              "  <thead>\n",
              "    <tr style=\"text-align: right;\">\n",
              "      <th></th>\n",
              "      <th>Locality</th>\n",
              "      <th>Estimated Value</th>\n",
              "      <th>carpet_area</th>\n",
              "      <th>Property</th>\n",
              "      <th>Date</th>\n",
              "      <th>Year</th>\n",
              "      <th>Sale Price</th>\n",
              "      <th>Residential</th>\n",
              "      <th>num_rooms</th>\n",
              "      <th>num_bathrooms</th>\n",
              "      <th>property_tax_rate</th>\n",
              "      <th>Face</th>\n",
              "    </tr>\n",
              "  </thead>\n",
              "  <tbody>\n",
              "    <tr>\n",
              "      <th>0</th>\n",
              "      <td>Greenwich</td>\n",
              "      <td>230090.0</td>\n",
              "      <td>1026.0</td>\n",
              "      <td>Single Family</td>\n",
              "      <td>2009-01-02</td>\n",
              "      <td>2009</td>\n",
              "      <td>5187000.0</td>\n",
              "      <td>Detached House</td>\n",
              "      <td>3</td>\n",
              "      <td>2</td>\n",
              "      <td>1.025953</td>\n",
              "      <td>South</td>\n",
              "    </tr>\n",
              "    <tr>\n",
              "      <th>1</th>\n",
              "      <td>Norwalk</td>\n",
              "      <td>230090.0</td>\n",
              "      <td>1051.0</td>\n",
              "      <td>Single Family</td>\n",
              "      <td>2009-01-02</td>\n",
              "      <td>2009</td>\n",
              "      <td>480000.0</td>\n",
              "      <td>Detached House</td>\n",
              "      <td>3</td>\n",
              "      <td>2</td>\n",
              "      <td>1.025953</td>\n",
              "      <td>West</td>\n",
              "    </tr>\n",
              "  </tbody>\n",
              "</table>\n",
              "</div>\n",
              "    <div class=\"colab-df-buttons\">\n",
              "\n",
              "  <div class=\"colab-df-container\">\n",
              "    <button class=\"colab-df-convert\" onclick=\"convertToInteractive('df-e8207add-feb3-48d6-b3b0-cac8aa1333f7')\"\n",
              "            title=\"Convert this dataframe to an interactive table.\"\n",
              "            style=\"display:none;\">\n",
              "\n",
              "  <svg xmlns=\"http://www.w3.org/2000/svg\" height=\"24px\" viewBox=\"0 -960 960 960\">\n",
              "    <path d=\"M120-120v-720h720v720H120Zm60-500h600v-160H180v160Zm220 220h160v-160H400v160Zm0 220h160v-160H400v160ZM180-400h160v-160H180v160Zm440 0h160v-160H620v160ZM180-180h160v-160H180v160Zm440 0h160v-160H620v160Z\"/>\n",
              "  </svg>\n",
              "    </button>\n",
              "\n",
              "  <style>\n",
              "    .colab-df-container {\n",
              "      display:flex;\n",
              "      gap: 12px;\n",
              "    }\n",
              "\n",
              "    .colab-df-convert {\n",
              "      background-color: #E8F0FE;\n",
              "      border: none;\n",
              "      border-radius: 50%;\n",
              "      cursor: pointer;\n",
              "      display: none;\n",
              "      fill: #1967D2;\n",
              "      height: 32px;\n",
              "      padding: 0 0 0 0;\n",
              "      width: 32px;\n",
              "    }\n",
              "\n",
              "    .colab-df-convert:hover {\n",
              "      background-color: #E2EBFA;\n",
              "      box-shadow: 0px 1px 2px rgba(60, 64, 67, 0.3), 0px 1px 3px 1px rgba(60, 64, 67, 0.15);\n",
              "      fill: #174EA6;\n",
              "    }\n",
              "\n",
              "    .colab-df-buttons div {\n",
              "      margin-bottom: 4px;\n",
              "    }\n",
              "\n",
              "    [theme=dark] .colab-df-convert {\n",
              "      background-color: #3B4455;\n",
              "      fill: #D2E3FC;\n",
              "    }\n",
              "\n",
              "    [theme=dark] .colab-df-convert:hover {\n",
              "      background-color: #434B5C;\n",
              "      box-shadow: 0px 1px 3px 1px rgba(0, 0, 0, 0.15);\n",
              "      filter: drop-shadow(0px 1px 2px rgba(0, 0, 0, 0.3));\n",
              "      fill: #FFFFFF;\n",
              "    }\n",
              "  </style>\n",
              "\n",
              "    <script>\n",
              "      const buttonEl =\n",
              "        document.querySelector('#df-e8207add-feb3-48d6-b3b0-cac8aa1333f7 button.colab-df-convert');\n",
              "      buttonEl.style.display =\n",
              "        google.colab.kernel.accessAllowed ? 'block' : 'none';\n",
              "\n",
              "      async function convertToInteractive(key) {\n",
              "        const element = document.querySelector('#df-e8207add-feb3-48d6-b3b0-cac8aa1333f7');\n",
              "        const dataTable =\n",
              "          await google.colab.kernel.invokeFunction('convertToInteractive',\n",
              "                                                    [key], {});\n",
              "        if (!dataTable) return;\n",
              "\n",
              "        const docLinkHtml = 'Like what you see? Visit the ' +\n",
              "          '<a target=\"_blank\" href=https://colab.research.google.com/notebooks/data_table.ipynb>data table notebook</a>'\n",
              "          + ' to learn more about interactive tables.';\n",
              "        element.innerHTML = '';\n",
              "        dataTable['output_type'] = 'display_data';\n",
              "        await google.colab.output.renderOutput(dataTable, element);\n",
              "        const docLink = document.createElement('div');\n",
              "        docLink.innerHTML = docLinkHtml;\n",
              "        element.appendChild(docLink);\n",
              "      }\n",
              "    </script>\n",
              "  </div>\n",
              "\n",
              "\n",
              "<div id=\"df-36ec5bec-0b29-4ec9-80ee-00e0a8dee712\">\n",
              "  <button class=\"colab-df-quickchart\" onclick=\"quickchart('df-36ec5bec-0b29-4ec9-80ee-00e0a8dee712')\"\n",
              "            title=\"Suggest charts\"\n",
              "            style=\"display:none;\">\n",
              "\n",
              "<svg xmlns=\"http://www.w3.org/2000/svg\" height=\"24px\"viewBox=\"0 0 24 24\"\n",
              "     width=\"24px\">\n",
              "    <g>\n",
              "        <path d=\"M19 3H5c-1.1 0-2 .9-2 2v14c0 1.1.9 2 2 2h14c1.1 0 2-.9 2-2V5c0-1.1-.9-2-2-2zM9 17H7v-7h2v7zm4 0h-2V7h2v10zm4 0h-2v-4h2v4z\"/>\n",
              "    </g>\n",
              "</svg>\n",
              "  </button>\n",
              "\n",
              "<style>\n",
              "  .colab-df-quickchart {\n",
              "      --bg-color: #E8F0FE;\n",
              "      --fill-color: #1967D2;\n",
              "      --hover-bg-color: #E2EBFA;\n",
              "      --hover-fill-color: #174EA6;\n",
              "      --disabled-fill-color: #AAA;\n",
              "      --disabled-bg-color: #DDD;\n",
              "  }\n",
              "\n",
              "  [theme=dark] .colab-df-quickchart {\n",
              "      --bg-color: #3B4455;\n",
              "      --fill-color: #D2E3FC;\n",
              "      --hover-bg-color: #434B5C;\n",
              "      --hover-fill-color: #FFFFFF;\n",
              "      --disabled-bg-color: #3B4455;\n",
              "      --disabled-fill-color: #666;\n",
              "  }\n",
              "\n",
              "  .colab-df-quickchart {\n",
              "    background-color: var(--bg-color);\n",
              "    border: none;\n",
              "    border-radius: 50%;\n",
              "    cursor: pointer;\n",
              "    display: none;\n",
              "    fill: var(--fill-color);\n",
              "    height: 32px;\n",
              "    padding: 0;\n",
              "    width: 32px;\n",
              "  }\n",
              "\n",
              "  .colab-df-quickchart:hover {\n",
              "    background-color: var(--hover-bg-color);\n",
              "    box-shadow: 0 1px 2px rgba(60, 64, 67, 0.3), 0 1px 3px 1px rgba(60, 64, 67, 0.15);\n",
              "    fill: var(--button-hover-fill-color);\n",
              "  }\n",
              "\n",
              "  .colab-df-quickchart-complete:disabled,\n",
              "  .colab-df-quickchart-complete:disabled:hover {\n",
              "    background-color: var(--disabled-bg-color);\n",
              "    fill: var(--disabled-fill-color);\n",
              "    box-shadow: none;\n",
              "  }\n",
              "\n",
              "  .colab-df-spinner {\n",
              "    border: 2px solid var(--fill-color);\n",
              "    border-color: transparent;\n",
              "    border-bottom-color: var(--fill-color);\n",
              "    animation:\n",
              "      spin 1s steps(1) infinite;\n",
              "  }\n",
              "\n",
              "  @keyframes spin {\n",
              "    0% {\n",
              "      border-color: transparent;\n",
              "      border-bottom-color: var(--fill-color);\n",
              "      border-left-color: var(--fill-color);\n",
              "    }\n",
              "    20% {\n",
              "      border-color: transparent;\n",
              "      border-left-color: var(--fill-color);\n",
              "      border-top-color: var(--fill-color);\n",
              "    }\n",
              "    30% {\n",
              "      border-color: transparent;\n",
              "      border-left-color: var(--fill-color);\n",
              "      border-top-color: var(--fill-color);\n",
              "      border-right-color: var(--fill-color);\n",
              "    }\n",
              "    40% {\n",
              "      border-color: transparent;\n",
              "      border-right-color: var(--fill-color);\n",
              "      border-top-color: var(--fill-color);\n",
              "    }\n",
              "    60% {\n",
              "      border-color: transparent;\n",
              "      border-right-color: var(--fill-color);\n",
              "    }\n",
              "    80% {\n",
              "      border-color: transparent;\n",
              "      border-right-color: var(--fill-color);\n",
              "      border-bottom-color: var(--fill-color);\n",
              "    }\n",
              "    90% {\n",
              "      border-color: transparent;\n",
              "      border-bottom-color: var(--fill-color);\n",
              "    }\n",
              "  }\n",
              "</style>\n",
              "\n",
              "  <script>\n",
              "    async function quickchart(key) {\n",
              "      const quickchartButtonEl =\n",
              "        document.querySelector('#' + key + ' button');\n",
              "      quickchartButtonEl.disabled = true;  // To prevent multiple clicks.\n",
              "      quickchartButtonEl.classList.add('colab-df-spinner');\n",
              "      try {\n",
              "        const charts = await google.colab.kernel.invokeFunction(\n",
              "            'suggestCharts', [key], {});\n",
              "      } catch (error) {\n",
              "        console.error('Error during call to suggestCharts:', error);\n",
              "      }\n",
              "      quickchartButtonEl.classList.remove('colab-df-spinner');\n",
              "      quickchartButtonEl.classList.add('colab-df-quickchart-complete');\n",
              "    }\n",
              "    (() => {\n",
              "      let quickchartButtonEl =\n",
              "        document.querySelector('#df-36ec5bec-0b29-4ec9-80ee-00e0a8dee712 button');\n",
              "      quickchartButtonEl.style.display =\n",
              "        google.colab.kernel.accessAllowed ? 'block' : 'none';\n",
              "    })();\n",
              "  </script>\n",
              "</div>\n",
              "    </div>\n",
              "  </div>\n"
            ]
          },
          "metadata": {},
          "execution_count": 70
        }
      ]
    },
    {
      "cell_type": "code",
      "source": [
        "col_trans.named_transformers_['carpet_area'].statistics_"
      ],
      "metadata": {
        "colab": {
          "base_uri": "https://localhost:8080/"
        },
        "id": "iUFDtRDbLtz3",
        "outputId": "0eacec54-91fd-435e-caaa-efaee43c9bd0"
      },
      "execution_count": 71,
      "outputs": [
        {
          "output_type": "execute_result",
          "data": {
            "text/plain": [
              "array([1112.47671484])"
            ]
          },
          "metadata": {},
          "execution_count": 71
        }
      ]
    },
    {
      "cell_type": "code",
      "source": [
        "#@title Q6[Marks: 4] Write the MEAN value of the **carpet_area** column of the dataset you found to replace all the Missing Values (NaN).(upto 2 digits after decimal points){  vertical-output: true, display-mode: \"form\" }\n",
        "Ans6 = 1112.476715 # @param {type:\"number\"}\n",
        "print(Ans6)"
      ],
      "metadata": {
        "id": "jDX0hrRlHb1S",
        "colab": {
          "base_uri": "https://localhost:8080/"
        },
        "outputId": "1364e351-f198-41e3-c209-a5e5dc7e206c"
      },
      "execution_count": 30,
      "outputs": [
        {
          "output_type": "stream",
          "name": "stdout",
          "text": [
            "1112.476715\n"
          ]
        }
      ]
    },
    {
      "cell_type": "code",
      "source": [
        "col_trans.named_transformers_['property'].statistics_"
      ],
      "metadata": {
        "colab": {
          "base_uri": "https://localhost:8080/"
        },
        "id": "3s_e_3MbMl7f",
        "outputId": "0bc192bd-1175-4b29-c0ab-b86b19f14325"
      },
      "execution_count": 73,
      "outputs": [
        {
          "output_type": "execute_result",
          "data": {
            "text/plain": [
              "array(['Single Family'], dtype=object)"
            ]
          },
          "metadata": {},
          "execution_count": 73
        }
      ]
    },
    {
      "cell_type": "code",
      "source": [
        "#@title Q7 [Marks: 4] Write the value you used to replace the unknown value (\"?\") in the **Property**  column of the train dataset {  vertical-output: true, display-mode: \"form\" }\n",
        "Ans7 = \"Single Family\" # @param [\"Single Family\",\"Two Family\",\"Three Family\",\"Four Family\", \"Select\"]\n",
        "print(Ans7)"
      ],
      "metadata": {
        "id": "ECIJnMrGHV2R",
        "colab": {
          "base_uri": "https://localhost:8080/"
        },
        "outputId": "517dbef0-14a2-4167-85f0-fb243b91be2f"
      },
      "execution_count": 74,
      "outputs": [
        {
          "output_type": "stream",
          "name": "stdout",
          "text": [
            "Single Family\n"
          ]
        }
      ]
    },
    {
      "cell_type": "markdown",
      "source": [
        "# Apply preprocessing on features of train and test datasets.\n",
        "\n",
        "- Drop the 'Date' Column before the preprocessing steps.\n",
        "- before applying any preprocessing there should not be any missing or unknown values present in the train and test dataset.\n",
        "- fitting (learning) should be done only on train dataset.\n",
        "- transform the train and test dataset using the fitting (learning) of train dataset\n",
        "\n",
        "## For Numerical Features\n",
        "\n",
        "* Scale the numerical feature of the feature matrix using the Min-Max Scaler\n",
        "\n",
        "## For Categorical Features\n",
        "\n",
        "* One-Hot Encode all categorical features(object columns) in the feature matrix"
      ],
      "metadata": {
        "id": "GgCfE-E5GyDx"
      }
    },
    {
      "cell_type": "code",
      "source": [
        "# df_trans = df_trans.drop('Date', axis=1)\n",
        "df_trans.isnull().sum() + (df_trans=='?').sum()"
      ],
      "metadata": {
        "colab": {
          "base_uri": "https://localhost:8080/"
        },
        "id": "b-2buzFLNoH6",
        "outputId": "40ec682c-5c03-4ce4-8505-50184c38087d"
      },
      "execution_count": 84,
      "outputs": [
        {
          "output_type": "execute_result",
          "data": {
            "text/plain": [
              "Locality             0\n",
              "Estimated Value      0\n",
              "carpet_area          0\n",
              "Property             0\n",
              "Year                 0\n",
              "Sale Price           0\n",
              "Residential          0\n",
              "num_rooms            0\n",
              "num_bathrooms        0\n",
              "property_tax_rate    0\n",
              "Face                 0\n",
              "dtype: int64"
            ]
          },
          "metadata": {},
          "execution_count": 84
        }
      ]
    },
    {
      "cell_type": "code",
      "source": [
        "df_trans.sample(3)"
      ],
      "metadata": {
        "colab": {
          "base_uri": "https://localhost:8080/",
          "height": 143
        },
        "id": "zFNpIrpZM_7N",
        "outputId": "2304c4a2-9e7c-4e3f-8e73-d86ef0abcf01"
      },
      "execution_count": 77,
      "outputs": [
        {
          "output_type": "execute_result",
          "data": {
            "text/plain": [
              "           Locality Estimated Value carpet_area       Property  Year  \\\n",
              "4765     Bridgeport        184320.0       926.0  Single Family  2016   \n",
              "4676  West Hartford        147490.0       969.0  Single Family  2016   \n",
              "7687     Bridgeport        398900.0      1081.0  Single Family  2020   \n",
              "\n",
              "     Sale Price     Residential num_rooms num_bathrooms property_tax_rate  \\\n",
              "4765   275000.0  Detached House         3             2          1.348259   \n",
              "4676   228000.0  Detached House         3             3          1.348259   \n",
              "7687   687000.0  Detached House         3             3           1.02544   \n",
              "\n",
              "       Face  \n",
              "4765   West  \n",
              "4676  South  \n",
              "7687  South  "
            ],
            "text/html": [
              "\n",
              "  <div id=\"df-43201162-ec9d-4fae-9115-1ba277d34625\" class=\"colab-df-container\">\n",
              "    <div>\n",
              "<style scoped>\n",
              "    .dataframe tbody tr th:only-of-type {\n",
              "        vertical-align: middle;\n",
              "    }\n",
              "\n",
              "    .dataframe tbody tr th {\n",
              "        vertical-align: top;\n",
              "    }\n",
              "\n",
              "    .dataframe thead th {\n",
              "        text-align: right;\n",
              "    }\n",
              "</style>\n",
              "<table border=\"1\" class=\"dataframe\">\n",
              "  <thead>\n",
              "    <tr style=\"text-align: right;\">\n",
              "      <th></th>\n",
              "      <th>Locality</th>\n",
              "      <th>Estimated Value</th>\n",
              "      <th>carpet_area</th>\n",
              "      <th>Property</th>\n",
              "      <th>Year</th>\n",
              "      <th>Sale Price</th>\n",
              "      <th>Residential</th>\n",
              "      <th>num_rooms</th>\n",
              "      <th>num_bathrooms</th>\n",
              "      <th>property_tax_rate</th>\n",
              "      <th>Face</th>\n",
              "    </tr>\n",
              "  </thead>\n",
              "  <tbody>\n",
              "    <tr>\n",
              "      <th>4765</th>\n",
              "      <td>Bridgeport</td>\n",
              "      <td>184320.0</td>\n",
              "      <td>926.0</td>\n",
              "      <td>Single Family</td>\n",
              "      <td>2016</td>\n",
              "      <td>275000.0</td>\n",
              "      <td>Detached House</td>\n",
              "      <td>3</td>\n",
              "      <td>2</td>\n",
              "      <td>1.348259</td>\n",
              "      <td>West</td>\n",
              "    </tr>\n",
              "    <tr>\n",
              "      <th>4676</th>\n",
              "      <td>West Hartford</td>\n",
              "      <td>147490.0</td>\n",
              "      <td>969.0</td>\n",
              "      <td>Single Family</td>\n",
              "      <td>2016</td>\n",
              "      <td>228000.0</td>\n",
              "      <td>Detached House</td>\n",
              "      <td>3</td>\n",
              "      <td>3</td>\n",
              "      <td>1.348259</td>\n",
              "      <td>South</td>\n",
              "    </tr>\n",
              "    <tr>\n",
              "      <th>7687</th>\n",
              "      <td>Bridgeport</td>\n",
              "      <td>398900.0</td>\n",
              "      <td>1081.0</td>\n",
              "      <td>Single Family</td>\n",
              "      <td>2020</td>\n",
              "      <td>687000.0</td>\n",
              "      <td>Detached House</td>\n",
              "      <td>3</td>\n",
              "      <td>3</td>\n",
              "      <td>1.02544</td>\n",
              "      <td>South</td>\n",
              "    </tr>\n",
              "  </tbody>\n",
              "</table>\n",
              "</div>\n",
              "    <div class=\"colab-df-buttons\">\n",
              "\n",
              "  <div class=\"colab-df-container\">\n",
              "    <button class=\"colab-df-convert\" onclick=\"convertToInteractive('df-43201162-ec9d-4fae-9115-1ba277d34625')\"\n",
              "            title=\"Convert this dataframe to an interactive table.\"\n",
              "            style=\"display:none;\">\n",
              "\n",
              "  <svg xmlns=\"http://www.w3.org/2000/svg\" height=\"24px\" viewBox=\"0 -960 960 960\">\n",
              "    <path d=\"M120-120v-720h720v720H120Zm60-500h600v-160H180v160Zm220 220h160v-160H400v160Zm0 220h160v-160H400v160ZM180-400h160v-160H180v160Zm440 0h160v-160H620v160ZM180-180h160v-160H180v160Zm440 0h160v-160H620v160Z\"/>\n",
              "  </svg>\n",
              "    </button>\n",
              "\n",
              "  <style>\n",
              "    .colab-df-container {\n",
              "      display:flex;\n",
              "      gap: 12px;\n",
              "    }\n",
              "\n",
              "    .colab-df-convert {\n",
              "      background-color: #E8F0FE;\n",
              "      border: none;\n",
              "      border-radius: 50%;\n",
              "      cursor: pointer;\n",
              "      display: none;\n",
              "      fill: #1967D2;\n",
              "      height: 32px;\n",
              "      padding: 0 0 0 0;\n",
              "      width: 32px;\n",
              "    }\n",
              "\n",
              "    .colab-df-convert:hover {\n",
              "      background-color: #E2EBFA;\n",
              "      box-shadow: 0px 1px 2px rgba(60, 64, 67, 0.3), 0px 1px 3px 1px rgba(60, 64, 67, 0.15);\n",
              "      fill: #174EA6;\n",
              "    }\n",
              "\n",
              "    .colab-df-buttons div {\n",
              "      margin-bottom: 4px;\n",
              "    }\n",
              "\n",
              "    [theme=dark] .colab-df-convert {\n",
              "      background-color: #3B4455;\n",
              "      fill: #D2E3FC;\n",
              "    }\n",
              "\n",
              "    [theme=dark] .colab-df-convert:hover {\n",
              "      background-color: #434B5C;\n",
              "      box-shadow: 0px 1px 3px 1px rgba(0, 0, 0, 0.15);\n",
              "      filter: drop-shadow(0px 1px 2px rgba(0, 0, 0, 0.3));\n",
              "      fill: #FFFFFF;\n",
              "    }\n",
              "  </style>\n",
              "\n",
              "    <script>\n",
              "      const buttonEl =\n",
              "        document.querySelector('#df-43201162-ec9d-4fae-9115-1ba277d34625 button.colab-df-convert');\n",
              "      buttonEl.style.display =\n",
              "        google.colab.kernel.accessAllowed ? 'block' : 'none';\n",
              "\n",
              "      async function convertToInteractive(key) {\n",
              "        const element = document.querySelector('#df-43201162-ec9d-4fae-9115-1ba277d34625');\n",
              "        const dataTable =\n",
              "          await google.colab.kernel.invokeFunction('convertToInteractive',\n",
              "                                                    [key], {});\n",
              "        if (!dataTable) return;\n",
              "\n",
              "        const docLinkHtml = 'Like what you see? Visit the ' +\n",
              "          '<a target=\"_blank\" href=https://colab.research.google.com/notebooks/data_table.ipynb>data table notebook</a>'\n",
              "          + ' to learn more about interactive tables.';\n",
              "        element.innerHTML = '';\n",
              "        dataTable['output_type'] = 'display_data';\n",
              "        await google.colab.output.renderOutput(dataTable, element);\n",
              "        const docLink = document.createElement('div');\n",
              "        docLink.innerHTML = docLinkHtml;\n",
              "        element.appendChild(docLink);\n",
              "      }\n",
              "    </script>\n",
              "  </div>\n",
              "\n",
              "\n",
              "<div id=\"df-481b7de9-4e8c-4c6a-b6d3-4cc7e4af69a7\">\n",
              "  <button class=\"colab-df-quickchart\" onclick=\"quickchart('df-481b7de9-4e8c-4c6a-b6d3-4cc7e4af69a7')\"\n",
              "            title=\"Suggest charts\"\n",
              "            style=\"display:none;\">\n",
              "\n",
              "<svg xmlns=\"http://www.w3.org/2000/svg\" height=\"24px\"viewBox=\"0 0 24 24\"\n",
              "     width=\"24px\">\n",
              "    <g>\n",
              "        <path d=\"M19 3H5c-1.1 0-2 .9-2 2v14c0 1.1.9 2 2 2h14c1.1 0 2-.9 2-2V5c0-1.1-.9-2-2-2zM9 17H7v-7h2v7zm4 0h-2V7h2v10zm4 0h-2v-4h2v4z\"/>\n",
              "    </g>\n",
              "</svg>\n",
              "  </button>\n",
              "\n",
              "<style>\n",
              "  .colab-df-quickchart {\n",
              "      --bg-color: #E8F0FE;\n",
              "      --fill-color: #1967D2;\n",
              "      --hover-bg-color: #E2EBFA;\n",
              "      --hover-fill-color: #174EA6;\n",
              "      --disabled-fill-color: #AAA;\n",
              "      --disabled-bg-color: #DDD;\n",
              "  }\n",
              "\n",
              "  [theme=dark] .colab-df-quickchart {\n",
              "      --bg-color: #3B4455;\n",
              "      --fill-color: #D2E3FC;\n",
              "      --hover-bg-color: #434B5C;\n",
              "      --hover-fill-color: #FFFFFF;\n",
              "      --disabled-bg-color: #3B4455;\n",
              "      --disabled-fill-color: #666;\n",
              "  }\n",
              "\n",
              "  .colab-df-quickchart {\n",
              "    background-color: var(--bg-color);\n",
              "    border: none;\n",
              "    border-radius: 50%;\n",
              "    cursor: pointer;\n",
              "    display: none;\n",
              "    fill: var(--fill-color);\n",
              "    height: 32px;\n",
              "    padding: 0;\n",
              "    width: 32px;\n",
              "  }\n",
              "\n",
              "  .colab-df-quickchart:hover {\n",
              "    background-color: var(--hover-bg-color);\n",
              "    box-shadow: 0 1px 2px rgba(60, 64, 67, 0.3), 0 1px 3px 1px rgba(60, 64, 67, 0.15);\n",
              "    fill: var(--button-hover-fill-color);\n",
              "  }\n",
              "\n",
              "  .colab-df-quickchart-complete:disabled,\n",
              "  .colab-df-quickchart-complete:disabled:hover {\n",
              "    background-color: var(--disabled-bg-color);\n",
              "    fill: var(--disabled-fill-color);\n",
              "    box-shadow: none;\n",
              "  }\n",
              "\n",
              "  .colab-df-spinner {\n",
              "    border: 2px solid var(--fill-color);\n",
              "    border-color: transparent;\n",
              "    border-bottom-color: var(--fill-color);\n",
              "    animation:\n",
              "      spin 1s steps(1) infinite;\n",
              "  }\n",
              "\n",
              "  @keyframes spin {\n",
              "    0% {\n",
              "      border-color: transparent;\n",
              "      border-bottom-color: var(--fill-color);\n",
              "      border-left-color: var(--fill-color);\n",
              "    }\n",
              "    20% {\n",
              "      border-color: transparent;\n",
              "      border-left-color: var(--fill-color);\n",
              "      border-top-color: var(--fill-color);\n",
              "    }\n",
              "    30% {\n",
              "      border-color: transparent;\n",
              "      border-left-color: var(--fill-color);\n",
              "      border-top-color: var(--fill-color);\n",
              "      border-right-color: var(--fill-color);\n",
              "    }\n",
              "    40% {\n",
              "      border-color: transparent;\n",
              "      border-right-color: var(--fill-color);\n",
              "      border-top-color: var(--fill-color);\n",
              "    }\n",
              "    60% {\n",
              "      border-color: transparent;\n",
              "      border-right-color: var(--fill-color);\n",
              "    }\n",
              "    80% {\n",
              "      border-color: transparent;\n",
              "      border-right-color: var(--fill-color);\n",
              "      border-bottom-color: var(--fill-color);\n",
              "    }\n",
              "    90% {\n",
              "      border-color: transparent;\n",
              "      border-bottom-color: var(--fill-color);\n",
              "    }\n",
              "  }\n",
              "</style>\n",
              "\n",
              "  <script>\n",
              "    async function quickchart(key) {\n",
              "      const quickchartButtonEl =\n",
              "        document.querySelector('#' + key + ' button');\n",
              "      quickchartButtonEl.disabled = true;  // To prevent multiple clicks.\n",
              "      quickchartButtonEl.classList.add('colab-df-spinner');\n",
              "      try {\n",
              "        const charts = await google.colab.kernel.invokeFunction(\n",
              "            'suggestCharts', [key], {});\n",
              "      } catch (error) {\n",
              "        console.error('Error during call to suggestCharts:', error);\n",
              "      }\n",
              "      quickchartButtonEl.classList.remove('colab-df-spinner');\n",
              "      quickchartButtonEl.classList.add('colab-df-quickchart-complete');\n",
              "    }\n",
              "    (() => {\n",
              "      let quickchartButtonEl =\n",
              "        document.querySelector('#df-481b7de9-4e8c-4c6a-b6d3-4cc7e4af69a7 button');\n",
              "      quickchartButtonEl.style.display =\n",
              "        google.colab.kernel.accessAllowed ? 'block' : 'none';\n",
              "    })();\n",
              "  </script>\n",
              "</div>\n",
              "    </div>\n",
              "  </div>\n"
            ]
          },
          "metadata": {},
          "execution_count": 77
        }
      ]
    },
    {
      "cell_type": "code",
      "source": [
        "num_features = [1,2,4,5,7,8,9]\n",
        "cat_features = [0,3,6,10]"
      ],
      "metadata": {
        "id": "-vvG5OnnNYvX"
      },
      "execution_count": 81,
      "outputs": []
    },
    {
      "cell_type": "code",
      "source": [
        "# df_trans = df_trans.drop('Date', axis=1)"
      ],
      "metadata": {
        "id": "GnkHQOZwM_tx"
      },
      "execution_count": 76,
      "outputs": []
    },
    {
      "cell_type": "code",
      "source": [
        "from sklearn.preprocessing import MinMaxScaler, OneHotEncoder"
      ],
      "metadata": {
        "id": "SVJEg2nlOBdE"
      },
      "execution_count": 86,
      "outputs": []
    },
    {
      "cell_type": "code",
      "source": [
        "col_trans_2 = ColumnTransformer([\n",
        "    ('num', MinMaxScaler(), num_features),\n",
        "    ('cat', OneHotEncoder(), cat_features),\n",
        "])"
      ],
      "metadata": {
        "id": "qhsW3pqZM_qw"
      },
      "execution_count": 89,
      "outputs": []
    },
    {
      "cell_type": "code",
      "source": [
        "df_trans_2 = col_trans_2.fit_transform(df_trans)"
      ],
      "metadata": {
        "id": "TdqEaP8RM_RE"
      },
      "execution_count": 91,
      "outputs": []
    },
    {
      "cell_type": "code",
      "source": [
        "df.shape"
      ],
      "metadata": {
        "colab": {
          "base_uri": "https://localhost:8080/"
        },
        "id": "DCUabrY2OY0s",
        "outputId": "9a8abbef-7915-48a5-b8e6-05b57c9c121f"
      },
      "execution_count": 94,
      "outputs": [
        {
          "output_type": "execute_result",
          "data": {
            "text/plain": [
              "(10000, 12)"
            ]
          },
          "metadata": {},
          "execution_count": 94
        }
      ]
    },
    {
      "cell_type": "code",
      "source": [
        "df_trans.shape"
      ],
      "metadata": {
        "colab": {
          "base_uri": "https://localhost:8080/"
        },
        "id": "_YWTTV-aOXrH",
        "outputId": "f16c3286-103d-4ef3-f169-19cd844b5ebb"
      },
      "execution_count": 93,
      "outputs": [
        {
          "output_type": "execute_result",
          "data": {
            "text/plain": [
              "(10000, 11)"
            ]
          },
          "metadata": {},
          "execution_count": 93
        }
      ]
    },
    {
      "cell_type": "code",
      "source": [
        "df_trans_2.shape"
      ],
      "metadata": {
        "colab": {
          "base_uri": "https://localhost:8080/"
        },
        "id": "z6Qu9XHIOUFt",
        "outputId": "c77e922e-eb81-48bd-e6b9-47764359c6df"
      },
      "execution_count": 92,
      "outputs": [
        {
          "output_type": "execute_result",
          "data": {
            "text/plain": [
              "(10000, 26)"
            ]
          },
          "metadata": {},
          "execution_count": 92
        }
      ]
    },
    {
      "cell_type": "code",
      "source": [
        "#@title Q8 [Marks:10] How many total features you got after one-hot encoding and scaling the training dataset?{  vertical-output: true, display-mode: \"form\"}\n",
        "Ans8 = 26 #@param {type:\"integer\"}\n",
        "print(Ans8)"
      ],
      "metadata": {
        "id": "HxYFO2iYk_pe",
        "colab": {
          "base_uri": "https://localhost:8080/"
        },
        "outputId": "a89e9b91-f7a5-45b4-ed5b-77a0b1d2db98"
      },
      "execution_count": 96,
      "outputs": [
        {
          "output_type": "stream",
          "name": "stdout",
          "text": [
            "26\n"
          ]
        }
      ]
    },
    {
      "cell_type": "markdown",
      "source": [
        "# Unit 2 of 2 : Model Building\n",
        "## [Dataset Link](https://drive.google.com/file/d/1fZMUEsgfLvCPKWnTOEoJd8Xnn_MOumMM/view)"
      ],
      "metadata": {
        "id": "Z-5HQ_5G2TV0"
      }
    },
    {
      "cell_type": "code",
      "source": [
        "# @title Q9 [marks : 0] Which dataset are you using for Unit2? {vertical-output: true, display-mode: \"form\", run:\"auto\" }\n",
        "Ans9 = \"ModelBuilding1.csv\" # @param [\"ModelBuilding1.csv\", \"ModelBuilding2.csv\", \"ModelBuilding3.csv\", \"ModelBuilding4.csv\", \"ModelBuilding5.csv\", \"Select\"]\n",
        "print(Ans9)"
      ],
      "metadata": {
        "id": "PALZfY19KjYf",
        "colab": {
          "base_uri": "https://localhost:8080/"
        },
        "outputId": "93aac51a-ce42-4117-a9b9-118ade624e97"
      },
      "execution_count": 1,
      "outputs": [
        {
          "output_type": "stream",
          "name": "stdout",
          "text": [
            "ModelBuilding1.csv\n"
          ]
        }
      ]
    },
    {
      "cell_type": "markdown",
      "source": [
        "Split the dataset into train dataset and test dataset in the following manner :\n",
        "- data (rows) index [0, 8271] should be the train dataset\n",
        "- data (rows) index from 8272 till last row should be the test dataset\n",
        "- columns except of the label(Sale Price) vector should be the feature matrix (X_train or X_test)\n",
        "- make label vector (Y_train or y_test) containing values only from the target feature.\n"
      ],
      "metadata": {
        "id": "EjXUz8CikJRI"
      }
    },
    {
      "cell_type": "code",
      "source": [
        "import numpy as np\n",
        "import pandas as pd"
      ],
      "metadata": {
        "id": "8XVTsmpPM73F"
      },
      "execution_count": 2,
      "outputs": []
    },
    {
      "cell_type": "code",
      "source": [
        "df = pd.read_csv(\"Model_Building_1.csv\")"
      ],
      "metadata": {
        "id": "UG-31I6wM-gq"
      },
      "execution_count": 3,
      "outputs": []
    },
    {
      "cell_type": "code",
      "source": [
        "df.shape"
      ],
      "metadata": {
        "colab": {
          "base_uri": "https://localhost:8080/"
        },
        "id": "0Ui3NXg2NIoG",
        "outputId": "14cf0b3a-1de9-43a6-ad4e-192c0c064d8e"
      },
      "execution_count": 4,
      "outputs": [
        {
          "output_type": "execute_result",
          "data": {
            "text/plain": [
              "(10000, 26)"
            ]
          },
          "metadata": {},
          "execution_count": 4
        }
      ]
    },
    {
      "cell_type": "code",
      "source": [
        "df_train = df.iloc[:8272,:]\n",
        "df_test = df.iloc[8272:,:]"
      ],
      "metadata": {
        "id": "lm28LqfrNIle"
      },
      "execution_count": 5,
      "outputs": []
    },
    {
      "cell_type": "code",
      "source": [
        "df_test.shape"
      ],
      "metadata": {
        "colab": {
          "base_uri": "https://localhost:8080/"
        },
        "id": "kjYKNJknNIig",
        "outputId": "dc6a9bdb-81c7-4c06-e538-1d9187e83636"
      },
      "execution_count": 6,
      "outputs": [
        {
          "output_type": "execute_result",
          "data": {
            "text/plain": [
              "(1728, 26)"
            ]
          },
          "metadata": {},
          "execution_count": 6
        }
      ]
    },
    {
      "cell_type": "code",
      "source": [
        "df.head(2)"
      ],
      "metadata": {
        "colab": {
          "base_uri": "https://localhost:8080/",
          "height": 179
        },
        "id": "larcEdBPNlq1",
        "outputId": "672c07a8-bfa0-450e-e864-b842002b75f8"
      },
      "execution_count": 8,
      "outputs": [
        {
          "output_type": "execute_result",
          "data": {
            "text/plain": [
              "   Locality_Bridgeport  Locality_Fairfield  Locality_Greenwich  \\\n",
              "0                  0.0                 0.0                 1.0   \n",
              "1                  0.0                 0.0                 0.0   \n",
              "\n",
              "   Locality_Norwalk  Locality_Stamford  Locality_Waterbury  \\\n",
              "0               0.0                0.0                 0.0   \n",
              "1               1.0                0.0                 0.0   \n",
              "\n",
              "   Locality_West Hartford  Property_Four Family  Property_Single Family  \\\n",
              "0                     0.0                   0.0                     1.0   \n",
              "1                     0.0                   0.0                     1.0   \n",
              "\n",
              "   Property_Three Family  ...  Face_North  Face_South  Face_West  Year  \\\n",
              "0                    0.0  ...         0.0         1.0        0.0   0.0   \n",
              "1                    0.0  ...         0.0         0.0        1.0   0.0   \n",
              "\n",
              "   Estimated Value  num_rooms  num_bathrooms  carpet_area  property_tax_rate  \\\n",
              "0         0.013548        0.0       0.142857     0.060316           0.013981   \n",
              "1         0.013548        0.0       0.142857     0.072283           0.013981   \n",
              "\n",
              "   Sale Price  \n",
              "0   5187000.0  \n",
              "1    480000.0  \n",
              "\n",
              "[2 rows x 26 columns]"
            ],
            "text/html": [
              "\n",
              "  <div id=\"df-6082468b-f240-4a75-b5a3-0705f3bcb2b6\" class=\"colab-df-container\">\n",
              "    <div>\n",
              "<style scoped>\n",
              "    .dataframe tbody tr th:only-of-type {\n",
              "        vertical-align: middle;\n",
              "    }\n",
              "\n",
              "    .dataframe tbody tr th {\n",
              "        vertical-align: top;\n",
              "    }\n",
              "\n",
              "    .dataframe thead th {\n",
              "        text-align: right;\n",
              "    }\n",
              "</style>\n",
              "<table border=\"1\" class=\"dataframe\">\n",
              "  <thead>\n",
              "    <tr style=\"text-align: right;\">\n",
              "      <th></th>\n",
              "      <th>Locality_Bridgeport</th>\n",
              "      <th>Locality_Fairfield</th>\n",
              "      <th>Locality_Greenwich</th>\n",
              "      <th>Locality_Norwalk</th>\n",
              "      <th>Locality_Stamford</th>\n",
              "      <th>Locality_Waterbury</th>\n",
              "      <th>Locality_West Hartford</th>\n",
              "      <th>Property_Four Family</th>\n",
              "      <th>Property_Single Family</th>\n",
              "      <th>Property_Three Family</th>\n",
              "      <th>...</th>\n",
              "      <th>Face_North</th>\n",
              "      <th>Face_South</th>\n",
              "      <th>Face_West</th>\n",
              "      <th>Year</th>\n",
              "      <th>Estimated Value</th>\n",
              "      <th>num_rooms</th>\n",
              "      <th>num_bathrooms</th>\n",
              "      <th>carpet_area</th>\n",
              "      <th>property_tax_rate</th>\n",
              "      <th>Sale Price</th>\n",
              "    </tr>\n",
              "  </thead>\n",
              "  <tbody>\n",
              "    <tr>\n",
              "      <th>0</th>\n",
              "      <td>0.0</td>\n",
              "      <td>0.0</td>\n",
              "      <td>1.0</td>\n",
              "      <td>0.0</td>\n",
              "      <td>0.0</td>\n",
              "      <td>0.0</td>\n",
              "      <td>0.0</td>\n",
              "      <td>0.0</td>\n",
              "      <td>1.0</td>\n",
              "      <td>0.0</td>\n",
              "      <td>...</td>\n",
              "      <td>0.0</td>\n",
              "      <td>1.0</td>\n",
              "      <td>0.0</td>\n",
              "      <td>0.0</td>\n",
              "      <td>0.013548</td>\n",
              "      <td>0.0</td>\n",
              "      <td>0.142857</td>\n",
              "      <td>0.060316</td>\n",
              "      <td>0.013981</td>\n",
              "      <td>5187000.0</td>\n",
              "    </tr>\n",
              "    <tr>\n",
              "      <th>1</th>\n",
              "      <td>0.0</td>\n",
              "      <td>0.0</td>\n",
              "      <td>0.0</td>\n",
              "      <td>1.0</td>\n",
              "      <td>0.0</td>\n",
              "      <td>0.0</td>\n",
              "      <td>0.0</td>\n",
              "      <td>0.0</td>\n",
              "      <td>1.0</td>\n",
              "      <td>0.0</td>\n",
              "      <td>...</td>\n",
              "      <td>0.0</td>\n",
              "      <td>0.0</td>\n",
              "      <td>1.0</td>\n",
              "      <td>0.0</td>\n",
              "      <td>0.013548</td>\n",
              "      <td>0.0</td>\n",
              "      <td>0.142857</td>\n",
              "      <td>0.072283</td>\n",
              "      <td>0.013981</td>\n",
              "      <td>480000.0</td>\n",
              "    </tr>\n",
              "  </tbody>\n",
              "</table>\n",
              "<p>2 rows × 26 columns</p>\n",
              "</div>\n",
              "    <div class=\"colab-df-buttons\">\n",
              "\n",
              "  <div class=\"colab-df-container\">\n",
              "    <button class=\"colab-df-convert\" onclick=\"convertToInteractive('df-6082468b-f240-4a75-b5a3-0705f3bcb2b6')\"\n",
              "            title=\"Convert this dataframe to an interactive table.\"\n",
              "            style=\"display:none;\">\n",
              "\n",
              "  <svg xmlns=\"http://www.w3.org/2000/svg\" height=\"24px\" viewBox=\"0 -960 960 960\">\n",
              "    <path d=\"M120-120v-720h720v720H120Zm60-500h600v-160H180v160Zm220 220h160v-160H400v160Zm0 220h160v-160H400v160ZM180-400h160v-160H180v160Zm440 0h160v-160H620v160ZM180-180h160v-160H180v160Zm440 0h160v-160H620v160Z\"/>\n",
              "  </svg>\n",
              "    </button>\n",
              "\n",
              "  <style>\n",
              "    .colab-df-container {\n",
              "      display:flex;\n",
              "      gap: 12px;\n",
              "    }\n",
              "\n",
              "    .colab-df-convert {\n",
              "      background-color: #E8F0FE;\n",
              "      border: none;\n",
              "      border-radius: 50%;\n",
              "      cursor: pointer;\n",
              "      display: none;\n",
              "      fill: #1967D2;\n",
              "      height: 32px;\n",
              "      padding: 0 0 0 0;\n",
              "      width: 32px;\n",
              "    }\n",
              "\n",
              "    .colab-df-convert:hover {\n",
              "      background-color: #E2EBFA;\n",
              "      box-shadow: 0px 1px 2px rgba(60, 64, 67, 0.3), 0px 1px 3px 1px rgba(60, 64, 67, 0.15);\n",
              "      fill: #174EA6;\n",
              "    }\n",
              "\n",
              "    .colab-df-buttons div {\n",
              "      margin-bottom: 4px;\n",
              "    }\n",
              "\n",
              "    [theme=dark] .colab-df-convert {\n",
              "      background-color: #3B4455;\n",
              "      fill: #D2E3FC;\n",
              "    }\n",
              "\n",
              "    [theme=dark] .colab-df-convert:hover {\n",
              "      background-color: #434B5C;\n",
              "      box-shadow: 0px 1px 3px 1px rgba(0, 0, 0, 0.15);\n",
              "      filter: drop-shadow(0px 1px 2px rgba(0, 0, 0, 0.3));\n",
              "      fill: #FFFFFF;\n",
              "    }\n",
              "  </style>\n",
              "\n",
              "    <script>\n",
              "      const buttonEl =\n",
              "        document.querySelector('#df-6082468b-f240-4a75-b5a3-0705f3bcb2b6 button.colab-df-convert');\n",
              "      buttonEl.style.display =\n",
              "        google.colab.kernel.accessAllowed ? 'block' : 'none';\n",
              "\n",
              "      async function convertToInteractive(key) {\n",
              "        const element = document.querySelector('#df-6082468b-f240-4a75-b5a3-0705f3bcb2b6');\n",
              "        const dataTable =\n",
              "          await google.colab.kernel.invokeFunction('convertToInteractive',\n",
              "                                                    [key], {});\n",
              "        if (!dataTable) return;\n",
              "\n",
              "        const docLinkHtml = 'Like what you see? Visit the ' +\n",
              "          '<a target=\"_blank\" href=https://colab.research.google.com/notebooks/data_table.ipynb>data table notebook</a>'\n",
              "          + ' to learn more about interactive tables.';\n",
              "        element.innerHTML = '';\n",
              "        dataTable['output_type'] = 'display_data';\n",
              "        await google.colab.output.renderOutput(dataTable, element);\n",
              "        const docLink = document.createElement('div');\n",
              "        docLink.innerHTML = docLinkHtml;\n",
              "        element.appendChild(docLink);\n",
              "      }\n",
              "    </script>\n",
              "  </div>\n",
              "\n",
              "\n",
              "<div id=\"df-af6b3308-d377-4487-ba35-bd7efc2511f5\">\n",
              "  <button class=\"colab-df-quickchart\" onclick=\"quickchart('df-af6b3308-d377-4487-ba35-bd7efc2511f5')\"\n",
              "            title=\"Suggest charts\"\n",
              "            style=\"display:none;\">\n",
              "\n",
              "<svg xmlns=\"http://www.w3.org/2000/svg\" height=\"24px\"viewBox=\"0 0 24 24\"\n",
              "     width=\"24px\">\n",
              "    <g>\n",
              "        <path d=\"M19 3H5c-1.1 0-2 .9-2 2v14c0 1.1.9 2 2 2h14c1.1 0 2-.9 2-2V5c0-1.1-.9-2-2-2zM9 17H7v-7h2v7zm4 0h-2V7h2v10zm4 0h-2v-4h2v4z\"/>\n",
              "    </g>\n",
              "</svg>\n",
              "  </button>\n",
              "\n",
              "<style>\n",
              "  .colab-df-quickchart {\n",
              "      --bg-color: #E8F0FE;\n",
              "      --fill-color: #1967D2;\n",
              "      --hover-bg-color: #E2EBFA;\n",
              "      --hover-fill-color: #174EA6;\n",
              "      --disabled-fill-color: #AAA;\n",
              "      --disabled-bg-color: #DDD;\n",
              "  }\n",
              "\n",
              "  [theme=dark] .colab-df-quickchart {\n",
              "      --bg-color: #3B4455;\n",
              "      --fill-color: #D2E3FC;\n",
              "      --hover-bg-color: #434B5C;\n",
              "      --hover-fill-color: #FFFFFF;\n",
              "      --disabled-bg-color: #3B4455;\n",
              "      --disabled-fill-color: #666;\n",
              "  }\n",
              "\n",
              "  .colab-df-quickchart {\n",
              "    background-color: var(--bg-color);\n",
              "    border: none;\n",
              "    border-radius: 50%;\n",
              "    cursor: pointer;\n",
              "    display: none;\n",
              "    fill: var(--fill-color);\n",
              "    height: 32px;\n",
              "    padding: 0;\n",
              "    width: 32px;\n",
              "  }\n",
              "\n",
              "  .colab-df-quickchart:hover {\n",
              "    background-color: var(--hover-bg-color);\n",
              "    box-shadow: 0 1px 2px rgba(60, 64, 67, 0.3), 0 1px 3px 1px rgba(60, 64, 67, 0.15);\n",
              "    fill: var(--button-hover-fill-color);\n",
              "  }\n",
              "\n",
              "  .colab-df-quickchart-complete:disabled,\n",
              "  .colab-df-quickchart-complete:disabled:hover {\n",
              "    background-color: var(--disabled-bg-color);\n",
              "    fill: var(--disabled-fill-color);\n",
              "    box-shadow: none;\n",
              "  }\n",
              "\n",
              "  .colab-df-spinner {\n",
              "    border: 2px solid var(--fill-color);\n",
              "    border-color: transparent;\n",
              "    border-bottom-color: var(--fill-color);\n",
              "    animation:\n",
              "      spin 1s steps(1) infinite;\n",
              "  }\n",
              "\n",
              "  @keyframes spin {\n",
              "    0% {\n",
              "      border-color: transparent;\n",
              "      border-bottom-color: var(--fill-color);\n",
              "      border-left-color: var(--fill-color);\n",
              "    }\n",
              "    20% {\n",
              "      border-color: transparent;\n",
              "      border-left-color: var(--fill-color);\n",
              "      border-top-color: var(--fill-color);\n",
              "    }\n",
              "    30% {\n",
              "      border-color: transparent;\n",
              "      border-left-color: var(--fill-color);\n",
              "      border-top-color: var(--fill-color);\n",
              "      border-right-color: var(--fill-color);\n",
              "    }\n",
              "    40% {\n",
              "      border-color: transparent;\n",
              "      border-right-color: var(--fill-color);\n",
              "      border-top-color: var(--fill-color);\n",
              "    }\n",
              "    60% {\n",
              "      border-color: transparent;\n",
              "      border-right-color: var(--fill-color);\n",
              "    }\n",
              "    80% {\n",
              "      border-color: transparent;\n",
              "      border-right-color: var(--fill-color);\n",
              "      border-bottom-color: var(--fill-color);\n",
              "    }\n",
              "    90% {\n",
              "      border-color: transparent;\n",
              "      border-bottom-color: var(--fill-color);\n",
              "    }\n",
              "  }\n",
              "</style>\n",
              "\n",
              "  <script>\n",
              "    async function quickchart(key) {\n",
              "      const quickchartButtonEl =\n",
              "        document.querySelector('#' + key + ' button');\n",
              "      quickchartButtonEl.disabled = true;  // To prevent multiple clicks.\n",
              "      quickchartButtonEl.classList.add('colab-df-spinner');\n",
              "      try {\n",
              "        const charts = await google.colab.kernel.invokeFunction(\n",
              "            'suggestCharts', [key], {});\n",
              "      } catch (error) {\n",
              "        console.error('Error during call to suggestCharts:', error);\n",
              "      }\n",
              "      quickchartButtonEl.classList.remove('colab-df-spinner');\n",
              "      quickchartButtonEl.classList.add('colab-df-quickchart-complete');\n",
              "    }\n",
              "    (() => {\n",
              "      let quickchartButtonEl =\n",
              "        document.querySelector('#df-af6b3308-d377-4487-ba35-bd7efc2511f5 button');\n",
              "      quickchartButtonEl.style.display =\n",
              "        google.colab.kernel.accessAllowed ? 'block' : 'none';\n",
              "    })();\n",
              "  </script>\n",
              "</div>\n",
              "    </div>\n",
              "  </div>\n"
            ]
          },
          "metadata": {},
          "execution_count": 8
        }
      ]
    },
    {
      "cell_type": "code",
      "source": [
        "X_train = df_train.iloc[:,:-1]\n",
        "X_test = df_test.iloc[:,:-1]\n",
        "\n",
        "y_train = df_train.iloc[:,-1]\n",
        "y_test = df_test.iloc[:,-1]\n"
      ],
      "metadata": {
        "id": "d48S7PRKNod9"
      },
      "execution_count": 9,
      "outputs": []
    },
    {
      "cell_type": "code",
      "source": [
        "y_train.head(2)"
      ],
      "metadata": {
        "colab": {
          "base_uri": "https://localhost:8080/"
        },
        "id": "Ky43e4NpNlCs",
        "outputId": "1983e1c3-cd9f-41a9-881c-862b1d5ab39e"
      },
      "execution_count": 11,
      "outputs": [
        {
          "output_type": "execute_result",
          "data": {
            "text/plain": [
              "0    5187000.0\n",
              "1     480000.0\n",
              "Name: Sale Price, dtype: float64"
            ]
          },
          "metadata": {},
          "execution_count": 11
        }
      ]
    },
    {
      "cell_type": "code",
      "source": [
        "#@title Q10 [Marks: 4] How many rows are in the feature matrix of the test dataset ?{  vertical-output: true, display-mode: \"form\"}\n",
        "Ans10 = 1728 # @param {type:\"integer\"}\n",
        "print(Ans10)"
      ],
      "metadata": {
        "id": "YHC30gQBYzSW",
        "colab": {
          "base_uri": "https://localhost:8080/"
        },
        "outputId": "cb31819f-4d1f-4ca5-ada7-6dd2fdbad72b"
      },
      "execution_count": 7,
      "outputs": [
        {
          "output_type": "stream",
          "name": "stdout",
          "text": [
            "1728\n"
          ]
        }
      ]
    },
    {
      "cell_type": "code",
      "source": [
        "from sklearn.linear_model import LinearRegression\n",
        "from sklearn.metrics import r2_score"
      ],
      "metadata": {
        "id": "LIE3ScEnN9BQ"
      },
      "execution_count": 15,
      "outputs": []
    },
    {
      "cell_type": "code",
      "source": [
        "lreg = LinearRegression()"
      ],
      "metadata": {
        "id": "rnYbZ3yKN8-F"
      },
      "execution_count": 16,
      "outputs": []
    },
    {
      "cell_type": "code",
      "source": [
        "lreg.fit(X_train, y_train)\n",
        "print(\"r2 score: \", r2_score(y_test, lreg.predict(X_test)))"
      ],
      "metadata": {
        "colab": {
          "base_uri": "https://localhost:8080/"
        },
        "id": "-hlOp5rkN86-",
        "outputId": "8526dfa3-42ac-4b53-8cd4-7522dbf353af"
      },
      "execution_count": 17,
      "outputs": [
        {
          "output_type": "stream",
          "name": "stdout",
          "text": [
            "r2 score:  0.6468929065748328\n"
          ]
        }
      ]
    },
    {
      "cell_type": "code",
      "source": [],
      "metadata": {
        "id": "7m3mt-GkN8yU"
      },
      "execution_count": null,
      "outputs": []
    },
    {
      "cell_type": "code",
      "source": [
        "#@title Q11 [Marks: 4] Apply `LinearRegression` on the train dataset. **What is the `R2 score` on the test dataset?**{  vertical-output: true, display-mode: \"form\"}\n",
        "#@markdown ( Upto 4 digits after decimal points)\n",
        "Ans11 = 0.646 #@param {type:\"number\"}\n",
        "print(Ans11)"
      ],
      "metadata": {
        "id": "cYQVfoMALdaz",
        "colab": {
          "base_uri": "https://localhost:8080/"
        },
        "outputId": "76b48847-1609-49a2-ab03-534d155b606e"
      },
      "execution_count": 18,
      "outputs": [
        {
          "output_type": "stream",
          "name": "stdout",
          "text": [
            "0.646\n"
          ]
        }
      ]
    },
    {
      "cell_type": "code",
      "source": [
        "from sklearn.model_selection import cross_validate\n"
      ],
      "metadata": {
        "id": "GlmNpCo_OYT3"
      },
      "execution_count": 19,
      "outputs": []
    },
    {
      "cell_type": "code",
      "source": [
        "cval = cross_validate(lreg, X_train, y_train, scoring='r2', n_jobs=-1, cv=5, return_train_score=True)"
      ],
      "metadata": {
        "id": "nuBVDb60OjDP"
      },
      "execution_count": 23,
      "outputs": []
    },
    {
      "cell_type": "code",
      "source": [
        "cval"
      ],
      "metadata": {
        "colab": {
          "base_uri": "https://localhost:8080/"
        },
        "id": "KPIuMf7SOjAe",
        "outputId": "f223737e-ed64-4379-fb94-de1b4458d21e"
      },
      "execution_count": 24,
      "outputs": [
        {
          "output_type": "execute_result",
          "data": {
            "text/plain": [
              "{'fit_time': array([0.01491261, 0.01413441, 0.00982332, 0.01012135, 0.00688171]),\n",
              " 'score_time': array([0.00198936, 0.00199342, 0.00257492, 0.00214529, 0.00119925]),\n",
              " 'test_score': array([0.63575572, 0.76921935, 0.73988648, 0.81459789, 0.65256529]),\n",
              " 'train_score': array([0.77880631, 0.73280456, 0.73539735, 0.72685162, 0.73549961])}"
            ]
          },
          "metadata": {},
          "execution_count": 24
        }
      ]
    },
    {
      "cell_type": "code",
      "source": [],
      "metadata": {
        "id": "dPf2PADTOidj"
      },
      "execution_count": null,
      "outputs": []
    },
    {
      "cell_type": "code",
      "source": [
        "#@title Q12 [Marks: 6]Enter the maximum value of `𝑅2 score` you got using the `LinearRegression` model when computed with 5 folds from the training dataset using `cross_val_score`.{  vertical-output: true, display-mode: \"form\"}\n",
        "#@markdown( Upto 4 digits after decimal points) obtained.\n",
        "#@markdown (Hint: By default cross_val_score uses LinearRegression's scoring metric, which is  𝑅2 score.)\n",
        "\n",
        "Ans12 = 0.778 #@param {type:\"number\"}\n",
        "print(Ans12)"
      ],
      "metadata": {
        "id": "-E0R8cyjMT2b",
        "colab": {
          "base_uri": "https://localhost:8080/"
        },
        "outputId": "d7a62180-fc9b-4141-85aa-71b2a4ab5a18"
      },
      "execution_count": 26,
      "outputs": [
        {
          "output_type": "stream",
          "name": "stdout",
          "text": [
            "0.778\n"
          ]
        }
      ]
    },
    {
      "cell_type": "code",
      "source": [
        "from sklearn.linear_model import Ridge, Lasso"
      ],
      "metadata": {
        "id": "e-29Icv9PDxv"
      },
      "execution_count": 27,
      "outputs": []
    },
    {
      "cell_type": "code",
      "source": [
        "rid = Ridge(random_state=27)\n",
        "las = Lasso(random_state=27)\n"
      ],
      "metadata": {
        "id": "Py8o5BxvPCAu"
      },
      "execution_count": 28,
      "outputs": []
    },
    {
      "cell_type": "code",
      "source": [
        "from sklearn.metrics import mean_squared_error"
      ],
      "metadata": {
        "id": "8eoBOBwDPB6f"
      },
      "execution_count": 29,
      "outputs": []
    },
    {
      "cell_type": "code",
      "source": [
        "rid.fit(X_train, y_train)\n",
        "las.fit(X_train, y_train)\n",
        "\n",
        "print(f\"MSE ridge: {mean_squared_error(y_test, rid.predict(X_test))}\")\n",
        "print(f\"MSE lasso: {mean_squared_error(y_test, las.predict(X_test))}\")"
      ],
      "metadata": {
        "colab": {
          "base_uri": "https://localhost:8080/"
        },
        "id": "UoWCkyl3PPE1",
        "outputId": "87b2b4b7-df02-401f-d52a-34b2cfd4016f"
      },
      "execution_count": 30,
      "outputs": [
        {
          "output_type": "stream",
          "name": "stdout",
          "text": [
            "MSE ridge: 301994665976.23914\n",
            "MSE lasso: 305853086563.8274\n"
          ]
        },
        {
          "output_type": "stream",
          "name": "stderr",
          "text": [
            "/usr/local/lib/python3.10/dist-packages/sklearn/linear_model/_coordinate_descent.py:631: ConvergenceWarning: Objective did not converge. You might want to increase the number of iterations, check the scale of the features or consider increasing regularisation. Duality gap: 7.076e+14, tolerance: 1.091e+12\n",
            "  model = cd_fast.enet_coordinate_descent(\n"
          ]
        }
      ]
    },
    {
      "cell_type": "code",
      "source": [
        "301994665976.23914 < 305853086563.8274"
      ],
      "metadata": {
        "colab": {
          "base_uri": "https://localhost:8080/"
        },
        "id": "JD5Wk3tzPO-2",
        "outputId": "3947abb8-bb2a-4ab6-8945-ea4d467229c7"
      },
      "execution_count": 31,
      "outputs": [
        {
          "output_type": "execute_result",
          "data": {
            "text/plain": [
              "True"
            ]
          },
          "metadata": {},
          "execution_count": 31
        }
      ]
    },
    {
      "cell_type": "code",
      "source": [],
      "metadata": {
        "id": "TVjCB42PPOH_"
      },
      "execution_count": null,
      "outputs": []
    },
    {
      "cell_type": "code",
      "source": [
        "#@title Q13[Marks:6] Train Ridge and Lasso with random_state=27 and keep other parameters as default using train dataset. **Which one has the least \"mean squared error\" for the test dataset.**{  vertical-output: true, display-mode: \"form\"}\n",
        "Ans13 = \"Ridge\" # @param [\"Ridge\",\"Lasso\",\"Both are Equal\", \"Select\"]{type:\"string\"}\n",
        "print(Ans13)"
      ],
      "metadata": {
        "id": "GiOPDOatQh8G",
        "colab": {
          "base_uri": "https://localhost:8080/"
        },
        "outputId": "26aef115-ee87-479a-e4bb-0860f543b9fc"
      },
      "execution_count": 32,
      "outputs": [
        {
          "output_type": "stream",
          "name": "stdout",
          "text": [
            "Ridge\n"
          ]
        }
      ]
    },
    {
      "cell_type": "code",
      "source": [
        "from sklearn.linear_model import SGDRegressor\n",
        "\n",
        "sgd = SGDRegressor(random_state=27, warm_start=True)"
      ],
      "metadata": {
        "id": "bKzA8py0Pk4X"
      },
      "execution_count": 33,
      "outputs": []
    },
    {
      "cell_type": "code",
      "source": [
        "for i in range(100):\n",
        "  sgd.fit(X_train, y_train)\n",
        ""
      ],
      "metadata": {
        "id": "rG8bHuEVPk1I"
      },
      "execution_count": 34,
      "outputs": []
    },
    {
      "cell_type": "code",
      "source": [
        "r2_score(y_test, sgd.predict(X_test))"
      ],
      "metadata": {
        "colab": {
          "base_uri": "https://localhost:8080/"
        },
        "id": "SQ6L2lzuPkx_",
        "outputId": "9fb71aad-cbd9-41ba-feca-48455ec9a181"
      },
      "execution_count": 35,
      "outputs": [
        {
          "output_type": "execute_result",
          "data": {
            "text/plain": [
              "0.6550186856047193"
            ]
          },
          "metadata": {},
          "execution_count": 35
        }
      ]
    },
    {
      "cell_type": "code",
      "source": [
        "#@title Q14 [Marks: 6] Train the `SGDRegressor(random_state=27,warm_start=True)` with maximum passes over the train dataset can be 100.{  vertical-output: true, display-mode: \"form\"}\n",
        "#@markdown Write the correct R2 score for this estimator on test dataset  [NAT] (correct Upto 4 digits)\n",
        "\n",
        "Ans14 = 0.655 # @param {type:\"number\"}"
      ],
      "metadata": {
        "id": "7b3Rg1DIRKKZ"
      },
      "execution_count": 36,
      "outputs": []
    },
    {
      "cell_type": "markdown",
      "source": [
        "# (Common Instructions for Question 15 and 16)\n",
        "\n",
        "- create a pipeline of the PolynomialFeatures(interaction_only=True) as transformer and Lasso as an estimator.\n",
        "\n",
        "- Use GridSearchCV for tuning the hyperparameters of the created pipeline on training dataset.\n",
        "\n",
        "1. Keep polynomial degree as : [1,2]\n",
        "2. lasso alpha value to be taken as : [10,100,1000,10000]\n",
        "3. scoring : neg_mean_absolute_error.\n",
        "4. cv = 5\n",
        "5. n_jobs = -1 (negative one) [it helps in using all the computational power to run this job]\n",
        "\n",
        "(Note: Kindly ignore the warning.)"
      ],
      "metadata": {
        "id": "3cK8OSTpPEOQ"
      }
    },
    {
      "cell_type": "code",
      "source": [
        "from sklearn.preprocessing import PolynomialFeatures\n",
        "\n",
        "poly = PolynomialFeatures(interaction_only=True)\n",
        "\n",
        "from sklearn.pipeline import Pipeline"
      ],
      "metadata": {
        "id": "g5g-b66WQBe_"
      },
      "execution_count": 37,
      "outputs": []
    },
    {
      "cell_type": "code",
      "source": [
        "from sklearn.model_selection import GridSearchCV"
      ],
      "metadata": {
        "id": "WJuDQpEcQBce"
      },
      "execution_count": 38,
      "outputs": []
    },
    {
      "cell_type": "code",
      "source": [
        "para = {\n",
        "    \"poly__degree\": [1,2],\n",
        "    \"lasso__alpha\": [10, 100, 1000, 10000]\n",
        "}\n",
        "\n",
        "pipe = Pipeline([\n",
        "    ('poly', poly),\n",
        "    ('lasso', Lasso())\n",
        "])\n",
        "grid = GridSearchCV(\n",
        "    pipe,\n",
        "    para, cv=5, scoring='neg_mean_absolute_error', n_jobs=-1\n",
        ")"
      ],
      "metadata": {
        "id": "hCPEo-JWQBZV"
      },
      "execution_count": 39,
      "outputs": []
    },
    {
      "cell_type": "code",
      "source": [
        "grid.fit(X_train, y_train)"
      ],
      "metadata": {
        "colab": {
          "base_uri": "https://localhost:8080/",
          "height": 152
        },
        "id": "o_WhVia8QA7n",
        "outputId": "5996855c-a17b-49aa-b817-13053a6599fc"
      },
      "execution_count": 40,
      "outputs": [
        {
          "output_type": "execute_result",
          "data": {
            "text/plain": [
              "GridSearchCV(cv=5,\n",
              "             estimator=Pipeline(steps=[('poly',\n",
              "                                        PolynomialFeatures(interaction_only=True)),\n",
              "                                       ('lasso', Lasso())]),\n",
              "             n_jobs=-1,\n",
              "             param_grid={'lasso__alpha': [10, 100, 1000, 10000],\n",
              "                         'poly__degree': [1, 2]},\n",
              "             scoring='neg_mean_absolute_error')"
            ],
            "text/html": [
              "<style>#sk-container-id-1 {color: black;background-color: white;}#sk-container-id-1 pre{padding: 0;}#sk-container-id-1 div.sk-toggleable {background-color: white;}#sk-container-id-1 label.sk-toggleable__label {cursor: pointer;display: block;width: 100%;margin-bottom: 0;padding: 0.3em;box-sizing: border-box;text-align: center;}#sk-container-id-1 label.sk-toggleable__label-arrow:before {content: \"▸\";float: left;margin-right: 0.25em;color: #696969;}#sk-container-id-1 label.sk-toggleable__label-arrow:hover:before {color: black;}#sk-container-id-1 div.sk-estimator:hover label.sk-toggleable__label-arrow:before {color: black;}#sk-container-id-1 div.sk-toggleable__content {max-height: 0;max-width: 0;overflow: hidden;text-align: left;background-color: #f0f8ff;}#sk-container-id-1 div.sk-toggleable__content pre {margin: 0.2em;color: black;border-radius: 0.25em;background-color: #f0f8ff;}#sk-container-id-1 input.sk-toggleable__control:checked~div.sk-toggleable__content {max-height: 200px;max-width: 100%;overflow: auto;}#sk-container-id-1 input.sk-toggleable__control:checked~label.sk-toggleable__label-arrow:before {content: \"▾\";}#sk-container-id-1 div.sk-estimator input.sk-toggleable__control:checked~label.sk-toggleable__label {background-color: #d4ebff;}#sk-container-id-1 div.sk-label input.sk-toggleable__control:checked~label.sk-toggleable__label {background-color: #d4ebff;}#sk-container-id-1 input.sk-hidden--visually {border: 0;clip: rect(1px 1px 1px 1px);clip: rect(1px, 1px, 1px, 1px);height: 1px;margin: -1px;overflow: hidden;padding: 0;position: absolute;width: 1px;}#sk-container-id-1 div.sk-estimator {font-family: monospace;background-color: #f0f8ff;border: 1px dotted black;border-radius: 0.25em;box-sizing: border-box;margin-bottom: 0.5em;}#sk-container-id-1 div.sk-estimator:hover {background-color: #d4ebff;}#sk-container-id-1 div.sk-parallel-item::after {content: \"\";width: 100%;border-bottom: 1px solid gray;flex-grow: 1;}#sk-container-id-1 div.sk-label:hover label.sk-toggleable__label {background-color: #d4ebff;}#sk-container-id-1 div.sk-serial::before {content: \"\";position: absolute;border-left: 1px solid gray;box-sizing: border-box;top: 0;bottom: 0;left: 50%;z-index: 0;}#sk-container-id-1 div.sk-serial {display: flex;flex-direction: column;align-items: center;background-color: white;padding-right: 0.2em;padding-left: 0.2em;position: relative;}#sk-container-id-1 div.sk-item {position: relative;z-index: 1;}#sk-container-id-1 div.sk-parallel {display: flex;align-items: stretch;justify-content: center;background-color: white;position: relative;}#sk-container-id-1 div.sk-item::before, #sk-container-id-1 div.sk-parallel-item::before {content: \"\";position: absolute;border-left: 1px solid gray;box-sizing: border-box;top: 0;bottom: 0;left: 50%;z-index: -1;}#sk-container-id-1 div.sk-parallel-item {display: flex;flex-direction: column;z-index: 1;position: relative;background-color: white;}#sk-container-id-1 div.sk-parallel-item:first-child::after {align-self: flex-end;width: 50%;}#sk-container-id-1 div.sk-parallel-item:last-child::after {align-self: flex-start;width: 50%;}#sk-container-id-1 div.sk-parallel-item:only-child::after {width: 0;}#sk-container-id-1 div.sk-dashed-wrapped {border: 1px dashed gray;margin: 0 0.4em 0.5em 0.4em;box-sizing: border-box;padding-bottom: 0.4em;background-color: white;}#sk-container-id-1 div.sk-label label {font-family: monospace;font-weight: bold;display: inline-block;line-height: 1.2em;}#sk-container-id-1 div.sk-label-container {text-align: center;}#sk-container-id-1 div.sk-container {/* jupyter's `normalize.less` sets `[hidden] { display: none; }` but bootstrap.min.css set `[hidden] { display: none !important; }` so we also need the `!important` here to be able to override the default hidden behavior on the sphinx rendered scikit-learn.org. See: https://github.com/scikit-learn/scikit-learn/issues/21755 */display: inline-block !important;position: relative;}#sk-container-id-1 div.sk-text-repr-fallback {display: none;}</style><div id=\"sk-container-id-1\" class=\"sk-top-container\"><div class=\"sk-text-repr-fallback\"><pre>GridSearchCV(cv=5,\n",
              "             estimator=Pipeline(steps=[(&#x27;poly&#x27;,\n",
              "                                        PolynomialFeatures(interaction_only=True)),\n",
              "                                       (&#x27;lasso&#x27;, Lasso())]),\n",
              "             n_jobs=-1,\n",
              "             param_grid={&#x27;lasso__alpha&#x27;: [10, 100, 1000, 10000],\n",
              "                         &#x27;poly__degree&#x27;: [1, 2]},\n",
              "             scoring=&#x27;neg_mean_absolute_error&#x27;)</pre><b>In a Jupyter environment, please rerun this cell to show the HTML representation or trust the notebook. <br />On GitHub, the HTML representation is unable to render, please try loading this page with nbviewer.org.</b></div><div class=\"sk-container\" hidden><div class=\"sk-item sk-dashed-wrapped\"><div class=\"sk-label-container\"><div class=\"sk-label sk-toggleable\"><input class=\"sk-toggleable__control sk-hidden--visually\" id=\"sk-estimator-id-1\" type=\"checkbox\" ><label for=\"sk-estimator-id-1\" class=\"sk-toggleable__label sk-toggleable__label-arrow\">GridSearchCV</label><div class=\"sk-toggleable__content\"><pre>GridSearchCV(cv=5,\n",
              "             estimator=Pipeline(steps=[(&#x27;poly&#x27;,\n",
              "                                        PolynomialFeatures(interaction_only=True)),\n",
              "                                       (&#x27;lasso&#x27;, Lasso())]),\n",
              "             n_jobs=-1,\n",
              "             param_grid={&#x27;lasso__alpha&#x27;: [10, 100, 1000, 10000],\n",
              "                         &#x27;poly__degree&#x27;: [1, 2]},\n",
              "             scoring=&#x27;neg_mean_absolute_error&#x27;)</pre></div></div></div><div class=\"sk-parallel\"><div class=\"sk-parallel-item\"><div class=\"sk-item\"><div class=\"sk-label-container\"><div class=\"sk-label sk-toggleable\"><input class=\"sk-toggleable__control sk-hidden--visually\" id=\"sk-estimator-id-2\" type=\"checkbox\" ><label for=\"sk-estimator-id-2\" class=\"sk-toggleable__label sk-toggleable__label-arrow\">estimator: Pipeline</label><div class=\"sk-toggleable__content\"><pre>Pipeline(steps=[(&#x27;poly&#x27;, PolynomialFeatures(interaction_only=True)),\n",
              "                (&#x27;lasso&#x27;, Lasso())])</pre></div></div></div><div class=\"sk-serial\"><div class=\"sk-item\"><div class=\"sk-serial\"><div class=\"sk-item\"><div class=\"sk-estimator sk-toggleable\"><input class=\"sk-toggleable__control sk-hidden--visually\" id=\"sk-estimator-id-3\" type=\"checkbox\" ><label for=\"sk-estimator-id-3\" class=\"sk-toggleable__label sk-toggleable__label-arrow\">PolynomialFeatures</label><div class=\"sk-toggleable__content\"><pre>PolynomialFeatures(interaction_only=True)</pre></div></div></div><div class=\"sk-item\"><div class=\"sk-estimator sk-toggleable\"><input class=\"sk-toggleable__control sk-hidden--visually\" id=\"sk-estimator-id-4\" type=\"checkbox\" ><label for=\"sk-estimator-id-4\" class=\"sk-toggleable__label sk-toggleable__label-arrow\">Lasso</label><div class=\"sk-toggleable__content\"><pre>Lasso()</pre></div></div></div></div></div></div></div></div></div></div></div></div>"
            ]
          },
          "metadata": {},
          "execution_count": 40
        }
      ]
    },
    {
      "cell_type": "code",
      "source": [
        "grid.best_params_"
      ],
      "metadata": {
        "colab": {
          "base_uri": "https://localhost:8080/"
        },
        "id": "_06jQs8mQrI-",
        "outputId": "531cc851-e32a-4203-93cb-0755f4476fbe"
      },
      "execution_count": 41,
      "outputs": [
        {
          "output_type": "execute_result",
          "data": {
            "text/plain": [
              "{'lasso__alpha': 1000, 'poly__degree': 1}"
            ]
          },
          "metadata": {},
          "execution_count": 41
        }
      ]
    },
    {
      "cell_type": "code",
      "source": [
        "#@title Q15 [Marks: 6] Mark the best `alpha` value you got using above instructions.{  vertical-output: true, display-mode: \"form\"}\n",
        "Ans15 = \"1000\" # @param [10,100,1000, 10000, \"Select\"]{type:\"string\"}\n",
        "print(Ans15)"
      ],
      "metadata": {
        "id": "2RbDz0u0PS6x",
        "colab": {
          "base_uri": "https://localhost:8080/"
        },
        "outputId": "145445ac-9927-43f8-ea46-028ddb5f970f"
      },
      "execution_count": null,
      "outputs": [
        {
          "output_type": "stream",
          "name": "stdout",
          "text": [
            "Select\n"
          ]
        }
      ]
    },
    {
      "cell_type": "code",
      "source": [
        "#@title Q16[Marks: 6] Enter the best polynomial degree value you got using above instructions.{  vertical-output: true, display-mode: \"form\"}\n",
        "Ans16 = None # @param{type:\"number\"}\n",
        "print(Ans16)"
      ],
      "metadata": {
        "id": "M2XC2KKAPet_",
        "colab": {
          "base_uri": "https://localhost:8080/"
        },
        "outputId": "977249ed-dbb2-4965-d1ae-63be3049d813"
      },
      "execution_count": null,
      "outputs": [
        {
          "output_type": "stream",
          "name": "stdout",
          "text": [
            "None\n"
          ]
        }
      ]
    },
    {
      "cell_type": "markdown",
      "source": [
        "# (Common Instructions for Question 17 and 18)\n",
        "## To Reduce number of dimensions of training data with PCA. Fit the PCA model using following parameter values on training data.\n",
        "\n",
        "* n_components= 13\n",
        "* svd_solver='full'\n",
        "* whiten=True\n",
        "* random_state=27"
      ],
      "metadata": {
        "id": "oviDzUl3PoLY"
      }
    },
    {
      "cell_type": "code",
      "source": [
        "#@title Q17: [Marks:6] What is the sum of `explained_variance_ratio_` ?{  vertical-output: true, display-mode: \"form\"}\n",
        "#@markdown (upto two digits after the decimal)\n",
        "\n",
        "Ans17 = None # @param{type:\"number\"}\n",
        "print(Ans17)"
      ],
      "metadata": {
        "id": "G7vldLojP4OJ",
        "colab": {
          "base_uri": "https://localhost:8080/"
        },
        "outputId": "344f07dc-9dfc-482d-a1bc-27b00ab9f319"
      },
      "execution_count": null,
      "outputs": [
        {
          "output_type": "stream",
          "name": "stdout",
          "text": [
            "None\n"
          ]
        }
      ]
    },
    {
      "cell_type": "code",
      "source": [
        "#@title Q18 [Marks: 6] Use PCA transformed training feature matrix from earlier question and training labels to fit the `RidgeCV` estimator with cv=5 and having alpha values as [0.1,1,10,100,1000,10000]. **Calculate the R2 score you got from the model for PCA transformed test dataset.**{  vertical-output: true, display-mode: \"form\"}\n",
        "#@markdown (upto 4 digits after the decimal)\n",
        "Ans18 = None # @param{type:\"number\"}\n",
        "print(Ans18)"
      ],
      "metadata": {
        "id": "E-5X7voBP9aZ",
        "colab": {
          "base_uri": "https://localhost:8080/"
        },
        "outputId": "7090ec87-97e6-496b-b0b5-40bac69ae00c"
      },
      "execution_count": null,
      "outputs": [
        {
          "output_type": "stream",
          "name": "stdout",
          "text": [
            "None\n"
          ]
        }
      ]
    },
    {
      "cell_type": "markdown",
      "source": [
        "# (Common Instructions for Question 19-21)\n",
        "Construct a pipeline to apply following steps\n",
        "* STEP-1 Selecting 10 best features based on the f_regression score function.\n",
        "* STEP-2 Apply Lasso algorithm with random_state=27 on that  \n"
      ],
      "metadata": {
        "id": "jqZunRwb_ocR"
      }
    },
    {
      "cell_type": "code",
      "source": [
        "#@title Q19[Marks: 5] What is the max P-VALUE you got for any feature of the train dataset?(upto 4 digits after the decimal){  vertical-output: true, display-mode: \"form\"}\n",
        "Ans19 = None # @param{type:\"number\"}\n",
        "print(Ans19)"
      ],
      "metadata": {
        "id": "C5Ku_lKrFMwS",
        "colab": {
          "base_uri": "https://localhost:8080/"
        },
        "outputId": "2ef3cf99-fd82-4d39-a9f7-7416a2664298"
      },
      "execution_count": null,
      "outputs": [
        {
          "output_type": "stream",
          "name": "stdout",
          "text": [
            "None\n"
          ]
        }
      ]
    },
    {
      "cell_type": "code",
      "source": [
        "#@title Q20[Marks: 5] What is the max F_STATISTICS score you got for any feature of the train dataset? [NAT] (upto 2 digits after the decimal){vertical-output: true, display-mode: \"form\"}\n",
        "Ans20 = None # @param{type:\"number\"}\n",
        "print(Ans20)"
      ],
      "metadata": {
        "id": "9bvJLAC6G12q",
        "colab": {
          "base_uri": "https://localhost:8080/"
        },
        "outputId": "3bf1340e-eb31-44ee-8135-ebb094279a35"
      },
      "execution_count": null,
      "outputs": [
        {
          "output_type": "stream",
          "name": "stdout",
          "text": [
            "None\n"
          ]
        }
      ]
    },
    {
      "cell_type": "code",
      "source": [
        "#@title Q21[Marks: 5] What is the R2 score you got for this model using test dataset? [NAT] (upto 4 digits after the decimal){ vertical-output: true, display-mode: \"form\"}\n",
        "Ans21 = None # @param{type:\"number\"}\n",
        "print(Ans21)"
      ],
      "metadata": {
        "id": "FVIVqi8jLdIX",
        "colab": {
          "base_uri": "https://localhost:8080/"
        },
        "outputId": "13463a18-cca2-41ab-aba6-b673f463e3c4"
      },
      "execution_count": null,
      "outputs": [
        {
          "output_type": "stream",
          "name": "stdout",
          "text": [
            "None\n"
          ]
        }
      ]
    }
  ]
}