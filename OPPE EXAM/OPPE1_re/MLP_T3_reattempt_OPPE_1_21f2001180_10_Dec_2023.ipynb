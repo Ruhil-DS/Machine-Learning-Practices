{
  "nbformat": 4,
  "nbformat_minor": 0,
  "metadata": {
    "colab": {
      "provenance": []
    },
    "kernelspec": {
      "name": "python3",
      "display_name": "Python 3"
    },
    "language_info": {
      "name": "python"
    }
  },
  "cells": [
    {
      "cell_type": "code",
      "source": [
        "# @title Student's Details to be filled {display-mode: \"form\" }\n",
        "\n",
        "Student_Name = \"Pushpak Ruhil\" # @param {type:\"string\"}\n",
        "Student_Roll_No = \"21f2001180\" # @param {type:\"string\"}\n"
      ],
      "metadata": {
        "id": "a1-nSpj2bCBk"
      },
      "execution_count": 1,
      "outputs": []
    },
    {
      "cell_type": "markdown",
      "source": [
        "#Preamble: Load the dataset and examine it."
      ],
      "metadata": {
        "id": "bGpqb44NSO0S"
      }
    },
    {
      "cell_type": "markdown",
      "source": [
        "### Notes:\n",
        "* This exam consists of a Regression problem.  \n",
        "* The target feature is 'cltv'.\n",
        "* Random state should be taken as 42 wherever applicable.\n",
        "* We will consider **Google Form only** as your submissions for evaluation.\n",
        "\n",
        "- you have to make sure that the code for each question is present below the respective question number\n",
        "\n",
        "- You will receive two **dataset links** from the portal only\n",
        "  1.   Unit 1 of 2 : Preprocessing\n",
        "    -  train_test_split not required  \n",
        "  1.   Unit 2 of 2 : ModelBuilding\n",
        "    -  train_test_split required\n",
        "\n",
        "- in colab form field [None ,Select] represents no answer submitted:\n",
        "   - Numerical Answer Type (NAT) : None\n",
        "   - Multiple Choice Question (MCQ) : Select"
      ],
      "metadata": {
        "id": "4G1bAUBwSFyz"
      }
    },
    {
      "cell_type": "markdown",
      "source": [
        "## Where you have to submit the correct answers\n",
        "- **Google Form**\n",
        "- **Select answers in colab file form-field also**\n",
        "\n",
        "**Note:** We will only prioritize **Google Form** responses.\n",
        "\n"
      ],
      "metadata": {
        "id": "Eci9sGE_cA7_"
      }
    },
    {
      "cell_type": "markdown",
      "source": [
        "# Metadata\n",
        "\n",
        "1. id-Unique identifier of a customer  \n",
        "2. gender-Gender of the customer   \n",
        "3. area-Area of the customer   \n",
        "4. qualification-Highest Qualification of the customer  \n",
        "5. income-Income earned in a year (in rupees).   \n",
        "6. marital_status- 0:Single, 1: Married\n",
        "7. vintage-No. of years since the first policy date.  \n",
        "8. claim_amount-Total Amount Claimed by the customer (in rupees)\n",
        "9. num_policies-Total no. of policies issued by the customer\n",
        "10. policy-Active policy of the customer\n",
        "11. type_of_policy-Type of active policy\n",
        "12. cltv- Customer life time value. It is the total amount of money a customer is expected to spend with your business, or on your products, during the lifetime of an average business relationship. [TARGET]"
      ],
      "metadata": {
        "id": "v9auhUNiS8PD"
      }
    },
    {
      "cell_type": "markdown",
      "source": [
        "# UNIT 1 of 2: Preprocessing\n",
        "train-test split not required for this unit."
      ],
      "metadata": {
        "id": "0T0g8Xdx9xlY"
      }
    },
    {
      "cell_type": "code",
      "source": [
        "#@title Q1. [marks : 0] Which dataset are you using for this exam? { vertical-output: true, display-mode: \"form\"}\n",
        "Ans1 = \"Select\" # @param [\"Preprocessing1.csv\", \"Preprocessing2.csv\", \"Preprocessing3.csv\", \"Preprocessing4.csv\", \"Preprocessing5.csv\", \"Select\"]\n",
        "print(Ans1)"
      ],
      "metadata": {
        "colab": {
          "base_uri": "https://localhost:8080/"
        },
        "id": "qn4nH0ommBE8",
        "outputId": "827f854d-e6d3-4404-e504-5eeaecb3f36e"
      },
      "execution_count": null,
      "outputs": [
        {
          "output_type": "stream",
          "name": "stdout",
          "text": [
            "Select\n"
          ]
        }
      ]
    },
    {
      "cell_type": "code",
      "source": [],
      "metadata": {
        "id": "LyzweabHawZy"
      },
      "execution_count": null,
      "outputs": []
    },
    {
      "cell_type": "code",
      "source": [
        "#@title Q.2 [Marks: 5] How many bachelors from rural area have purchased silver type_of_policy? { vertical-output: true, display-mode: \"form\" }\n",
        "Ans2 = None # @param {type:\"number\"}\n",
        "print(Ans2)"
      ],
      "metadata": {
        "id": "k1HOXY9omiSI"
      },
      "execution_count": null,
      "outputs": []
    },
    {
      "cell_type": "code",
      "source": [],
      "metadata": {
        "id": "DxlwzE-Faw9Q"
      },
      "execution_count": null,
      "outputs": []
    },
    {
      "cell_type": "code",
      "source": [
        "#@title Q.3 [Marks: 5] What are the unique values of feature `Types of Policy` in the dataset? { vertical-output: true, display-mode: \"form\" }\n",
        "Ans3 = \"Select\" # @param [\"Select\", \"[Bronze, Gold]\", \"[Gold, Silver]\", \"[Platinum, Gold, Silver, Bronze]\", \"[Platinum, Gold, Silver]\"]\n",
        "print(Ans3)"
      ],
      "metadata": {
        "colab": {
          "base_uri": "https://localhost:8080/"
        },
        "id": "owMMnJpbm9VM",
        "outputId": "ba346a23-737f-4d20-96ad-340b5433f132"
      },
      "execution_count": null,
      "outputs": [
        {
          "output_type": "stream",
          "name": "stdout",
          "text": [
            "Select\n"
          ]
        }
      ]
    },
    {
      "cell_type": "code",
      "source": [],
      "metadata": {
        "id": "gF9SL5LAaxos"
      },
      "execution_count": null,
      "outputs": []
    },
    {
      "cell_type": "code",
      "source": [
        "#@title Q.4 [Marks: 5] How many number of columns contains Object datatype in the dataset?{ vertical-output: true, display-mode: \"form\"}\n",
        "Ans4 = None # @param {type:\"number\"}\n",
        "print(Ans4)"
      ],
      "metadata": {
        "id": "Ju1FSGUcoMnX"
      },
      "execution_count": null,
      "outputs": []
    },
    {
      "cell_type": "code",
      "source": [],
      "metadata": {
        "id": "QDk4FW60ayPC"
      },
      "execution_count": null,
      "outputs": []
    },
    {
      "cell_type": "code",
      "source": [
        "#@title Q5.[Marks: 5] Which two columns have the highest positive pearson's correlation value? { vertical-output: true, display-mode: \"form\"}\n",
        "Ans5 = \"Select\" # @param [\"Select\", \"claim_amount & income\",\"income & cltv\",\"vintage & income\" , \"claim_amount & cltv\"]\n",
        "print(Ans5)"
      ],
      "metadata": {
        "id": "F7OMIKC2odVE"
      },
      "execution_count": null,
      "outputs": []
    },
    {
      "cell_type": "code",
      "source": [],
      "metadata": {
        "id": "TyDw64tRay6n"
      },
      "execution_count": null,
      "outputs": []
    },
    {
      "cell_type": "code",
      "source": [
        "#@title Q6 [marks: 5] How many columns have `missing` values in it?{ vertical-output: true, display-mode: \"form\"}\n",
        "Ans6 = None # @param {type:\"number\"}\n",
        "print(Ans6)"
      ],
      "metadata": {
        "id": "pn-AI_QMGygd"
      },
      "execution_count": null,
      "outputs": []
    },
    {
      "cell_type": "code",
      "source": [],
      "metadata": {
        "id": "TFQfP11Gazht"
      },
      "execution_count": null,
      "outputs": []
    },
    {
      "cell_type": "markdown",
      "source": [
        "# Replace missing values as instructed below in each column of data.\n",
        "## Rules for Imputing the missing(NaN) or unknown (\"?\") values:\n",
        "\n",
        "  - compute the instructed statistical values for different columns to replace missing(NaN) values respectively.\n",
        "  - Ignore the missing and unknown values while calculating the statistical values.\n",
        "\n",
        "\n",
        "* Replace missing values(NaN) with the MEDIAN value of the **income** feature\n",
        "* Replace missing values(NaN) with the MOST FREQUENT value of the **policy** feature\n",
        "* Replace missing values(NaN) with the MOST FREQUENT value of the **area** feature\n",
        "* Replace missing values(NaN) of the **claim amount** features with a constant zero(0).\n",
        "\n",
        "- Write the answers related to the above imputation in below questions respectively.\n"
      ],
      "metadata": {
        "id": "DtMkneFlpd5j"
      }
    },
    {
      "cell_type": "code",
      "source": [
        "#@title Q7 [Marks: 5]Write the MEDIAN value of the `income` column you used to replace the Missing Values(NaN). [NAT] (upto 2 digits after decimal points){vertical-output: true, display-mode: \"form\" }\n",
        "Ans7 = None # @param {type:\"number\"}\n",
        "print(Ans7)"
      ],
      "metadata": {
        "colab": {
          "base_uri": "https://localhost:8080/"
        },
        "id": "lptSWSaWAMTS",
        "outputId": "f074b559-9e5a-4146-b5f8-f4316a0c68b1"
      },
      "execution_count": null,
      "outputs": [
        {
          "output_type": "stream",
          "name": "stdout",
          "text": [
            "None\n"
          ]
        }
      ]
    },
    {
      "cell_type": "code",
      "source": [],
      "metadata": {
        "id": "BPRqDdGMa0Q0"
      },
      "execution_count": null,
      "outputs": []
    },
    {
      "cell_type": "code",
      "source": [
        "#@title Q8 [Marks: 5] Select the MOST FREQUENT value of the `area` column you used to replace all the Missing Values(NaN).{vertical-output: true, display-mode: \"form\" }\n",
        "Ans8 = 'Select' # @param [\"Urban\",\"Rural\",\"Semi-Urban\", \"Select\"]\n",
        "print(Ans8)"
      ],
      "metadata": {
        "id": "t2CdHLnG8esk"
      },
      "execution_count": null,
      "outputs": []
    },
    {
      "cell_type": "code",
      "source": [],
      "metadata": {
        "id": "isNXKluua0xT"
      },
      "execution_count": null,
      "outputs": []
    },
    {
      "cell_type": "code",
      "source": [
        "#@title Q9 [Marks: 5] After Replacing Null Values in claim_amount column with a constant value 0(zero). What is the standard deviation of that this column?(correct upto two decimal places){ vertical-output: true, display-mode: \"form\" }\n",
        "Ans9 = None # @param {type:\"number\"}\n",
        "print(Ans9)"
      ],
      "metadata": {
        "id": "NZ22aId6zoNE"
      },
      "execution_count": null,
      "outputs": []
    },
    {
      "cell_type": "code",
      "source": [],
      "metadata": {
        "id": "KsAGskYoa1M8"
      },
      "execution_count": null,
      "outputs": []
    },
    {
      "cell_type": "markdown",
      "source": [
        "# Apply preprocessing on features of datasets.\n",
        "- before applying any preprocessing there should not be any missing or unknown values present in the dataset.\n",
        "## For Numerical Features\n",
        "\n",
        "* Scale this features using Min-Max Scaler\n",
        "['income', 'vintage', 'claim_amount']\n",
        "\n",
        "## For Categorical Features\n",
        "\n",
        "* One-Hot Encode below list of features in the dataset\n",
        "['gender', 'area', 'qualification', 'num_policies', 'policy', 'type_of_policy']"
      ],
      "metadata": {
        "id": "lCZW7sJjCA_u"
      }
    },
    {
      "cell_type": "code",
      "source": [
        "# @title Q10 [Marks:10] How many features you will get after preprocessing the dataset? { vertical-output: true, display-mode: \"form\" }\n",
        "Ans10 = None # @param {type:\"number\"}\n",
        "print(Ans10)"
      ],
      "metadata": {
        "id": "HxYFO2iYk_pe"
      },
      "execution_count": null,
      "outputs": []
    },
    {
      "cell_type": "code",
      "source": [],
      "metadata": {
        "id": "6pVcMKW4a1yA"
      },
      "execution_count": null,
      "outputs": []
    },
    {
      "cell_type": "markdown",
      "source": [
        "# Unit 2 of 2 : Model Building"
      ],
      "metadata": {
        "id": "JYpYUrCKFiU5"
      }
    },
    {
      "cell_type": "code",
      "source": [
        "#@title Q11. [marks : 0] Which dataset are you using for this exam? { vertical-output: true, display-mode: \"form\"}\n",
        "Ans11 = \"Select\" # @param [\"ModelBuilding1.csv\", \"ModelBuilding2.csv\", \"ModelBuilding3.csv\", \"ModelBuilding4.csv\", \"ModelBuilding5.csv\", \"Select\"]\n",
        "print(Ans11)"
      ],
      "metadata": {
        "id": "UDHvqEKz-FYK"
      },
      "execution_count": null,
      "outputs": []
    },
    {
      "cell_type": "code",
      "source": [
        "#@title Q12 [Marks = 3] Load the model building dataset and create feature matrix(X) and labels(y) from it, where the column `cltv` goes to `y` and the rest of the columns go to `X`. **Enter the Average value of `cltv` column?** { vertical-output: true, display-mode: \"form\" }\n",
        "Ans12 = None # @param {type:\"number\"}\n",
        "print(Ans12)"
      ],
      "metadata": {
        "id": "sAs8JqfQqkME"
      },
      "execution_count": null,
      "outputs": []
    },
    {
      "cell_type": "code",
      "source": [],
      "metadata": {
        "id": "MEWv28JQa2Z6"
      },
      "execution_count": null,
      "outputs": []
    },
    {
      "cell_type": "code",
      "source": [
        "#@title Q13 [Marks : 3] Split the dataset into training and test dataset using `train_test_split` into `70:30` ratio while keeping random_state =42. What is the shape of the training set (X_train)? { vertical-output: true, display-mode: \"form\" }\n",
        "Ans13 = \"Select\" # @param [\"(4379, 11)\",\"(4392, 13)\",\"(4340, 11)\",\"(4379, 15)\",\"Select\"]\n",
        "print(Ans13)"
      ],
      "metadata": {
        "id": "7PGUoXxgsXZo"
      },
      "execution_count": null,
      "outputs": []
    },
    {
      "cell_type": "code",
      "source": [],
      "metadata": {
        "id": "TLHUjHwVa3z2"
      },
      "execution_count": null,
      "outputs": []
    },
    {
      "cell_type": "code",
      "source": [
        "#@title Q14 [Marks: 4] Apply `LinearRegression` on the trainig set. **What is the `R2 score` on the test set**. ( Upto 4 digits after decimal points){ vertical-output: true, display-mode: \"form\" }\n",
        "Ans14 = None # @param {type:\"number\"}\n",
        "print(Ans14)"
      ],
      "metadata": {
        "id": "cYQVfoMALdaz"
      },
      "execution_count": null,
      "outputs": []
    },
    {
      "cell_type": "code",
      "source": [],
      "metadata": {
        "id": "CAIdQk-Aa4U1"
      },
      "execution_count": null,
      "outputs": []
    },
    {
      "cell_type": "code",
      "source": [
        "#@title Q15 [Marks: 5] compute cross_val_score with `Ridge(random_state=42)` estimator, for 5 cross-validations(cv) on training set. Enter the maximum value of `𝑅2 score` ( Upto 4 digits after decimal points) obtained.{ vertical-output: true, display-mode: \"form\" }\n",
        "Ans15 = None # @param {type:\"number\"}\n",
        "print(Ans15)"
      ],
      "metadata": {
        "id": "-E0R8cyjMT2b"
      },
      "execution_count": null,
      "outputs": []
    },
    {
      "cell_type": "code",
      "source": [],
      "metadata": {
        "id": "iCvwrjJja45k"
      },
      "execution_count": null,
      "outputs": []
    },
    {
      "cell_type": "code",
      "source": [
        "#@title Q16 [Marks 5] Train `SGDRegressor(random_state=42)` estimator with default parameters on the training set. compute and write the `mean_absolute_error` value for test set. (Correct upto two decimals).{ vertical-output: true, display-mode: \"form\" }\n",
        "Ans16 = None # @param {type:\"number\"}\n",
        "print(Ans16)"
      ],
      "metadata": {
        "id": "S3qGEP8kh6IB"
      },
      "execution_count": null,
      "outputs": []
    },
    {
      "cell_type": "code",
      "source": [],
      "metadata": {
        "id": "EO9Rpfxaa5Uy"
      },
      "execution_count": null,
      "outputs": []
    },
    {
      "cell_type": "markdown",
      "source": [
        "# Create a Pipeline which should do below steps:\n",
        "Use train and test without any transformation from Question 13.\n",
        "- step1 : Select 5 features from training set using `SequentialFeatureSelector` with direction = 'forward' and 3 folds of cross validation using `LinearRegression()` estimator .\n",
        "\n",
        "- step2 : train `Lasso` estimator for selected features\n"
      ],
      "metadata": {
        "id": "OGIZbV91Jm3x"
      }
    },
    {
      "cell_type": "code",
      "source": [
        "#@title Q17 [Marks 5 ] Write the list of the selected feature indices ?{ vertical-output: true, display-mode: \"form\" }\n",
        "#@markdown (example: [1,4,8,5,2]     )\n",
        "Ans17 = \"\" # @param {type:\"string\"}\n",
        "print(Ans17)"
      ],
      "metadata": {
        "id": "g_4iv8oEM37l"
      },
      "execution_count": null,
      "outputs": []
    },
    {
      "cell_type": "code",
      "source": [],
      "metadata": {
        "id": "a0WN8sNva7AS"
      },
      "execution_count": null,
      "outputs": []
    },
    {
      "cell_type": "code",
      "source": [
        "#@title Q18 [Marks 5 ] What is the root mean squared error for the test set for above pipeline(correct upto 2 decimals){ vertical-output: true, display-mode: \"form\" }\n",
        "Ans18 =  None # @param {type:\"number\"}\n",
        "print(Ans18)"
      ],
      "metadata": {
        "id": "6nrPHqYbbH7l"
      },
      "execution_count": null,
      "outputs": []
    },
    {
      "cell_type": "code",
      "source": [],
      "metadata": {
        "id": "D3Q0QJFaa7XT"
      },
      "execution_count": null,
      "outputs": []
    },
    {
      "cell_type": "markdown",
      "source": [
        "# (Common Instructions for Question 19 and 20 )\n",
        "Use train and test without any transformation from Question 13.\n",
        "- To reduce the dimensions fit only training set on PCA transformer.\n",
        "- Transform both train and test set using the above transformer\n",
        "\n",
        "  * n_components=8\n",
        "  * svd_solver='full'\n",
        "  * whiten=True\n",
        "  * random_state=42\n",
        "\n",
        "(PCA - Principal Component Analysis)"
      ],
      "metadata": {
        "id": "oviDzUl3PoLY"
      }
    },
    {
      "cell_type": "code",
      "source": [
        "#@title Q19: [Marks 5] What is the sum of `explained_variance_ratio_`? (upto 4 decimal){ vertical-output: true, display-mode: \"form\" }\n",
        "Ans19 = None # @param {type:\"number\"}\n",
        "print(Ans19)"
      ],
      "metadata": {
        "id": "G7vldLojP4OJ"
      },
      "execution_count": null,
      "outputs": []
    },
    {
      "cell_type": "code",
      "source": [],
      "metadata": {
        "id": "iroVzxYza8Fp"
      },
      "execution_count": null,
      "outputs": []
    },
    {
      "cell_type": "markdown",
      "source": [
        "Use PCA transformed training data from earlier question to fit the `RidgeCV` estimator model having alpha value as [0.001,0.01,0.1,1]."
      ],
      "metadata": {
        "id": "RI6qgp2ZfrtM"
      }
    },
    {
      "cell_type": "code",
      "source": [
        "#@title Q20: [Marks 5] Write the R2 score you got from the model for PCA transformed test set. (upto 4 decimal){ vertical-output: true, display-mode: \"form\" }\n",
        "Ans20 = None # @param {type:\"number\"}\n",
        "print(Ans20)"
      ],
      "metadata": {
        "id": "E-5X7voBP9aZ"
      },
      "execution_count": null,
      "outputs": []
    },
    {
      "cell_type": "code",
      "source": [],
      "metadata": {
        "id": "-IBi01l2a8js"
      },
      "execution_count": null,
      "outputs": []
    },
    {
      "cell_type": "markdown",
      "source": [
        "# (Common Instructions for Question 21 and 22)\n",
        "Use train and test without any transformation from Question 13.\n",
        "- Create a pipeline Using PolynomialFeatures as transformer and Lasso as estimator.\n",
        "- Use above pipeline in RandomizedSearchCV(random_state=42) to tune hyperparameters using training set.\n",
        "- create parameter grid for RandomizedSearchCV as instructed below:  \n",
        "  1. PolynomialFeatures polynomial degrees : [1, 2, 3]\n",
        "  2. Lasso penalty values : [0,1,10,100,1000,10000]\n",
        "  3. RandomizedSearchCV :\n",
        "      - scoring :neg_mean_absolute_error,\n",
        "      - n_jobs=-1,\n",
        "      - verbose=2\n",
        "      - random_state=42\n",
        "\n",
        "(Note: Kindly ignore the warning.)"
      ],
      "metadata": {
        "id": "3cK8OSTpPEOQ"
      }
    },
    {
      "cell_type": "code",
      "source": [
        "#@title Q21 [Marks 5] Mark the best `alpha` value you got using above instructions.{ vertical-output: true, display-mode: \"form\" }\n",
        "Ans21 = None # @param {type:\"number\"}\n",
        "print(Ans21)"
      ],
      "metadata": {
        "id": "2RbDz0u0PS6x"
      },
      "execution_count": null,
      "outputs": []
    },
    {
      "cell_type": "code",
      "source": [],
      "metadata": {
        "id": "NI6L6ySta9Ij"
      },
      "execution_count": null,
      "outputs": []
    },
    {
      "cell_type": "code",
      "source": [
        "#@title Q22 [Marks 5] Enter the best polynomial degree value you got using above instructions.{ vertical-output: true, display-mode: \"form\" }\n",
        "Ans22 = None # @param {type:\"number\"}\n",
        "print(Ans22)"
      ],
      "metadata": {
        "id": "M2XC2KKAPet_"
      },
      "execution_count": null,
      "outputs": []
    },
    {
      "cell_type": "code",
      "source": [],
      "metadata": {
        "id": "rqsWKhjF_Apa"
      },
      "execution_count": null,
      "outputs": []
    }
  ]
}