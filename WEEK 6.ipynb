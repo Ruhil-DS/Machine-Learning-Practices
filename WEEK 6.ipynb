{
 "cells": [
  {
   "cell_type": "markdown",
   "id": "2aaedcec-93d6-4de9-bac0-569732a71a83",
   "metadata": {},
   "source": [
    "# WEEK 6: Notes\n",
    "\n",
    "In this week's module, we'll focus on implementation of Naive Bayes in SK-Learn. "
   ]
  },
  {
   "cell_type": "markdown",
   "id": "9aa83844-76cf-4988-948e-b4d3162f735c",
   "metadata": {},
   "source": [
    "# Naive Bayes Classifier\n",
    "\n",
    "- Naive Bayes classifier applies <span style=\"color:purple\">Bayes' Theorem</span> with the \"naive\" assumption of conditional independence between every pair of features given the value of the class variable. \n",
    "\n",
    "- For a given class variable $y$ and dependend feature vector $x_1, ..., x_m$, the naive conditional independence assumption is given by:\n",
    "\n",
    "$$\n",
    "P(x_i|y, x_1,..., x_{i-1}, x_{i+1},...,x_m) = P(x_i|y)\n",
    "$$\n",
    "\n",
    "- Extremely fast\n"
   ]
  },
  {
   "cell_type": "markdown",
   "id": "6979e26f-780e-4607-8ed0-31e71622391d",
   "metadata": {},
   "source": [
    "# List of NB Classifiers\n",
    "- Implemented in:\n",
    "```python\n",
    "sklearn.naive_bayes\n",
    "```\n",
    "\n",
    "- Following models are available:\n",
    "    - GaussianNB\n",
    "    - BernoulliNB\n",
    "    - MultinomialNB\n",
    "    - CategoricalNB\n",
    "    - ComplementNB\n",
    "\n"
   ]
  },
  {
   "cell_type": "markdown",
   "id": "3623253a-753c-4ada-8dac-8532794fa634",
   "metadata": {},
   "source": [
    "# Picking an NB to use\n",
    "\n",
    "## If the data is only numerical\n",
    "\n",
    "**<span style=\"color:purple\">GaussianNB</span>**\n",
    "- Implements the gaussian Naive Bayers algorithm for classification\n"
   ]
  },
  {
   "cell_type": "code",
   "execution_count": 2,
   "id": "5930b8f2-08f1-4fec-b403-e0596a8cd935",
   "metadata": {},
   "outputs": [],
   "source": [
    "from sklearn.naive_bayes import GaussianNB"
   ]
  },
  {
   "cell_type": "markdown",
   "id": "ba2f90ce-46a8-4fab-84c0-1ab0b6129d89",
   "metadata": {},
   "source": [
    "## If the data is multunomially distributed\n",
    "\n",
    "**<span style=\"color:purple\">MultinomialNB</span>**\n",
    "- Implements the naive bayes algorithm for multinomially distributed data\n",
    "    - Text Classification"
   ]
  },
  {
   "cell_type": "code",
   "execution_count": 3,
   "id": "161d65eb-e83e-47e5-9178-6269b58a16de",
   "metadata": {},
   "outputs": [],
   "source": [
    "from sklearn.naive_bayes import MultinomialNB"
   ]
  },
  {
   "cell_type": "markdown",
   "id": "6f98c8dc-525c-4c92-a8b1-1415b98cfaef",
   "metadata": {},
   "source": [
    "## If the data is imbalanced\n",
    "**<span style=\"color:purple\">ComplementNB</span>**\n",
    "- Implements the complement Naive Bayes Algorithm (CNB)\n"
   ]
  },
  {
   "cell_type": "code",
   "execution_count": 4,
   "id": "afe33090-43dd-47e4-8fa3-6cdd14c95a47",
   "metadata": {},
   "outputs": [],
   "source": [
    "from sklearn.naive_bayes import ComplementNB"
   ]
  },
  {
   "cell_type": "markdown",
   "id": "5eea2dda-290b-4df7-be81-ef7d04fc56f5",
   "metadata": {},
   "source": [
    "- CNB regularly outperforms MNB (by a considerable margin) on text classification tasks\n"
   ]
  },
  {
   "cell_type": "markdown",
   "id": "136ccc3d-0440-4d2d-8989-a633077300a7",
   "metadata": {},
   "source": [
    "## If the data has multivariate bernoulli distributions\n",
    "**<span style=\"color:purple\">BernoulliNB</span>**\n",
    "- Implements the Naive Bayes algorithm for data that is distributed according to multivariate Bernoulli distributions\n",
    "- Each feature is assumed to be a binary-valued(Bernoulli, boolean) variable\n"
   ]
  },
  {
   "cell_type": "code",
   "execution_count": 5,
   "id": "62f4cda1-a1a2-4647-ad9d-81d573548bc1",
   "metadata": {},
   "outputs": [],
   "source": [
    "from sklearn.naive_bayes import BernoulliNB"
   ]
  },
  {
   "cell_type": "markdown",
   "id": "39e44ef1-438a-4dec-afaa-ffd1cb60160d",
   "metadata": {},
   "source": [
    "## If the data is categorical\n",
    "**<span style=\"color:purple\">CategoricalNB</span>**\n",
    "- Implements the categorical Naive Bayes algorithm suitable for classification with discrete features that are categorically distributed\n",
    "- Assumes that each feature which is described by the index $i$, has its own categorical distribution"
   ]
  },
  {
   "cell_type": "code",
   "execution_count": 6,
   "id": "fce15b85-aa42-42e6-b18f-de4106729309",
   "metadata": {},
   "outputs": [],
   "source": [
    "from sklearn.naive_bayes import CategoricalNB"
   ]
  },
  {
   "cell_type": "code",
   "execution_count": null,
   "id": "a3fa3bbb-fae7-429a-9611-abf21a46ed95",
   "metadata": {},
   "outputs": [],
   "source": []
  }
 ],
 "metadata": {
  "kernelspec": {
   "display_name": "Python 3 (ipykernel)",
   "language": "python",
   "name": "python3"
  },
  "language_info": {
   "codemirror_mode": {
    "name": "ipython",
    "version": 3
   },
   "file_extension": ".py",
   "mimetype": "text/x-python",
   "name": "python",
   "nbconvert_exporter": "python",
   "pygments_lexer": "ipython3",
   "version": "3.9.13"
  }
 },
 "nbformat": 4,
 "nbformat_minor": 5
}
