{
 "cells": [
  {
   "cell_type": "markdown",
   "id": "dca7e793",
   "metadata": {},
   "source": [
    "# WEEK 3: Notes\n",
    "\n",
    "In this particular week, we start with the implementation of models in ML, their parameters as well as the performance measures. We will also learn about how to create baseline dummy regression models."
   ]
  },
  {
   "cell_type": "markdown",
   "id": "02c26b5b",
   "metadata": {},
   "source": [
    "# Building baseline regression model\n",
    "\n",
    "- ```DummyRegressor``` helps in creating a baseline for regression\n",
    "- Makes a prediction as per the specified \"strategy\"\n",
    "- Strategy is based on some \"statistical property\" of the training set or \"user specified values\"\n",
    "- Following are the strategies:\n",
    "    - mean\n",
    "    - median\n",
    "    - quantile\n",
    "    - constant"
   ]
  },
  {
   "cell_type": "markdown",
   "id": "3cb0a0e0",
   "metadata": {},
   "source": [
    "## Data loading and splitting"
   ]
  },
  {
   "cell_type": "code",
   "execution_count": 2,
   "id": "c377aba3",
   "metadata": {},
   "outputs": [],
   "source": [
    "from sklearn.datasets import load_iris\n",
    "import pandas as pd\n",
    "import numpy as np\n",
    "from sklearn.model_selection import train_test_split"
   ]
  },
  {
   "cell_type": "code",
   "execution_count": 3,
   "id": "6c9e2f67",
   "metadata": {},
   "outputs": [],
   "source": [
    "X, y = load_iris(return_X_y=True, as_frame=True)\n"
   ]
  },
  {
   "cell_type": "code",
   "execution_count": 4,
   "id": "c3a3579b",
   "metadata": {},
   "outputs": [],
   "source": [
    "X_train, X_test, y_train, y_test = train_test_split(X, y, random_state=42)"
   ]
  },
  {
   "cell_type": "code",
   "execution_count": 5,
   "id": "cff13e65",
   "metadata": {},
   "outputs": [
    {
     "data": {
      "text/plain": [
       "(112, 4)"
      ]
     },
     "execution_count": 5,
     "metadata": {},
     "output_type": "execute_result"
    }
   ],
   "source": [
    "X_train.shape"
   ]
  },
  {
   "cell_type": "markdown",
   "id": "88250fef",
   "metadata": {},
   "source": [
    "## Baseline Regressor\n"
   ]
  },
  {
   "cell_type": "code",
   "execution_count": 1,
   "id": "0024f4ee",
   "metadata": {},
   "outputs": [],
   "source": [
    "from sklearn.dummy import DummyRegressor\n",
    "\n",
    "dummy_reg = DummyRegressor(strategy='mean')"
   ]
  },
  {
   "cell_type": "code",
   "execution_count": 30,
   "id": "c8f6763d",
   "metadata": {},
   "outputs": [],
   "source": [
    "dummy_reg.fit(X_train, y_train)\n",
    "test_pred = dummy_reg.predict(X_test) \n",
    "\n",
    "# Works even with categorical attributes in the training data\n"
   ]
  },
  {
   "cell_type": "code",
   "execution_count": 31,
   "id": "0fe89c4e",
   "metadata": {},
   "outputs": [
    {
     "data": {
      "text/plain": [
       "array([1.02678571, 1.02678571, 1.02678571, 1.02678571, 1.02678571,\n",
       "       1.02678571, 1.02678571, 1.02678571, 1.02678571, 1.02678571,\n",
       "       1.02678571, 1.02678571, 1.02678571, 1.02678571, 1.02678571,\n",
       "       1.02678571, 1.02678571, 1.02678571, 1.02678571, 1.02678571,\n",
       "       1.02678571, 1.02678571, 1.02678571, 1.02678571, 1.02678571,\n",
       "       1.02678571, 1.02678571, 1.02678571, 1.02678571, 1.02678571,\n",
       "       1.02678571, 1.02678571, 1.02678571, 1.02678571, 1.02678571,\n",
       "       1.02678571, 1.02678571, 1.02678571])"
      ]
     },
     "execution_count": 31,
     "metadata": {},
     "output_type": "execute_result"
    }
   ],
   "source": [
    "test_pred"
   ]
  },
  {
   "cell_type": "code",
   "execution_count": 32,
   "id": "517dc2b7",
   "metadata": {},
   "outputs": [
    {
     "data": {
      "text/plain": [
       "-0.015873329420263538"
      ]
     },
     "execution_count": 32,
     "metadata": {},
     "output_type": "execute_result"
    }
   ],
   "source": [
    "dummy_reg.score(X_test, y_test)"
   ]
  },
  {
   "cell_type": "markdown",
   "id": "e9033399",
   "metadata": {},
   "source": [
    "# Training Linear Regression Model\n",
    "\n",
    "- there are 2 ways to train a Linear Regression model\n",
    "    - Normal equation: \n",
    "        - ```from sklearn.linear_model import LinearRegression```\n",
    "    - Iterative optimization:\n",
    "        - ```from sklearn.linear_model import SGDRegressor```\n",
    "        \n",
    "        \n",
    "- works with both, single and multi-output regression\n",
    "\n"
   ]
  },
  {
   "cell_type": "markdown",
   "id": "fd50e87d",
   "metadata": {},
   "source": [
    "# SGDRegressor Estimator\n",
    "\n",
    "- Implements Stochastic Gradient Descent\n",
    "- Use for large training data (>10k samples)\n",
    "- Provides greater control on optimization process through provision for hyperparameter settings:\n",
    "    - ```loss = 'squared error'```\n",
    "    - ```loss = 'huber'``` <br><br>\n",
    "    - ```penalty = 'l1'```\n",
    "    - ```penalty = 'l2'```\n",
    "    - ```penalty = 'elasticnet'```<br><br>\n",
    "    - ```learning_rate = 'constant'```\n",
    "    - ```learning_rate = 'optimal'```\n",
    "    - ```learning_rate = 'invscaling'```\n",
    "    - ```learning_rate = 'adaptive'```<br><br>\n",
    "    - ```early_stopping = 'True'```\n",
    "    - ```early_stopping = 'False'```\n",
    "    <br><br>\n",
    "- Good idea to use random seed while instantiating the SGD object so that we get reproducible results"
   ]
  },
  {
   "cell_type": "code",
   "execution_count": 6,
   "id": "ad2b1f17",
   "metadata": {},
   "outputs": [],
   "source": [
    "from sklearn.linear_model import SGDRegressor\n",
    "\n",
    "sgd = SGDRegressor(random_state=42)"
   ]
  },
  {
   "cell_type": "code",
   "execution_count": 7,
   "id": "44262498",
   "metadata": {},
   "outputs": [
    {
     "data": {
      "text/html": [
       "<div>\n",
       "<style scoped>\n",
       "    .dataframe tbody tr th:only-of-type {\n",
       "        vertical-align: middle;\n",
       "    }\n",
       "\n",
       "    .dataframe tbody tr th {\n",
       "        vertical-align: top;\n",
       "    }\n",
       "\n",
       "    .dataframe thead th {\n",
       "        text-align: right;\n",
       "    }\n",
       "</style>\n",
       "<table border=\"1\" class=\"dataframe\">\n",
       "  <thead>\n",
       "    <tr style=\"text-align: right;\">\n",
       "      <th></th>\n",
       "      <th>sepal length (cm)</th>\n",
       "      <th>sepal width (cm)</th>\n",
       "      <th>petal length (cm)</th>\n",
       "      <th>petal width (cm)</th>\n",
       "    </tr>\n",
       "  </thead>\n",
       "  <tbody>\n",
       "    <tr>\n",
       "      <th>4</th>\n",
       "      <td>5.0</td>\n",
       "      <td>3.6</td>\n",
       "      <td>1.4</td>\n",
       "      <td>0.2</td>\n",
       "    </tr>\n",
       "  </tbody>\n",
       "</table>\n",
       "</div>"
      ],
      "text/plain": [
       "   sepal length (cm)  sepal width (cm)  petal length (cm)  petal width (cm)\n",
       "4                5.0               3.6                1.4               0.2"
      ]
     },
     "execution_count": 7,
     "metadata": {},
     "output_type": "execute_result"
    }
   ],
   "source": [
    "X_train.head(1)"
   ]
  },
  {
   "cell_type": "code",
   "execution_count": 8,
   "id": "7e3b5cc2",
   "metadata": {},
   "outputs": [
    {
     "data": {
      "text/html": [
       "<style>#sk-container-id-1 {color: black;background-color: white;}#sk-container-id-1 pre{padding: 0;}#sk-container-id-1 div.sk-toggleable {background-color: white;}#sk-container-id-1 label.sk-toggleable__label {cursor: pointer;display: block;width: 100%;margin-bottom: 0;padding: 0.3em;box-sizing: border-box;text-align: center;}#sk-container-id-1 label.sk-toggleable__label-arrow:before {content: \"▸\";float: left;margin-right: 0.25em;color: #696969;}#sk-container-id-1 label.sk-toggleable__label-arrow:hover:before {color: black;}#sk-container-id-1 div.sk-estimator:hover label.sk-toggleable__label-arrow:before {color: black;}#sk-container-id-1 div.sk-toggleable__content {max-height: 0;max-width: 0;overflow: hidden;text-align: left;background-color: #f0f8ff;}#sk-container-id-1 div.sk-toggleable__content pre {margin: 0.2em;color: black;border-radius: 0.25em;background-color: #f0f8ff;}#sk-container-id-1 input.sk-toggleable__control:checked~div.sk-toggleable__content {max-height: 200px;max-width: 100%;overflow: auto;}#sk-container-id-1 input.sk-toggleable__control:checked~label.sk-toggleable__label-arrow:before {content: \"▾\";}#sk-container-id-1 div.sk-estimator input.sk-toggleable__control:checked~label.sk-toggleable__label {background-color: #d4ebff;}#sk-container-id-1 div.sk-label input.sk-toggleable__control:checked~label.sk-toggleable__label {background-color: #d4ebff;}#sk-container-id-1 input.sk-hidden--visually {border: 0;clip: rect(1px 1px 1px 1px);clip: rect(1px, 1px, 1px, 1px);height: 1px;margin: -1px;overflow: hidden;padding: 0;position: absolute;width: 1px;}#sk-container-id-1 div.sk-estimator {font-family: monospace;background-color: #f0f8ff;border: 1px dotted black;border-radius: 0.25em;box-sizing: border-box;margin-bottom: 0.5em;}#sk-container-id-1 div.sk-estimator:hover {background-color: #d4ebff;}#sk-container-id-1 div.sk-parallel-item::after {content: \"\";width: 100%;border-bottom: 1px solid gray;flex-grow: 1;}#sk-container-id-1 div.sk-label:hover label.sk-toggleable__label {background-color: #d4ebff;}#sk-container-id-1 div.sk-serial::before {content: \"\";position: absolute;border-left: 1px solid gray;box-sizing: border-box;top: 0;bottom: 0;left: 50%;z-index: 0;}#sk-container-id-1 div.sk-serial {display: flex;flex-direction: column;align-items: center;background-color: white;padding-right: 0.2em;padding-left: 0.2em;position: relative;}#sk-container-id-1 div.sk-item {position: relative;z-index: 1;}#sk-container-id-1 div.sk-parallel {display: flex;align-items: stretch;justify-content: center;background-color: white;position: relative;}#sk-container-id-1 div.sk-item::before, #sk-container-id-1 div.sk-parallel-item::before {content: \"\";position: absolute;border-left: 1px solid gray;box-sizing: border-box;top: 0;bottom: 0;left: 50%;z-index: -1;}#sk-container-id-1 div.sk-parallel-item {display: flex;flex-direction: column;z-index: 1;position: relative;background-color: white;}#sk-container-id-1 div.sk-parallel-item:first-child::after {align-self: flex-end;width: 50%;}#sk-container-id-1 div.sk-parallel-item:last-child::after {align-self: flex-start;width: 50%;}#sk-container-id-1 div.sk-parallel-item:only-child::after {width: 0;}#sk-container-id-1 div.sk-dashed-wrapped {border: 1px dashed gray;margin: 0 0.4em 0.5em 0.4em;box-sizing: border-box;padding-bottom: 0.4em;background-color: white;}#sk-container-id-1 div.sk-label label {font-family: monospace;font-weight: bold;display: inline-block;line-height: 1.2em;}#sk-container-id-1 div.sk-label-container {text-align: center;}#sk-container-id-1 div.sk-container {/* jupyter's `normalize.less` sets `[hidden] { display: none; }` but bootstrap.min.css set `[hidden] { display: none !important; }` so we also need the `!important` here to be able to override the default hidden behavior on the sphinx rendered scikit-learn.org. See: https://github.com/scikit-learn/scikit-learn/issues/21755 */display: inline-block !important;position: relative;}#sk-container-id-1 div.sk-text-repr-fallback {display: none;}</style><div id=\"sk-container-id-1\" class=\"sk-top-container\"><div class=\"sk-text-repr-fallback\"><pre>SGDRegressor(random_state=42)</pre><b>In a Jupyter environment, please rerun this cell to show the HTML representation or trust the notebook. <br />On GitHub, the HTML representation is unable to render, please try loading this page with nbviewer.org.</b></div><div class=\"sk-container\" hidden><div class=\"sk-item\"><div class=\"sk-estimator sk-toggleable\"><input class=\"sk-toggleable__control sk-hidden--visually\" id=\"sk-estimator-id-1\" type=\"checkbox\" checked><label for=\"sk-estimator-id-1\" class=\"sk-toggleable__label sk-toggleable__label-arrow\">SGDRegressor</label><div class=\"sk-toggleable__content\"><pre>SGDRegressor(random_state=42)</pre></div></div></div></div></div>"
      ],
      "text/plain": [
       "SGDRegressor(random_state=42)"
      ]
     },
     "execution_count": 8,
     "metadata": {},
     "output_type": "execute_result"
    }
   ],
   "source": [
    "sgd.fit(X_train, y_train)"
   ]
  },
  {
   "cell_type": "code",
   "execution_count": 9,
   "id": "13205a76",
   "metadata": {},
   "outputs": [
    {
     "data": {
      "text/plain": [
       "0.910544820959746"
      ]
     },
     "execution_count": 9,
     "metadata": {},
     "output_type": "execute_result"
    }
   ],
   "source": [
    "sgd.score(X_test, y_test)"
   ]
  },
  {
   "cell_type": "markdown",
   "id": "ce1f8e84",
   "metadata": {},
   "source": [
    "## Feature Scaling for SGD\n",
    "\n",
    "- SGD is sensitive to feature scaling\n",
    "- Recommended to scale input feature matrix\n"
   ]
  },
  {
   "cell_type": "code",
   "execution_count": 11,
   "id": "30b64dda",
   "metadata": {},
   "outputs": [],
   "source": [
    "from sklearn.linear_model import SGDRegressor\n",
    "from sklearn.pipeline import Pipeline\n",
    "from sklearn.preprocessing import StandardScaler\n",
    "\n",
    "sgd_pipe = Pipeline([\n",
    "    ('feature_scaling', StandardScaler()),\n",
    "    ('sgd_regressor', sgd)\n",
    "])"
   ]
  },
  {
   "cell_type": "code",
   "execution_count": 12,
   "id": "d15f3924",
   "metadata": {},
   "outputs": [
    {
     "data": {
      "text/html": [
       "<style>#sk-container-id-2 {color: black;background-color: white;}#sk-container-id-2 pre{padding: 0;}#sk-container-id-2 div.sk-toggleable {background-color: white;}#sk-container-id-2 label.sk-toggleable__label {cursor: pointer;display: block;width: 100%;margin-bottom: 0;padding: 0.3em;box-sizing: border-box;text-align: center;}#sk-container-id-2 label.sk-toggleable__label-arrow:before {content: \"▸\";float: left;margin-right: 0.25em;color: #696969;}#sk-container-id-2 label.sk-toggleable__label-arrow:hover:before {color: black;}#sk-container-id-2 div.sk-estimator:hover label.sk-toggleable__label-arrow:before {color: black;}#sk-container-id-2 div.sk-toggleable__content {max-height: 0;max-width: 0;overflow: hidden;text-align: left;background-color: #f0f8ff;}#sk-container-id-2 div.sk-toggleable__content pre {margin: 0.2em;color: black;border-radius: 0.25em;background-color: #f0f8ff;}#sk-container-id-2 input.sk-toggleable__control:checked~div.sk-toggleable__content {max-height: 200px;max-width: 100%;overflow: auto;}#sk-container-id-2 input.sk-toggleable__control:checked~label.sk-toggleable__label-arrow:before {content: \"▾\";}#sk-container-id-2 div.sk-estimator input.sk-toggleable__control:checked~label.sk-toggleable__label {background-color: #d4ebff;}#sk-container-id-2 div.sk-label input.sk-toggleable__control:checked~label.sk-toggleable__label {background-color: #d4ebff;}#sk-container-id-2 input.sk-hidden--visually {border: 0;clip: rect(1px 1px 1px 1px);clip: rect(1px, 1px, 1px, 1px);height: 1px;margin: -1px;overflow: hidden;padding: 0;position: absolute;width: 1px;}#sk-container-id-2 div.sk-estimator {font-family: monospace;background-color: #f0f8ff;border: 1px dotted black;border-radius: 0.25em;box-sizing: border-box;margin-bottom: 0.5em;}#sk-container-id-2 div.sk-estimator:hover {background-color: #d4ebff;}#sk-container-id-2 div.sk-parallel-item::after {content: \"\";width: 100%;border-bottom: 1px solid gray;flex-grow: 1;}#sk-container-id-2 div.sk-label:hover label.sk-toggleable__label {background-color: #d4ebff;}#sk-container-id-2 div.sk-serial::before {content: \"\";position: absolute;border-left: 1px solid gray;box-sizing: border-box;top: 0;bottom: 0;left: 50%;z-index: 0;}#sk-container-id-2 div.sk-serial {display: flex;flex-direction: column;align-items: center;background-color: white;padding-right: 0.2em;padding-left: 0.2em;position: relative;}#sk-container-id-2 div.sk-item {position: relative;z-index: 1;}#sk-container-id-2 div.sk-parallel {display: flex;align-items: stretch;justify-content: center;background-color: white;position: relative;}#sk-container-id-2 div.sk-item::before, #sk-container-id-2 div.sk-parallel-item::before {content: \"\";position: absolute;border-left: 1px solid gray;box-sizing: border-box;top: 0;bottom: 0;left: 50%;z-index: -1;}#sk-container-id-2 div.sk-parallel-item {display: flex;flex-direction: column;z-index: 1;position: relative;background-color: white;}#sk-container-id-2 div.sk-parallel-item:first-child::after {align-self: flex-end;width: 50%;}#sk-container-id-2 div.sk-parallel-item:last-child::after {align-self: flex-start;width: 50%;}#sk-container-id-2 div.sk-parallel-item:only-child::after {width: 0;}#sk-container-id-2 div.sk-dashed-wrapped {border: 1px dashed gray;margin: 0 0.4em 0.5em 0.4em;box-sizing: border-box;padding-bottom: 0.4em;background-color: white;}#sk-container-id-2 div.sk-label label {font-family: monospace;font-weight: bold;display: inline-block;line-height: 1.2em;}#sk-container-id-2 div.sk-label-container {text-align: center;}#sk-container-id-2 div.sk-container {/* jupyter's `normalize.less` sets `[hidden] { display: none; }` but bootstrap.min.css set `[hidden] { display: none !important; }` so we also need the `!important` here to be able to override the default hidden behavior on the sphinx rendered scikit-learn.org. See: https://github.com/scikit-learn/scikit-learn/issues/21755 */display: inline-block !important;position: relative;}#sk-container-id-2 div.sk-text-repr-fallback {display: none;}</style><div id=\"sk-container-id-2\" class=\"sk-top-container\"><div class=\"sk-text-repr-fallback\"><pre>Pipeline(steps=[(&#x27;feature_scaling&#x27;, StandardScaler()),\n",
       "                (&#x27;sgd_regressor&#x27;, SGDRegressor(random_state=42))])</pre><b>In a Jupyter environment, please rerun this cell to show the HTML representation or trust the notebook. <br />On GitHub, the HTML representation is unable to render, please try loading this page with nbviewer.org.</b></div><div class=\"sk-container\" hidden><div class=\"sk-item sk-dashed-wrapped\"><div class=\"sk-label-container\"><div class=\"sk-label sk-toggleable\"><input class=\"sk-toggleable__control sk-hidden--visually\" id=\"sk-estimator-id-2\" type=\"checkbox\" ><label for=\"sk-estimator-id-2\" class=\"sk-toggleable__label sk-toggleable__label-arrow\">Pipeline</label><div class=\"sk-toggleable__content\"><pre>Pipeline(steps=[(&#x27;feature_scaling&#x27;, StandardScaler()),\n",
       "                (&#x27;sgd_regressor&#x27;, SGDRegressor(random_state=42))])</pre></div></div></div><div class=\"sk-serial\"><div class=\"sk-item\"><div class=\"sk-estimator sk-toggleable\"><input class=\"sk-toggleable__control sk-hidden--visually\" id=\"sk-estimator-id-3\" type=\"checkbox\" ><label for=\"sk-estimator-id-3\" class=\"sk-toggleable__label sk-toggleable__label-arrow\">StandardScaler</label><div class=\"sk-toggleable__content\"><pre>StandardScaler()</pre></div></div></div><div class=\"sk-item\"><div class=\"sk-estimator sk-toggleable\"><input class=\"sk-toggleable__control sk-hidden--visually\" id=\"sk-estimator-id-4\" type=\"checkbox\" ><label for=\"sk-estimator-id-4\" class=\"sk-toggleable__label sk-toggleable__label-arrow\">SGDRegressor</label><div class=\"sk-toggleable__content\"><pre>SGDRegressor(random_state=42)</pre></div></div></div></div></div></div></div>"
      ],
      "text/plain": [
       "Pipeline(steps=[('feature_scaling', StandardScaler()),\n",
       "                ('sgd_regressor', SGDRegressor(random_state=42))])"
      ]
     },
     "execution_count": 12,
     "metadata": {},
     "output_type": "execute_result"
    }
   ],
   "source": [
    "sgd_pipe.fit(X_train, y_train)"
   ]
  },
  {
   "cell_type": "code",
   "execution_count": 13,
   "id": "ebaba35f",
   "metadata": {},
   "outputs": [
    {
     "data": {
      "text/plain": [
       "0.9375546644786201"
      ]
     },
     "execution_count": 13,
     "metadata": {},
     "output_type": "execute_result"
    }
   ],
   "source": [
    "# score returns the coefficient of determination of the prediction.\n",
    "\n",
    "sgd_pipe.score(X_test, y_test)"
   ]
  },
  {
   "cell_type": "markdown",
   "id": "d9106cae",
   "metadata": {},
   "source": [
    "- It can be seen that the score went up from 91.05% to 93.75%\n",
    "\n",
    "***\n",
    "- **NOTE:**\n",
    "    - Feature scaling is **NOT NEEDED** for <span style=\"color:purple\">word frequencies and indicator features</span> as they have intrinsic scale.\n",
    "    \n",
    "    - Features extracted using **PCA** should be scaled by <span style=\"color:purple\">some constant $C$</span> such that the averge L2 norm of the training data equals 1\n",
    "***\n"
   ]
  },
  {
   "cell_type": "markdown",
   "id": "49dd4ef7",
   "metadata": {},
   "source": [
    "## Setting the <span style=\"color:Blue\">Learning Rate</span> in SGD\n",
    "\n",
    "- Learning rate can take these 3 values:\n",
    "    - 'constant'\n",
    "    - 'invscaling' (default)\n",
    "    - 'adaptive'\n",
    "    - 'optimal' (not discussed in lectures)\n",
    "\n",
    "<br>\n",
    "\n",
    "### invscaling\n",
    "- The default settings of SGD in SK-Learn are:\n",
    "    - learning_rate = 'invscaling'\n",
    "    - eta0 = 1e-2 (Initial learning rate, 0.01)\n",
    "    - power_t = 0.25 (The exponent for inverse scaling learning rate)\n",
    "\n",
    "- We can change the HPs to speed up or slow down the training process\n",
    "\n",
    "- Learning rate reduces after every iteration with the following formula in **<span style=\"color:green\">invscaling </span>:**\n",
    "<br>\n",
    "\n",
    "$$\n",
    "\\text{eta} = \\dfrac{\\text{eta0}}{\\text{pow}(t, \\text{power_}t)}\n",
    "$$\n",
    "\n",
    "\n",
    "***"
   ]
  },
  {
   "cell_type": "code",
   "execution_count": 16,
   "id": "a5a88a00-d6eb-4f54-aafa-7606941a327b",
   "metadata": {},
   "outputs": [
    {
     "data": {
      "text/plain": [
       "8"
      ]
     },
     "execution_count": 16,
     "metadata": {},
     "output_type": "execute_result"
    }
   ],
   "source": [
    "pow(2,3)"
   ]
  },
  {
   "cell_type": "markdown",
   "id": "7507ce29",
   "metadata": {},
   "source": [
    "### Constant\n",
    "\n",
    "- in constant learning rate, ```eta=eta0```\n",
    "- This learning rate will be used throughout the training\n",
    "\n",
    "***\n",
    "\n",
    "### Adaptive\n",
    "\n",
    "- The learning rate is kept to the initial value as long as the **<span style=\"color:purple\">training loss decreases</span>**\n",
    "- When the stopping criterion is reached, the learning rate is <span style=\"color:purple\">divided by 5</span> and the training loop continues\n",
    "- The algorithm stops when the learning rate goes below <span style=\"color:purple\">$10^{-6}$</span>"
   ]
  },
  {
   "cell_type": "code",
   "execution_count": 54,
   "id": "f216b82a",
   "metadata": {},
   "outputs": [
    {
     "data": {
      "text/html": [
       "<style>#sk-container-id-6 {color: black;background-color: white;}#sk-container-id-6 pre{padding: 0;}#sk-container-id-6 div.sk-toggleable {background-color: white;}#sk-container-id-6 label.sk-toggleable__label {cursor: pointer;display: block;width: 100%;margin-bottom: 0;padding: 0.3em;box-sizing: border-box;text-align: center;}#sk-container-id-6 label.sk-toggleable__label-arrow:before {content: \"▸\";float: left;margin-right: 0.25em;color: #696969;}#sk-container-id-6 label.sk-toggleable__label-arrow:hover:before {color: black;}#sk-container-id-6 div.sk-estimator:hover label.sk-toggleable__label-arrow:before {color: black;}#sk-container-id-6 div.sk-toggleable__content {max-height: 0;max-width: 0;overflow: hidden;text-align: left;background-color: #f0f8ff;}#sk-container-id-6 div.sk-toggleable__content pre {margin: 0.2em;color: black;border-radius: 0.25em;background-color: #f0f8ff;}#sk-container-id-6 input.sk-toggleable__control:checked~div.sk-toggleable__content {max-height: 200px;max-width: 100%;overflow: auto;}#sk-container-id-6 input.sk-toggleable__control:checked~label.sk-toggleable__label-arrow:before {content: \"▾\";}#sk-container-id-6 div.sk-estimator input.sk-toggleable__control:checked~label.sk-toggleable__label {background-color: #d4ebff;}#sk-container-id-6 div.sk-label input.sk-toggleable__control:checked~label.sk-toggleable__label {background-color: #d4ebff;}#sk-container-id-6 input.sk-hidden--visually {border: 0;clip: rect(1px 1px 1px 1px);clip: rect(1px, 1px, 1px, 1px);height: 1px;margin: -1px;overflow: hidden;padding: 0;position: absolute;width: 1px;}#sk-container-id-6 div.sk-estimator {font-family: monospace;background-color: #f0f8ff;border: 1px dotted black;border-radius: 0.25em;box-sizing: border-box;margin-bottom: 0.5em;}#sk-container-id-6 div.sk-estimator:hover {background-color: #d4ebff;}#sk-container-id-6 div.sk-parallel-item::after {content: \"\";width: 100%;border-bottom: 1px solid gray;flex-grow: 1;}#sk-container-id-6 div.sk-label:hover label.sk-toggleable__label {background-color: #d4ebff;}#sk-container-id-6 div.sk-serial::before {content: \"\";position: absolute;border-left: 1px solid gray;box-sizing: border-box;top: 0;bottom: 0;left: 50%;z-index: 0;}#sk-container-id-6 div.sk-serial {display: flex;flex-direction: column;align-items: center;background-color: white;padding-right: 0.2em;padding-left: 0.2em;position: relative;}#sk-container-id-6 div.sk-item {position: relative;z-index: 1;}#sk-container-id-6 div.sk-parallel {display: flex;align-items: stretch;justify-content: center;background-color: white;position: relative;}#sk-container-id-6 div.sk-item::before, #sk-container-id-6 div.sk-parallel-item::before {content: \"\";position: absolute;border-left: 1px solid gray;box-sizing: border-box;top: 0;bottom: 0;left: 50%;z-index: -1;}#sk-container-id-6 div.sk-parallel-item {display: flex;flex-direction: column;z-index: 1;position: relative;background-color: white;}#sk-container-id-6 div.sk-parallel-item:first-child::after {align-self: flex-end;width: 50%;}#sk-container-id-6 div.sk-parallel-item:last-child::after {align-self: flex-start;width: 50%;}#sk-container-id-6 div.sk-parallel-item:only-child::after {width: 0;}#sk-container-id-6 div.sk-dashed-wrapped {border: 1px dashed gray;margin: 0 0.4em 0.5em 0.4em;box-sizing: border-box;padding-bottom: 0.4em;background-color: white;}#sk-container-id-6 div.sk-label label {font-family: monospace;font-weight: bold;display: inline-block;line-height: 1.2em;}#sk-container-id-6 div.sk-label-container {text-align: center;}#sk-container-id-6 div.sk-container {/* jupyter's `normalize.less` sets `[hidden] { display: none; }` but bootstrap.min.css set `[hidden] { display: none !important; }` so we also need the `!important` here to be able to override the default hidden behavior on the sphinx rendered scikit-learn.org. See: https://github.com/scikit-learn/scikit-learn/issues/21755 */display: inline-block !important;position: relative;}#sk-container-id-6 div.sk-text-repr-fallback {display: none;}</style><div id=\"sk-container-id-6\" class=\"sk-top-container\"><div class=\"sk-text-repr-fallback\"><pre>SGDRegressor(learning_rate=&#x27;adaptive&#x27;)</pre><b>In a Jupyter environment, please rerun this cell to show the HTML representation or trust the notebook. <br />On GitHub, the HTML representation is unable to render, please try loading this page with nbviewer.org.</b></div><div class=\"sk-container\" hidden><div class=\"sk-item\"><div class=\"sk-estimator sk-toggleable\"><input class=\"sk-toggleable__control sk-hidden--visually\" id=\"sk-estimator-id-8\" type=\"checkbox\" checked><label for=\"sk-estimator-id-8\" class=\"sk-toggleable__label sk-toggleable__label-arrow\">SGDRegressor</label><div class=\"sk-toggleable__content\"><pre>SGDRegressor(learning_rate=&#x27;adaptive&#x27;)</pre></div></div></div></div></div>"
      ],
      "text/plain": [
       "SGDRegressor(learning_rate='adaptive')"
      ]
     },
     "execution_count": 54,
     "metadata": {},
     "output_type": "execute_result"
    }
   ],
   "source": [
    "sgd_const = SGDRegressor(learning_rate='constant')\n",
    "sgd_adaptive = SGDRegressor(learning_rate='adaptive')\n",
    "\n",
    "sgd_adaptive"
   ]
  },
  {
   "cell_type": "markdown",
   "id": "6ba98e1f",
   "metadata": {},
   "source": [
    "## Setting Epochs in SGD\n",
    "\n",
    "- <span style=\"color:purple\">One Epoch</span> is feeding the entire training set to the learning algorithm once.\n",
    "\n",
    "- Use ```max_iter``` to change the epoch value. \n",
    "\n",
    "- Default is 1000\n",
    "\n",
    "\n",
    "- **Practical tip: SGD converges after observing approximately $10^6$ training samples.**\n",
    "    \n",
    "- **Thus, a reasonable first guess for the number of iterations for $n$ is set using:**\n",
    "    - max_iter = np.ceil($10^6$/n)"
   ]
  },
  {
   "cell_type": "code",
   "execution_count": 73,
   "id": "2f9a0cf2",
   "metadata": {},
   "outputs": [
    {
     "data": {
      "text/html": [
       "<style>#sk-container-id-13 {color: black;background-color: white;}#sk-container-id-13 pre{padding: 0;}#sk-container-id-13 div.sk-toggleable {background-color: white;}#sk-container-id-13 label.sk-toggleable__label {cursor: pointer;display: block;width: 100%;margin-bottom: 0;padding: 0.3em;box-sizing: border-box;text-align: center;}#sk-container-id-13 label.sk-toggleable__label-arrow:before {content: \"▸\";float: left;margin-right: 0.25em;color: #696969;}#sk-container-id-13 label.sk-toggleable__label-arrow:hover:before {color: black;}#sk-container-id-13 div.sk-estimator:hover label.sk-toggleable__label-arrow:before {color: black;}#sk-container-id-13 div.sk-toggleable__content {max-height: 0;max-width: 0;overflow: hidden;text-align: left;background-color: #f0f8ff;}#sk-container-id-13 div.sk-toggleable__content pre {margin: 0.2em;color: black;border-radius: 0.25em;background-color: #f0f8ff;}#sk-container-id-13 input.sk-toggleable__control:checked~div.sk-toggleable__content {max-height: 200px;max-width: 100%;overflow: auto;}#sk-container-id-13 input.sk-toggleable__control:checked~label.sk-toggleable__label-arrow:before {content: \"▾\";}#sk-container-id-13 div.sk-estimator input.sk-toggleable__control:checked~label.sk-toggleable__label {background-color: #d4ebff;}#sk-container-id-13 div.sk-label input.sk-toggleable__control:checked~label.sk-toggleable__label {background-color: #d4ebff;}#sk-container-id-13 input.sk-hidden--visually {border: 0;clip: rect(1px 1px 1px 1px);clip: rect(1px, 1px, 1px, 1px);height: 1px;margin: -1px;overflow: hidden;padding: 0;position: absolute;width: 1px;}#sk-container-id-13 div.sk-estimator {font-family: monospace;background-color: #f0f8ff;border: 1px dotted black;border-radius: 0.25em;box-sizing: border-box;margin-bottom: 0.5em;}#sk-container-id-13 div.sk-estimator:hover {background-color: #d4ebff;}#sk-container-id-13 div.sk-parallel-item::after {content: \"\";width: 100%;border-bottom: 1px solid gray;flex-grow: 1;}#sk-container-id-13 div.sk-label:hover label.sk-toggleable__label {background-color: #d4ebff;}#sk-container-id-13 div.sk-serial::before {content: \"\";position: absolute;border-left: 1px solid gray;box-sizing: border-box;top: 0;bottom: 0;left: 50%;z-index: 0;}#sk-container-id-13 div.sk-serial {display: flex;flex-direction: column;align-items: center;background-color: white;padding-right: 0.2em;padding-left: 0.2em;position: relative;}#sk-container-id-13 div.sk-item {position: relative;z-index: 1;}#sk-container-id-13 div.sk-parallel {display: flex;align-items: stretch;justify-content: center;background-color: white;position: relative;}#sk-container-id-13 div.sk-item::before, #sk-container-id-13 div.sk-parallel-item::before {content: \"\";position: absolute;border-left: 1px solid gray;box-sizing: border-box;top: 0;bottom: 0;left: 50%;z-index: -1;}#sk-container-id-13 div.sk-parallel-item {display: flex;flex-direction: column;z-index: 1;position: relative;background-color: white;}#sk-container-id-13 div.sk-parallel-item:first-child::after {align-self: flex-end;width: 50%;}#sk-container-id-13 div.sk-parallel-item:last-child::after {align-self: flex-start;width: 50%;}#sk-container-id-13 div.sk-parallel-item:only-child::after {width: 0;}#sk-container-id-13 div.sk-dashed-wrapped {border: 1px dashed gray;margin: 0 0.4em 0.5em 0.4em;box-sizing: border-box;padding-bottom: 0.4em;background-color: white;}#sk-container-id-13 div.sk-label label {font-family: monospace;font-weight: bold;display: inline-block;line-height: 1.2em;}#sk-container-id-13 div.sk-label-container {text-align: center;}#sk-container-id-13 div.sk-container {/* jupyter's `normalize.less` sets `[hidden] { display: none; }` but bootstrap.min.css set `[hidden] { display: none !important; }` so we also need the `!important` here to be able to override the default hidden behavior on the sphinx rendered scikit-learn.org. See: https://github.com/scikit-learn/scikit-learn/issues/21755 */display: inline-block !important;position: relative;}#sk-container-id-13 div.sk-text-repr-fallback {display: none;}</style><div id=\"sk-container-id-13\" class=\"sk-top-container\"><div class=\"sk-text-repr-fallback\"><pre>SGDRegressor(max_iter=8929)</pre><b>In a Jupyter environment, please rerun this cell to show the HTML representation or trust the notebook. <br />On GitHub, the HTML representation is unable to render, please try loading this page with nbviewer.org.</b></div><div class=\"sk-container\" hidden><div class=\"sk-item\"><div class=\"sk-estimator sk-toggleable\"><input class=\"sk-toggleable__control sk-hidden--visually\" id=\"sk-estimator-id-15\" type=\"checkbox\" checked><label for=\"sk-estimator-id-15\" class=\"sk-toggleable__label sk-toggleable__label-arrow\">SGDRegressor</label><div class=\"sk-toggleable__content\"><pre>SGDRegressor(max_iter=8929)</pre></div></div></div></div></div>"
      ],
      "text/plain": [
       "SGDRegressor(max_iter=8929)"
      ]
     },
     "execution_count": 73,
     "metadata": {},
     "output_type": "execute_result"
    }
   ],
   "source": [
    "n = X_train.shape[0]\n",
    "\n",
    "sgd = SGDRegressor(max_iter=int(np.ceil(10**6/n)))\n",
    "\n",
    "sgd"
   ]
  },
  {
   "cell_type": "code",
   "execution_count": 74,
   "id": "2e5fa443",
   "metadata": {},
   "outputs": [
    {
     "data": {
      "text/plain": [
       "0.9260540014837106"
      ]
     },
     "execution_count": 74,
     "metadata": {},
     "output_type": "execute_result"
    }
   ],
   "source": [
    "sgd.fit(X_train, y_train)\n",
    "sgd.score(X_test, y_test)"
   ]
  },
  {
   "cell_type": "markdown",
   "id": "5f6419bd",
   "metadata": {},
   "source": [
    "## Stopping criteria in SGD\n",
    "\n",
    "### OPTION 1: ```tol```, ```n_iter_no_change```, ```max_iter```\n",
    "\n",
    "- The SGD stops when:\n",
    "    - Either the training loss does not improve ```(loss > best_loss - tol)``` for ```n_iter_no_change``` consecutive epochs\n",
    "    - Or after a maximum number of iterations ```max_iter```\n",
    "- ```tol``` is the tolerance"
   ]
  },
  {
   "cell_type": "code",
   "execution_count": 76,
   "id": "e2e2c60f",
   "metadata": {},
   "outputs": [],
   "source": [
    "sgd = SGDRegressor(loss='squared_error',\n",
    "                  max_iter=500,\n",
    "                  tol=1e-3,\n",
    "                  n_iter_no_change=5)\n",
    "\n",
    "# SGD will stop when either max_iter 500 is completed \n",
    "# or \n",
    "# when: {(Training loss) > best_loss - 0.001} for 5 iters\n"
   ]
  },
  {
   "cell_type": "code",
   "execution_count": 84,
   "id": "a73de08c",
   "metadata": {},
   "outputs": [
    {
     "data": {
      "text/plain": [
       "0.9280094407790563"
      ]
     },
     "execution_count": 84,
     "metadata": {},
     "output_type": "execute_result"
    }
   ],
   "source": [
    "sgd.fit(X_train, y_train)\n",
    "\n",
    "sgd.score(X_test, y_test)"
   ]
  },
  {
   "cell_type": "markdown",
   "id": "e7cba5f0",
   "metadata": {},
   "source": [
    "### OPTION 2: ```early_stopping```,```validation_fraction```\n",
    "\n",
    "- SGD stops when:\n",
    "    - Either the validation score does not improve by at least ```tol``` for ```n_iter_no_change``` consecutive epochs\n",
    "    - Or after ```max_iter``` number of iterations"
   ]
  },
  {
   "cell_type": "code",
   "execution_count": 94,
   "id": "710cd0e3",
   "metadata": {},
   "outputs": [],
   "source": [
    "sgd = SGDRegressor(loss='squared_error',\n",
    "                  max_iter=500,\n",
    "                  early_stopping=True,\n",
    "                  tol=1e-3, # tolerance\n",
    "                  validation_fraction=0.2, # ratio of validation set\n",
    "                  n_iter_no_change=5)"
   ]
  },
  {
   "cell_type": "code",
   "execution_count": 95,
   "id": "2bdf1ba2",
   "metadata": {},
   "outputs": [
    {
     "data": {
      "text/plain": [
       "0.9273602863514955"
      ]
     },
     "execution_count": 95,
     "metadata": {},
     "output_type": "execute_result"
    }
   ],
   "source": [
    "sgd.fit(X_train, y_train)\n",
    "sgd.score(X_test, y_test)"
   ]
  },
  {
   "cell_type": "markdown",
   "id": "6774e48e",
   "metadata": {},
   "source": [
    "## Averaged SGD\n",
    "\n",
    "- Averaged SGD updates the weight vector to **<span style=\"color:purple\">average of weights</span>** from the previous update\n",
    "\n",
    "### OPTION 1: Avg across all updates\n",
    "\n",
    "   ```average = True```"
   ]
  },
  {
   "cell_type": "code",
   "execution_count": 96,
   "id": "078acf0e",
   "metadata": {},
   "outputs": [],
   "source": [
    "sgd = SGDRegressor(average=True) #Default = False"
   ]
  },
  {
   "cell_type": "code",
   "execution_count": 100,
   "id": "740b30f2",
   "metadata": {},
   "outputs": [
    {
     "data": {
      "text/plain": [
       "0.9227662761491008"
      ]
     },
     "execution_count": 100,
     "metadata": {},
     "output_type": "execute_result"
    }
   ],
   "source": [
    "sgd.fit(X_train, y_train)\n",
    "sgd.score(X_test, y_test)"
   ]
  },
  {
   "cell_type": "markdown",
   "id": "b6d0f86c",
   "metadata": {},
   "source": [
    "### OPTION 2: set ```average``` to int value\n",
    "\n",
    "- Averaging begins once the total number of samples seen reaches ```average```\n",
    "\n",
    "For example,\n",
    "```average = 10``` starts averaging after seeing 10 samples\n",
    "\n",
    "- Averaged SGD works best with a <span style=\"color:purple\">large number of features</span> and a <span style=\"color:purple\">higher eta0</span>\n",
    "\n"
   ]
  },
  {
   "cell_type": "markdown",
   "id": "69701c17",
   "metadata": {},
   "source": [
    "## Monitoring SGD loss iteration-after-iteration\n",
    "\n",
    "- We can use ```warm_start = True``` to initialize SGD with weight vetor of the previous run\n",
    "\n"
   ]
  },
  {
   "cell_type": "code",
   "execution_count": 109,
   "id": "d78f7c2d",
   "metadata": {},
   "outputs": [],
   "source": [
    "from sklearn.metrics import mean_squared_error"
   ]
  },
  {
   "cell_type": "code",
   "execution_count": 110,
   "id": "d10831d5",
   "metadata": {},
   "outputs": [
    {
     "name": "stdout",
     "output_type": "stream",
     "text": [
      "0.3520992792992147\n",
      "0.3145686886657509\n",
      "0.24082186864167524\n",
      "0.20836156132565467\n",
      "0.16916949578865786\n",
      "0.1443101631246035\n",
      "0.12547384792784957\n",
      "0.11087069431800611\n",
      "0.09907556266451734\n",
      "0.09241326401892962\n",
      "0.08002785452726825\n",
      "0.07572104047376742\n",
      "0.06983357523319107\n",
      "0.06588469502831872\n",
      "0.06363650535274372\n",
      "0.06283401034391699\n",
      "0.060114161235858325\n",
      "0.057934333855318584\n",
      "0.05734039399592915\n",
      "0.05576128283421084\n",
      "0.05660864402143941\n",
      "0.0594391226541095\n",
      "0.05565684282871669\n",
      "0.05539673840947562\n",
      "0.054865407935543425\n",
      "0.05357224547927455\n",
      "0.05304811681681518\n",
      "0.054193872516489126\n",
      "0.05277979245544528\n",
      "0.05310074800253968\n",
      "0.05266388512272097\n",
      "0.05258948664402169\n",
      "0.053479085420103524\n",
      "0.05241209664683175\n",
      "0.05268119838037313\n",
      "0.052458457999202984\n",
      "0.054227821500559485\n",
      "0.05255141183137868\n",
      "0.052251302097716466\n",
      "0.05254102566644347\n",
      "0.0520086477527281\n",
      "0.052640478871764144\n",
      "0.05267194528011642\n",
      "0.05212940924511088\n",
      "0.05356106305951182\n",
      "0.05232941115817316\n",
      "0.052380810640491535\n",
      "0.05200804283723479\n",
      "0.05278448719517361\n",
      "0.051578611671621685\n",
      "0.05206573057453587\n",
      "0.05194953607988032\n",
      "0.052031930575825745\n",
      "0.05136529453021965\n",
      "0.051779462393089275\n",
      "0.05099214235197535\n",
      "0.05280182569067089\n",
      "0.05090168970135502\n",
      "0.05133657029338937\n",
      "0.05181235123519381\n",
      "0.05269259913319626\n",
      "0.053274344942413\n",
      "0.05189044535555518\n",
      "0.05050750555372877\n",
      "0.05032518870957161\n",
      "0.05131124265342518\n",
      "0.053807156121954906\n",
      "0.05408402825850142\n",
      "0.050902508247738315\n",
      "0.05145959915278575\n",
      "0.05009328981100508\n",
      "0.05047262265559248\n",
      "0.05018084534546042\n",
      "0.049939567030340616\n",
      "0.05007658064231316\n",
      "0.05074229708867713\n",
      "0.04974111879067144\n",
      "0.049536319105556365\n",
      "0.04942531023713637\n",
      "0.05005407469801817\n",
      "0.05204759964843676\n",
      "0.049268321465484786\n",
      "0.051849209697814674\n",
      "0.049118272853560026\n",
      "0.04971147146798002\n",
      "0.04907066235387187\n",
      "0.04938528585553226\n",
      "0.049101157704426086\n",
      "0.049344666168157796\n",
      "0.05050504529297597\n",
      "0.04992076661974645\n",
      "0.049478116634270354\n",
      "0.04935003067004493\n",
      "0.04897405214149957\n",
      "0.04851954985159183\n",
      "0.04895123167719038\n",
      "0.04831966752860566\n",
      "0.04834573073636981\n",
      "0.04835586691812085\n",
      "0.04825247238273493\n",
      "0.04854487032644638\n",
      "0.049832932087985\n",
      "0.04795097945894138\n",
      "0.04878273613425787\n",
      "0.048100210080127305\n",
      "0.04846071079208575\n",
      "0.047868927709101484\n",
      "0.04776605104152428\n",
      "0.049173008668376615\n",
      "0.04799969884511603\n",
      "0.049720600789591556\n",
      "0.04753403059625502\n",
      "0.04764501992921875\n",
      "0.04819158068432287\n",
      "0.047342287972179056\n",
      "0.051163116608178044\n",
      "0.05332644819410809\n",
      "0.04724806812912202\n",
      "0.05021613246474927\n",
      "0.05182994207329912\n",
      "0.048721511560175026\n",
      "0.047010762928094765\n",
      "0.0469990216610105\n",
      "0.04713121678028729\n",
      "0.04685281938342406\n",
      "0.04680809208729995\n",
      "0.046836100669992234\n",
      "0.04698202758593031\n",
      "0.04709589508528858\n",
      "0.04916118909486721\n",
      "0.04655103192437434\n",
      "0.047773509283235864\n",
      "0.04723532431865997\n",
      "0.046456146735904404\n",
      "0.046511697144019065\n",
      "0.046458703835175516\n",
      "0.04630788225497169\n",
      "0.046233038666019334\n",
      "0.046226381896856475\n",
      "0.04669940680495495\n",
      "0.04723467927261066\n",
      "0.0461016664552502\n",
      "0.04652761433077309\n",
      "0.046498461032862634\n",
      "0.04682506309810993\n",
      "0.04620590745195269\n",
      "0.04589243441228386\n",
      "0.04784079267994934\n",
      "0.04598718161784251\n",
      "0.04609171674533526\n",
      "0.045743588323093276\n",
      "0.047362945073240514\n",
      "0.045620300194656745\n",
      "0.045811227754046197\n",
      "0.04571632318360363\n",
      "0.045740064033708526\n",
      "0.04561642391589471\n",
      "0.045611363884562196\n",
      "0.04545482298783447\n",
      "0.04568638455650219\n",
      "0.0470208687455138\n",
      "0.04528081087717777\n",
      "0.04531320221099147\n",
      "0.04592902648429458\n",
      "0.04514848303275528\n",
      "0.04607922202653965\n",
      "0.04662645079485902\n",
      "0.04503822154479674\n",
      "0.04508147383201015\n",
      "0.0469845395601462\n",
      "0.045395708780264464\n",
      "0.04518707636282915\n",
      "0.04578415146043698\n",
      "0.04479241468797576\n",
      "0.04475856906964454\n",
      "0.04592862010806912\n",
      "0.0472015614407071\n",
      "0.044877269201846516\n",
      "0.04486977470022657\n",
      "0.044858428737415516\n",
      "0.046930858254124644\n",
      "0.04463015827228263\n",
      "0.0455421943280544\n",
      "0.04557904503131534\n",
      "0.044390611730645325\n",
      "0.04456415394690847\n",
      "0.04455664802956418\n",
      "0.04433700076988267\n",
      "0.04430116591165119\n",
      "0.044434079261998216\n",
      "0.04425605486815805\n",
      "0.04515229470003727\n",
      "0.0441185396312604\n",
      "0.04427600653839907\n",
      "0.046000106339846095\n",
      "0.04472000380416587\n",
      "0.04603111171277827\n",
      "0.04509399801124523\n",
      "0.04520271799596461\n",
      "0.04455235803801052\n",
      "0.04440182777543044\n",
      "0.04406067163142689\n",
      "0.04430106864799189\n",
      "0.04386229707618572\n",
      "0.04488401243478158\n",
      "0.044136361179391764\n",
      "0.043713669991044445\n",
      "0.04372500147940556\n",
      "0.043847303480292844\n",
      "0.04379812284745625\n",
      "0.04373368617080824\n",
      "0.04618529558006093\n",
      "0.04378488002894369\n",
      "0.04355749801523181\n",
      "0.04369922858812205\n",
      "0.043852173176208854\n",
      "0.04376143418620457\n",
      "0.044788070389964296\n",
      "0.04340618801550625\n",
      "0.043356816818089894\n",
      "0.04354490344163873\n",
      "0.04370398795652817\n",
      "0.04339644044404927\n",
      "0.043542551184038145\n",
      "0.043208754844168265\n",
      "0.043249349089463145\n",
      "0.043149146268219904\n",
      "0.04320113384669137\n",
      "0.044001879253953914\n",
      "0.045335991071316036\n",
      "0.043386082181492286\n",
      "0.04301154730422267\n",
      "0.04314567711563335\n",
      "0.043342982340650156\n",
      "0.043105177721736616\n",
      "0.043862611111514925\n",
      "0.04310201935827853\n",
      "0.04359487317283199\n",
      "0.04283031925030747\n",
      "0.04304922497636263\n",
      "0.04277296881430157\n",
      "0.04275351932870614\n",
      "0.04306092852097088\n",
      "0.044284401731522836\n",
      "0.04326463824966045\n",
      "0.04354913373932295\n",
      "0.042693156352875655\n",
      "0.04586204051529711\n",
      "0.0460963868850107\n",
      "0.04250907181911053\n",
      "0.04294444012717435\n",
      "0.04277417196239136\n",
      "0.04296525051769522\n",
      "0.042619795846619915\n",
      "0.042532619983950824\n",
      "0.04278639117162974\n",
      "0.04463152741600078\n",
      "0.042762242227500594\n",
      "0.04238471656953476\n",
      "0.04239844496477463\n",
      "0.042325450946851036\n",
      "0.04267707933678352\n",
      "0.04338072883253704\n",
      "0.04516886876031211\n",
      "0.042892119632037325\n",
      "0.04449359485643132\n",
      "0.042170404992536055\n",
      "0.04267535648786819\n",
      "0.04301441597708022\n",
      "0.04600103493470823\n",
      "0.0425918615758944\n",
      "0.04265840985409054\n",
      "0.04220034788199509\n",
      "0.04231988571644495\n",
      "0.04202845748055724\n",
      "0.041986457294472444\n",
      "0.041955227632653525\n",
      "0.04200249468329091\n",
      "0.041912631468384476\n",
      "0.04416908769714136\n",
      "0.041937043755568885\n",
      "0.04201669440303823\n",
      "0.04217107164240321\n",
      "0.04230490567145599\n",
      "0.043676254930749954\n",
      "0.042083307282800686\n",
      "0.04243921442265281\n",
      "0.04196254492126587\n",
      "0.04229501361835988\n",
      "0.04168132701661577\n",
      "0.04181635333469753\n",
      "0.04177602211758275\n",
      "0.04163857409558931\n",
      "0.043287842322857095\n",
      "0.04201518069400234\n",
      "0.041587796865780055\n",
      "0.04158385798393173\n",
      "0.04155329346426794\n",
      "0.044206538072952106\n",
      "0.04217474956745398\n",
      "0.043814662735371844\n",
      "0.0415651063072012\n",
      "0.0416358831597225\n",
      "0.04349298109733129\n",
      "0.04349115969074685\n",
      "0.04142620714004454\n",
      "0.04143768683662134\n",
      "0.04334143707345156\n",
      "0.04323267881132236\n",
      "0.042158060889010564\n",
      "0.0416611837090462\n",
      "0.04530844830274233\n",
      "0.041663554184059814\n",
      "0.043288871599683566\n",
      "0.04123278235350971\n",
      "0.04159300888040162\n",
      "0.04201712758308046\n",
      "0.0413051219815886\n",
      "0.04126451525073258\n",
      "0.041451026922050584\n",
      "0.04265065173922609\n",
      "0.04167919734642435\n",
      "0.04113276041977625\n",
      "0.041304405740473726\n",
      "0.041306980640386605\n",
      "0.041891470393847004\n",
      "0.04104060948197904\n",
      "0.04099453576499173\n",
      "0.04100475229993578\n",
      "0.040985183265776146\n",
      "0.04096986563720086\n",
      "0.04129691818659483\n",
      "0.04096704911201598\n",
      "0.0409068012967402\n",
      "0.040982530554644014\n",
      "0.04094943894159133\n",
      "0.04207763878315098\n",
      "0.040873188860579834\n",
      "0.04090887370074119\n",
      "0.04167397255552812\n",
      "0.04132559399884982\n",
      "0.04097899312559585\n",
      "0.040823262073060175\n",
      "0.04075351427578372\n",
      "0.040849772180584325\n",
      "0.04074821000077126\n",
      "0.04069048096414011\n",
      "0.04068219936071514\n",
      "0.042394922020830776\n",
      "0.040722604660291484\n",
      "0.0411260346848303\n",
      "0.04080470440430726\n",
      "0.04062383281390105\n",
      "0.04072404340996477\n",
      "0.040737514839705724\n",
      "0.040561721657427906\n",
      "0.04108774039888555\n",
      "0.04055608608636469\n",
      "0.041336920879372734\n",
      "0.04132530726725941\n",
      "0.0435081550199003\n",
      "0.0404766464935325\n",
      "0.04048741095201208\n",
      "0.04109343833649996\n",
      "0.04084622659133851\n",
      "0.04206111355422801\n",
      "0.04073451934027049\n",
      "0.04038505178061589\n",
      "0.04111012828080224\n",
      "0.04049509266980525\n",
      "0.040599819265771386\n",
      "0.04257835846701359\n",
      "0.040845484226244386\n",
      "0.040336646057820835\n",
      "0.04048176751527072\n",
      "0.04027617326355061\n",
      "0.041441987079456545\n",
      "0.04039180458664745\n",
      "0.04028301301102586\n",
      "0.040548773460451756\n",
      "0.04043184213895335\n",
      "0.04028695960414727\n",
      "0.040204017991991685\n",
      "0.041724225892035643\n",
      "0.04481396966331651\n",
      "0.040178020198199646\n",
      "0.04061013966593252\n",
      "0.04042470560155555\n",
      "0.040569899290496515\n",
      "0.04038351547193977\n",
      "0.04025113448463845\n",
      "0.041079945127420386\n",
      "0.04005215257676961\n",
      "0.0402059392037615\n",
      "0.040028084292155014\n",
      "0.04141431524624645\n",
      "0.04005847099343768\n",
      "0.04020641087938536\n",
      "0.04001537549835297\n",
      "0.040520288336327086\n",
      "0.04068728883928168\n",
      "0.04020296132769757\n",
      "0.040482364263114114\n",
      "0.0403280867294998\n",
      "0.0404320886012752\n",
      "0.0405165650555847\n",
      "0.041049541683707065\n",
      "0.042134270120595264\n",
      "0.03998156949215021\n",
      "0.04071995293435362\n",
      "0.03987265970752146\n",
      "0.039860459677311326\n",
      "0.04020507776093591\n",
      "0.039824750553676486\n",
      "0.04010938954019337\n",
      "0.04007145784970947\n",
      "0.04115010275177883\n",
      "0.03982626160065078\n",
      "0.04006847591114625\n",
      "0.03978295141745901\n",
      "0.04006550259989498\n",
      "0.04187780969538836\n",
      "0.03979649734547209\n",
      "0.039934656967911056\n",
      "0.03974497071924949\n",
      "0.04053392512792672\n",
      "0.04023207600380682\n",
      "0.03996645529576316\n",
      "0.04160394493022282\n",
      "0.04030496113883689\n",
      "0.04015181427165827\n",
      "0.039730930171986076\n",
      "0.039655259067861166\n",
      "0.04200000712435589\n",
      "0.03996880902537336\n",
      "0.041994901283826956\n",
      "0.040031589641572204\n",
      "0.03967039356751954\n",
      "0.040740908997219265\n",
      "0.03971826854626625\n",
      "0.04001196921832764\n",
      "0.04015228593547027\n",
      "0.03970848169082969\n",
      "0.03964851928616152\n",
      "0.04012110709838078\n",
      "0.03962901789681208\n",
      "0.039480460961203154\n",
      "0.03953265326730039\n",
      "0.041467938187041996\n",
      "0.0395288887504909\n",
      "0.04028775455222014\n",
      "0.04143573037228033\n",
      "0.03949672193367259\n",
      "0.03966222765415952\n",
      "0.039945626112056085\n",
      "0.039877156766040964\n",
      "0.03944436682904271\n",
      "0.03956303926269237\n",
      "0.04100355042192496\n",
      "0.039450828666911575\n",
      "0.039386810868808214\n",
      "0.04016976058837248\n",
      "0.0394369382210176\n",
      "0.03936202811557101\n",
      "0.03933356143614739\n",
      "0.03940646523075688\n",
      "0.0392917670944091\n",
      "0.03964438481869309\n",
      "0.04009837805414851\n",
      "0.04179459685902907\n",
      "0.04124224829759193\n",
      "0.039428820341547516\n",
      "0.039223919823964615\n",
      "0.03936373557616676\n",
      "0.03932921140541657\n",
      "0.03945738620386002\n",
      "0.03919386973291609\n",
      "0.040410379761997996\n",
      "0.03924049200537719\n",
      "0.039600831865267916\n",
      "0.041533159428620105\n",
      "0.03920358790244851\n",
      "0.042184943222019426\n",
      "0.03913148737734992\n",
      "0.03910096790538358\n",
      "0.03929923200982438\n",
      "0.03914164130814433\n",
      "0.03945492424207774\n",
      "0.04048065208132158\n",
      "0.039061396783048714\n",
      "0.039079832465996854\n",
      "0.04131180643842083\n",
      "0.04010672782355412\n",
      "0.0390274659030248\n",
      "0.03900993976887387\n",
      "0.039094473123863216\n",
      "0.0400659142968233\n",
      "0.039829617917315076\n",
      "0.03897871328256535\n",
      "0.03897671560239311\n",
      "0.0389792131854162\n",
      "0.03896532030376944\n",
      "0.03897063382179846\n",
      "0.03901375838289682\n",
      "0.038961312523631865\n",
      "0.03900236174878252\n",
      "0.04287138910916401\n",
      "0.04006802259160051\n",
      "0.03904785675520799\n",
      "0.03958463285847505\n",
      "0.03977869242376032\n",
      "0.039077774745330175\n",
      "0.039405012126085284\n",
      "0.039182095235675105\n",
      "0.040651469125192165\n",
      "0.03967917188435977\n",
      "0.03887166406978569\n",
      "0.03886420632313412\n",
      "0.039324291688113876\n",
      "0.04043136049948344\n",
      "0.04000525953872615\n",
      "0.038810204169618424\n",
      "0.03892294658927481\n",
      "0.039405171218327435\n",
      "0.040239295293772216\n",
      "0.03933936476654268\n",
      "0.039474753197985636\n",
      "0.03965270238386707\n",
      "0.03950022003057169\n",
      "0.03876537672123013\n",
      "0.03941877506124974\n",
      "0.03937768046056729\n",
      "0.03883810786249422\n",
      "0.039053155521315434\n",
      "0.038946292584838026\n",
      "0.039951564896230696\n",
      "0.03893661290242462\n",
      "0.038713087704996166\n",
      "0.03909234665610937\n",
      "0.03874598386996637\n",
      "0.038959717437863965\n",
      "0.040816979908931864\n",
      "0.04049412154888974\n",
      "0.040512265606353126\n",
      "0.0387584746775896\n",
      "0.03876496420163401\n",
      "0.03863223918522683\n",
      "0.04083472634872331\n",
      "0.03866402233357819\n",
      "0.03883691297171868\n",
      "0.039065644345033866\n",
      "0.03873117445717101\n",
      "0.03869415261048683\n",
      "0.03864437259515855\n",
      "0.0386176934898574\n",
      "0.038590927438320564\n",
      "0.0387728684462537\n",
      "0.038742155074392916\n",
      "0.03862423009051057\n",
      "0.03878548713682127\n",
      "0.03883532282974054\n",
      "0.03878791717837993\n",
      "0.039996614571024325\n",
      "0.039693994751868925\n",
      "0.03858441731363136\n",
      "0.03894967889133402\n",
      "0.03851532367239673\n",
      "0.03880764881955145\n",
      "0.03891222853882057\n",
      "0.0397129798111327\n",
      "0.0388624866442241\n",
      "0.03988499584843377\n",
      "0.03847042273119224\n",
      "0.03857061026445993\n",
      "0.03856364466642433\n",
      "0.03861396889141663\n",
      "0.03844075483167986\n",
      "0.03873075801078377\n",
      "0.03875526930660089\n",
      "0.040279110875740425\n",
      "0.04060633246906318\n",
      "0.03846381583027213\n",
      "0.038840901310209515\n",
      "0.038449674563382864\n",
      "0.038416653326383846\n",
      "0.03864978742407342\n",
      "0.04081363973297898\n",
      "0.04020512230628241\n",
      "0.03845607855155731\n",
      "0.0384821818421627\n",
      "0.04007698071214933\n",
      "0.03969035874138582\n",
      "0.0387355546602863\n",
      "0.03850677141467873\n",
      "0.0383597589408077\n",
      "0.041092284590072324\n",
      "0.03884795249743149\n",
      "0.038478988056547536\n",
      "0.03912737003672397\n",
      "0.03827901749888403\n",
      "0.03840612464595793\n",
      "0.038519147404644814\n",
      "0.03829996350427797\n",
      "0.03847700812602019\n",
      "0.03860443976013072\n",
      "0.03829172508484798\n",
      "0.03898317130279455\n",
      "0.03861600939193183\n",
      "0.0382936105770138\n",
      "0.03903770861624437\n",
      "0.038464565315966905\n",
      "0.03829145607465169\n",
      "0.041893323606297106\n",
      "0.03976219887531846\n",
      "0.03920137730960871\n",
      "0.038339065027387466\n",
      "0.0391072986520604\n",
      "0.03936514784435135\n",
      "0.03855134595294231\n",
      "0.03831450720236949\n",
      "0.03834695822226134\n",
      "0.03967205022178396\n",
      "0.0382159762378031\n",
      "0.03899308449928768\n",
      "0.039722599510453725\n",
      "0.03947290538085766\n",
      "0.039457882040744637\n",
      "0.03936344662482608\n",
      "0.03878456257021547\n",
      "0.038358629121906095\n",
      "0.0399945023647939\n",
      "0.03957151769914602\n",
      "0.038595298291312495\n",
      "0.04063045425256014\n",
      "0.03833703459846147\n",
      "0.03821693457235967\n",
      "0.03845014561911207\n",
      "0.03839434562872086\n",
      "0.03919314801300317\n",
      "0.03816356694094403\n",
      "0.03874748273497798\n",
      "0.03833437483383366\n",
      "0.03815523198469978\n",
      "0.03957836685307297\n",
      "0.03815927935912184\n",
      "0.038192439345474345\n",
      "0.03829681078239719\n",
      "0.03819426073642487\n",
      "0.03813399509618738\n",
      "0.03818572883811368\n",
      "0.03807334362210253\n",
      "0.03856853228589206\n",
      "0.039584065991911034\n",
      "0.04131879555833417\n",
      "0.04190585415691252\n",
      "0.038324640993869265\n",
      "0.03806142388549065\n",
      "0.03815989177834735\n",
      "0.040755546603400736\n",
      "0.03919665946014341\n",
      "0.040464697975474626\n",
      "0.03819383429040152\n",
      "0.0385835052957293\n",
      "0.03800128911594016\n",
      "0.03808366924538556\n",
      "0.03801262470251942\n",
      "0.03818844972318567\n",
      "0.03813471699730884\n",
      "0.03794101468280414\n",
      "0.03791885645418407\n",
      "0.03791886066604609\n",
      "0.0379632778617128\n",
      "0.037965226617074535\n",
      "0.03841161695797672\n",
      "0.03792844332111439\n",
      "0.0383502490037764\n",
      "0.03854134657090251\n",
      "0.03806413059165888\n",
      "0.038764789740355715\n",
      "0.03790788020200971\n",
      "0.03835251574621884\n",
      "0.03799213008558238\n",
      "0.03830610831010061\n",
      "0.03820662860426724\n",
      "0.03939202334515012\n",
      "0.03907159817481141\n",
      "0.037867475146971724\n",
      "0.04113634621530391\n",
      "0.038552600714567384\n",
      "0.03890157583960454\n",
      "0.03796759275421655\n",
      "0.03887756343553781\n",
      "0.03837500489252014\n",
      "0.038494860746391496\n",
      "0.03798899914289413\n",
      "0.03895443690252873\n",
      "0.03821695409981331\n",
      "0.03795652585569648\n",
      "0.03878624496456475\n",
      "0.038413959327110295\n",
      "0.03784410185583019\n",
      "0.03820114144208661\n",
      "0.03831098889592784\n",
      "0.03782710366616588\n",
      "0.037951555640516464\n",
      "0.038827362848608674\n",
      "0.03785160461946332\n",
      "0.03863059107793182\n",
      "0.040060258517307344\n",
      "0.0407945687130204\n",
      "0.03990590786016745\n",
      "0.038762623078144695\n",
      "0.0390603836367958\n",
      "0.03794479112455641\n",
      "0.04093754118529529\n",
      "0.03814674537511803\n",
      "0.038141547315697515\n",
      "0.03792215295936594\n",
      "0.037821747910387296\n",
      "0.03820997742456593\n",
      "0.039251824645931604\n",
      "0.03891602759148475\n",
      "0.042392198820788665\n",
      "0.03812796826876805\n",
      "0.03786485746717094\n",
      "0.037862779104051544\n",
      "0.039166051818546065\n",
      "0.03783826369531108\n",
      "0.037739405530060964\n",
      "0.03907890175745618\n",
      "0.03848954960934843\n",
      "0.03774183201384913\n",
      "0.037723730524324116\n",
      "0.03785118497484411\n",
      "0.037809332950714605\n",
      "0.03778549973838735\n",
      "0.03916825602830278\n",
      "0.037708281009809\n",
      "0.038032497535948215\n",
      "0.0378670652100356\n",
      "0.038062687289765515\n",
      "0.03814865178500672\n",
      "0.03767153277893905\n",
      "0.037656296354289756\n",
      "0.03784977403451123\n",
      "0.037949842013268696\n",
      "0.03958085802097395\n",
      "0.03845537685572519\n",
      "0.040466348727479534\n",
      "0.03765889829688088\n",
      "0.0379726558733682\n",
      "0.038134172663477156\n",
      "0.03772196486223577\n",
      "0.03760620784506528\n",
      "0.03821824296739217\n",
      "0.03883446926079019\n",
      "0.03767770174487482\n",
      "0.039182091976361993\n",
      "0.037660906986259374\n",
      "0.037881094157017216\n",
      "0.03853145570951069\n",
      "0.03767137581488988\n",
      "0.03781427348766413\n",
      "0.03968336983601925\n",
      "0.0397711999135024\n",
      "0.03757414028047386\n",
      "0.03777716718111264\n",
      "0.0376037112524981\n",
      "0.03808136101898594\n",
      "0.03876292549950655\n",
      "0.03845861823271479\n",
      "0.037558824152656746\n",
      "0.037565254325948205\n",
      "0.0394724598054338\n",
      "0.039468625974347665\n",
      "0.037594765038873865\n",
      "0.04207633629589539\n",
      "0.03779950579835115\n",
      "0.03754008927992189\n",
      "0.037717991375545525\n",
      "0.037906218081804034\n",
      "0.038111747192482094\n",
      "0.03750829235271202\n",
      "0.037527036721973786\n",
      "0.037849581021779675\n",
      "0.03765970391087185\n",
      "0.037762239723719254\n",
      "0.03773923221764856\n",
      "0.03860148334349831\n",
      "0.037751869155820794\n",
      "0.038074043033407355\n",
      "0.038781180934565625\n",
      "0.03749064748429737\n",
      "0.03748562366302501\n",
      "0.03761011301609908\n",
      "0.03763765829725759\n",
      "0.038126307902328065\n",
      "0.038132486316782684\n",
      "0.03809580037326845\n",
      "0.03776063005350474\n",
      "0.03755729082844357\n",
      "0.037468281698490646\n",
      "0.039256078844152296\n",
      "0.03759796686846948\n",
      "0.03757113154293475\n",
      "0.040692683536247484\n",
      "0.03802667166959593\n",
      "0.038022207775478524\n",
      "0.03869133612061276\n",
      "0.0374319525912564\n",
      "0.03752778732988095\n",
      "0.03749942785064385\n",
      "0.0409713723707236\n",
      "0.039556876474017365\n",
      "0.037939442719393195\n",
      "0.042212916380975976\n",
      "0.03742671413842488\n",
      "0.03739502382487065\n",
      "0.03802763465627718\n",
      "0.039710605967135104\n",
      "0.03754473573622122\n",
      "0.03874117748146342\n",
      "0.03736094218379178\n",
      "0.039339474330416\n",
      "0.03780945313809671\n",
      "0.03746834820848182\n",
      "0.03886001183798297\n",
      "0.037745987362405954\n",
      "0.037402726744957884\n",
      "0.037638003008408326\n",
      "0.037469114956427484\n",
      "0.038379348653565626\n",
      "0.038179923008422934\n",
      "0.03756992407627161\n",
      "0.03758313052639505\n",
      "0.03740632083677556\n",
      "0.03738039831693193\n",
      "0.03738226141083168\n",
      "0.03737367677463926\n",
      "0.03737119929719818\n",
      "0.03821240899111848\n",
      "0.04347271961985126\n",
      "0.03742199958008887\n",
      "0.037388834527313584\n",
      "0.04235510932585497\n",
      "0.03778148471835189\n",
      "0.03736818335890484\n",
      "0.03833638600873221\n",
      "0.03745578484230373\n",
      "0.037362430018822\n",
      "0.03785801536592457\n",
      "0.03734557558480604\n",
      "0.03756730766438275\n",
      "0.03811008373057696\n",
      "0.03885052611734656\n",
      "0.03727118752802259\n",
      "0.03736264842893699\n",
      "0.037323045100208355\n",
      "0.037281516041029354\n",
      "0.03761664968917905\n",
      "0.038073902277254656\n",
      "0.03852250540620167\n",
      "0.03729572386024523\n",
      "0.04065518289599993\n",
      "0.0372543452979114\n",
      "0.03758750512893623\n",
      "0.038941868502389\n",
      "0.03724829624851137\n",
      "0.037305336219395455\n",
      "0.03776080889993533\n",
      "0.03894562104347878\n",
      "0.03757478795455634\n",
      "0.038165909286388106\n",
      "0.037642177400643774\n",
      "0.03852895035294445\n",
      "0.03733851502914619\n",
      "0.037485790588523894\n",
      "0.037246104566272066\n",
      "0.037241019254237145\n",
      "0.037365893928715053\n",
      "0.03729833702344918\n",
      "0.03726113745656932\n",
      "0.03728175295945491\n",
      "0.037773126369137155\n",
      "0.038238652734870295\n",
      "0.040020224990764984\n",
      "0.03731329932216945\n",
      "0.0372576758170769\n",
      "0.03724332070643097\n",
      "0.037214678140938505\n",
      "0.0400034667370873\n",
      "0.03726206046766031\n",
      "0.03720699839638759\n",
      "0.03825433633424008\n",
      "0.03795078607828426\n",
      "0.03785578253906158\n",
      "0.03735128060476502\n",
      "0.03757957935917619\n",
      "0.037584964400878655\n",
      "0.037442715304862886\n",
      "0.03745123091883599\n",
      "0.037177970136012733\n",
      "0.0371670329783172\n",
      "0.037169277793274995\n",
      "0.037166976510051415\n",
      "0.03769969340222628\n",
      "0.037681521359619566\n",
      "0.038899744139648716\n",
      "0.03716711786911107\n",
      "0.037691552142158746\n",
      "0.03937212168773603\n",
      "0.03737288320425767\n",
      "0.03735170235722115\n",
      "0.0373079032281498\n",
      "0.04220257965553285\n",
      "0.03713425820931369\n",
      "0.04116009670001119\n",
      "0.03754589911429663\n",
      "0.037236605465148315\n",
      "0.03727324717545251\n",
      "0.03797422170480682\n",
      "0.037242364526629636\n",
      "0.03714748843754011\n",
      "0.0379953738647289\n",
      "0.03711262235758733\n",
      "0.0371839742834987\n",
      "0.037737364368157535\n",
      "0.03742529260478684\n",
      "0.03717631997950612\n",
      "0.037443006073236716\n",
      "0.037094331077666305\n",
      "0.037221695171942695\n",
      "0.03731083087670031\n",
      "0.03767374271519691\n",
      "0.037303118062681107\n",
      "0.03706919423815075\n",
      "0.03927906882767419\n",
      "0.03763395006917497\n",
      "0.03794900323851268\n",
      "0.0389993105664497\n",
      "0.03777581612042557\n",
      "0.03784738081445269\n",
      "0.037169907983208766\n",
      "0.03732702808925479\n",
      "0.03707611254085049\n",
      "0.03749637927044741\n",
      "0.04123394116746274\n",
      "0.037884399814762874\n",
      "0.03708342071836226\n",
      "0.03715808137993845\n",
      "0.037019366505532274\n",
      "0.037154619407159056\n",
      "0.037420866969473054\n",
      "0.037342072190339554\n",
      "0.0371869197910207\n",
      "0.037161829034496774\n",
      "0.03784018103246277\n",
      "0.03701807147939925\n",
      "0.03937016025007667\n",
      "0.03733628936273425\n",
      "0.0383410833526861\n",
      "0.03735555237660566\n",
      "0.03708583814996572\n",
      "0.037444857458688675\n",
      "0.037199702844120365\n",
      "0.03764886553972512\n",
      "0.0373914906415272\n",
      "0.0380768679356604\n",
      "0.03700149176319001\n",
      "0.03751135318716155\n",
      "0.03773110782443911\n",
      "0.03985398019274572\n",
      "0.03700128413803954\n",
      "0.03719719637337075\n",
      "0.03700632867301164\n",
      "0.03760206073305964\n",
      "0.0369791129667009\n",
      "0.03779697661358383\n",
      "0.037278979097988586\n",
      "0.037227624776833605\n",
      "0.03768846464039188\n",
      "0.03706912026502157\n",
      "0.038707082928426416\n",
      "0.03738637512848025\n",
      "0.03799246089803248\n",
      "0.03753416583914547\n",
      "0.039284538197395365\n",
      "0.04218156507564294\n",
      "0.038458575266467177\n",
      "0.038479683002856015\n",
      "0.03695156041460747\n",
      "0.03697030774817701\n",
      "0.037401231030272195\n",
      "0.03707772907808393\n",
      "0.0369658940628044\n",
      "0.03695636440905603\n",
      "0.03727473145159416\n",
      "0.03701873885130397\n",
      "0.03829836619792628\n",
      "0.03736683537333395\n"
     ]
    }
   ],
   "source": [
    "sgd = SGDRegressor(max_iter=1,\n",
    "                  tol=None,\n",
    "                  warm_start=True,\n",
    "                  penalty=None,\n",
    "                  learning_rate=\"constant\",\n",
    "                  eta0=5e-4)\n",
    "\n",
    "for epoch in range(1000):\n",
    "    sgd.fit(X_train, y_train) # Continues where it left off\n",
    "    y_test_predict = sgd.predict(X_test) # Should use cross-val here\n",
    "    test_error = mean_squared_error(y_test, y_test_predict)\n",
    "    print(test_error)"
   ]
  },
  {
   "cell_type": "code",
   "execution_count": 111,
   "id": "0ba7170f",
   "metadata": {},
   "outputs": [
    {
     "data": {
      "text/plain": [
       "0.94694423768034"
      ]
     },
     "execution_count": 111,
     "metadata": {},
     "output_type": "execute_result"
    }
   ],
   "source": [
    "sgd.score(X_test, y_test)"
   ]
  },
  {
   "cell_type": "markdown",
   "id": "cab9c164",
   "metadata": {},
   "source": [
    "# Model Inspection\n",
    "\n",
    "- We know that the linear regression finds the best fit line for us for the data it is trained on.\n",
    "\n",
    "$$\n",
    "\\hat{y} = w_0 + w_1x_1 + w_2x_2 + ... + w_dx_d = w^Tx\n",
    "$$\n",
    "\n",
    "- the weights, $w_1, w_2, ..., w_d$ are stored in <span style=\"color:purple\">.coef_</span>\n",
    "\n",
    "- The intercept $w_0$ is stored in  <span style=\"color:purple\">.intercept_</span>"
   ]
  },
  {
   "cell_type": "code",
   "execution_count": 112,
   "id": "1d2bca2b",
   "metadata": {},
   "outputs": [
    {
     "data": {
      "text/plain": [
       "array([-0.1123765 , -0.01788358,  0.29592857,  0.46510318])"
      ]
     },
     "execution_count": 112,
     "metadata": {},
     "output_type": "execute_result"
    }
   ],
   "source": [
    "sgd.coef_"
   ]
  },
  {
   "cell_type": "code",
   "execution_count": 113,
   "id": "392f72cb",
   "metadata": {},
   "outputs": [
    {
     "data": {
      "text/plain": [
       "array([0.04883534])"
      ]
     },
     "execution_count": 113,
     "metadata": {},
     "output_type": "execute_result"
    }
   ],
   "source": [
    "sgd.intercept_"
   ]
  },
  {
   "cell_type": "markdown",
   "id": "bc066bd4",
   "metadata": {},
   "source": [
    "# Model Inference\n",
    "\n",
    "- Making predictions out of the learnt model\n",
    "\n",
    "- Use ```.predict(features)```"
   ]
  },
  {
   "cell_type": "code",
   "execution_count": 114,
   "id": "2351204c",
   "metadata": {},
   "outputs": [
    {
     "data": {
      "text/plain": [
       "array([ 1.26225276, -0.01705879,  2.24868342,  1.35204729,  1.3062027 ,\n",
       "        0.0111322 ,  1.03764154,  1.7969714 ,  1.34209049,  1.06101121,\n",
       "        1.70060269, -0.08341228, -0.15410016, -0.06684543, -0.0088186 ,\n",
       "        1.41687694,  2.00435004,  1.04055291,  1.29452796,  1.95997869,\n",
       "        0.02994468,  1.59692366,  0.08567565,  1.91346838,  1.91725259,\n",
       "        1.85082792,  1.80477526,  2.04316355,  0.00960835,  0.02049539,\n",
       "       -0.14352824, -0.04046433,  1.19370385,  0.01513032, -0.02512094,\n",
       "        1.65949332,  1.30173161, -0.0612015 ])"
      ]
     },
     "execution_count": 114,
     "metadata": {},
     "output_type": "execute_result"
    }
   ],
   "source": [
    "y_test = sgd.predict(X_test)\n",
    "\n",
    "y_test"
   ]
  },
  {
   "cell_type": "markdown",
   "id": "8894d6ec",
   "metadata": {},
   "source": [
    "# Model Evaluation\n",
    "\n",
    "**General Steps in model evaluation**\n",
    "\n",
    "- <span style=\"color:red\">STEP 1: </span> Split data into train and test set (and also validation set)"
   ]
  },
  {
   "cell_type": "code",
   "execution_count": 115,
   "id": "5ccd4696",
   "metadata": {},
   "outputs": [],
   "source": [
    "from sklearn.model_selection import train_test_split\n",
    "\n",
    "X_train, X_test, y_train, y_test = train_test_split(X, y, random_state=42)\n"
   ]
  },
  {
   "cell_type": "markdown",
   "id": "4b15756f",
   "metadata": {},
   "source": [
    "- <span style=\"color:red\">STEP 2: </span> Fit the estimator on the training data\n",
    "\n",
    "- <span style=\"color:red\">STEP 3: </span> Calculate the training error (AKA empirical error)\n",
    "\n",
    "- <span style=\"color:red\">STEP 4: </span> Calculate the test error (AKA generalization error)\n",
    "\n",
    "- Compare training and test errors"
   ]
  },
  {
   "cell_type": "markdown",
   "id": "aa521644",
   "metadata": {},
   "source": [
    "## Evaluating trained LR model\n",
    "\n",
    "- use ```.score``` method on the LR object\n",
    "\n",
    "- The score returns $R^2$ or the coefficient of determination\n",
    "\n",
    "$$\n",
    "R^2 = 1 - \\dfrac{SSE}{SST}\n",
    "$$\n",
    "\n",
    "- Best possible score is 1.0, when SSE=0\n",
    "- Score can be negative, as the model can be arbitrarily worse\n",
    "- A constant model that always predicts the exepted value of $y$ would get a score of 0\n"
   ]
  },
  {
   "cell_type": "markdown",
   "id": "9a7d3ef5",
   "metadata": {
    "tags": []
   },
   "source": [
    "## Other Evaluation Metrics\n",
    "\n",
    "- ```mean_absolute_error```\n",
    "\n",
    "- ```mean_squared_error```\n",
    "\n",
    "- ```r2_score``` (same as ```score```)\n",
    "\n",
    "These metrics can also be used for multli-output regression setup"
   ]
  },
  {
   "cell_type": "code",
   "execution_count": 19,
   "id": "0a1e787c",
   "metadata": {},
   "outputs": [],
   "source": [
    "from sklearn.metrics import (mean_absolute_error, \n",
    "                             mean_squared_error, \n",
    "                             r2_score)\n"
   ]
  },
  {
   "cell_type": "code",
   "execution_count": 119,
   "id": "7b049c9d",
   "metadata": {},
   "outputs": [
    {
     "name": "stdout",
     "output_type": "stream",
     "text": [
      "Mean absolute error:  0.14413366347509876\n",
      "Mean squared error:  0.03736683537333395\n",
      "R2 score 0.94694423768034\n"
     ]
    }
   ],
   "source": [
    "print(\"Mean absolute error: \", \n",
    "      mean_absolute_error(y_test, y_test_predict))\n",
    "print(\"Mean squared error: \", \n",
    "      mean_squared_error(y_test, y_test_predict))\n",
    "print(\"R2 score\", \n",
    "      r2_score(y_test, y_test_predict))"
   ]
  },
  {
   "cell_type": "markdown",
   "id": "09589be7",
   "metadata": {},
   "source": [
    "***\n",
    "- ```mean_squared_log_error```\n",
    "    - Useful for targets with exponential growth like population, sales growth, etc\n",
    "    - Penalizes under-estimation heavier than over-estimations"
   ]
  },
  {
   "cell_type": "code",
   "execution_count": 122,
   "id": "271bdb6e",
   "metadata": {},
   "outputs": [],
   "source": [
    "from sklearn.metrics import mean_squared_log_error\n",
    "\n",
    "# mean_squared_log_error(y_test, y_test_predict)\n",
    "\n",
    "# Cannot be used with negative values in target column"
   ]
  },
  {
   "cell_type": "markdown",
   "id": "0e43c403",
   "metadata": {},
   "source": [
    "***\n",
    "- ```mean_absolute_percentage_error```\n",
    "    - Sensitive to relative error\n",
    "    - THE OUTPUT IS NOT A PERCENTAGE\n",
    "    - THE OUTPUT CAN BE A VERY LARGE NUMBER AS WELL"
   ]
  },
  {
   "cell_type": "code",
   "execution_count": 130,
   "id": "ded20d82",
   "metadata": {},
   "outputs": [
    {
     "name": "stdout",
     "output_type": "stream",
     "text": [
      "mean_absolute_percentage_error:  91557809161371.9\n"
     ]
    }
   ],
   "source": [
    "from sklearn.metrics import mean_absolute_percentage_error\n",
    "\n",
    "print(\"mean_absolute_percentage_error: \", \n",
    "      mean_absolute_percentage_error(y_test, y_test_predict))\n",
    "\n"
   ]
  },
  {
   "cell_type": "code",
   "execution_count": 131,
   "id": "ee89ede0",
   "metadata": {},
   "outputs": [],
   "source": [
    "?mean_absolute_percentage_error"
   ]
  },
  {
   "cell_type": "markdown",
   "id": "0055811d",
   "metadata": {},
   "source": [
    "***\n",
    "- ```median_absolute_error```\n",
    "    - Robust to outliers\n",
    "    "
   ]
  },
  {
   "cell_type": "code",
   "execution_count": 132,
   "id": "5d3a1fad",
   "metadata": {},
   "outputs": [
    {
     "data": {
      "text/plain": [
       "0.08454396734952596"
      ]
     },
     "execution_count": 132,
     "metadata": {},
     "output_type": "execute_result"
    }
   ],
   "source": [
    "from sklearn.metrics import median_absolute_error,\n",
    "\n",
    "median_absolute_error(y_test, y_test_predict)"
   ]
  },
  {
   "cell_type": "markdown",
   "id": "1d5c02d0",
   "metadata": {},
   "source": [
    "## Evaluating regression model on WORST CASE ERROR\n",
    "\n",
    "- Use ```max_error```\n",
    "\n",
    "- To calculate the worst case error on **train set**, use the following:\n",
    "          max_error(y_train, y_pred)\n",
    "        \n",
    "- To calculate the worst case error on **test set**, use the following:\n",
    "          max_error(y_test, y_pred)\n",
    "          \n",
    "    - Can only be used for single output regression\n",
    "    - IT DOES NOT APPLY to multi-output regression problems"
   ]
  },
  {
   "attachments": {
    "Screenshot%202023-10-13%20at%201.30.30%20AM.png": {
     "image/png": "[encoded data removed]"
    }
   },
   "cell_type": "markdown",
   "id": "0c24b0da",
   "metadata": {},
   "source": [
    "***\n",
    "![Screenshot%202023-10-13%20at%201.30.30%20AM.png](attachment:Screenshot%202023-10-13%20at%201.30.30%20AM.png)\n",
    "***\n",
    "***"
   ]
  },
  {
   "cell_type": "code",
   "execution_count": 139,
   "id": "6038a953",
   "metadata": {},
   "outputs": [
    {
     "data": {
      "text/plain": [
       "0.962633164626666"
      ]
     },
     "execution_count": 139,
     "metadata": {},
     "output_type": "execute_result"
    }
   ],
   "source": [
    "1-mean_squared_error(y_test, y_test_predict)"
   ]
  },
  {
   "cell_type": "markdown",
   "id": "c3732971",
   "metadata": {},
   "source": [
    "# Cross Validation - For Robust Performance Evaluation\n",
    "\n",
    "- CV performs **robust evaluation** of model performance:\n",
    "    - By <span style=\"color:purple\">repeated splitting </span> and\n",
    "    - providing <span style=\"color:purple\">many training and test errors </span>\n",
    "    \n",
    "- This enables us to estimate variability in generalization performance of the model\n",
    "\n",
    "**SK-Learn implements the following CV iterators:**\n",
    "- ```KFold```\n",
    "- ```RepeatedKFold```\n",
    "- ```ShuffleSplit```"
   ]
  },
  {
   "cell_type": "markdown",
   "id": "916bb25c",
   "metadata": {},
   "source": [
    "## CV Score using ```KFolds```\n",
    "\n",
    "- CV=5 divides the training set into 5 equal folds\n",
    "- In each run, 4 folds are used to train while 1 fold is used to test\n"
   ]
  },
  {
   "cell_type": "code",
   "execution_count": 145,
   "id": "99ef66d1",
   "metadata": {},
   "outputs": [
    {
     "name": "stdout",
     "output_type": "stream",
     "text": [
      "Score using KFold: 0.8966194672835599\n",
      "Score without using KFold: 0.9051716498942488\n"
     ]
    }
   ],
   "source": [
    "from sklearn.model_selection import cross_val_score\n",
    "from sklearn.model_selection import KFold\n",
    "\n",
    "# First way\n",
    "sgd = SGDRegressor()\n",
    "kfold_cv = KFold(n_splits=5)\n",
    "score = cross_val_score(sgd, X_train, y_train, cv=kfold_cv)\n",
    "\n",
    "print(f\"Score using KFold: {np.mean(score)}\")\n",
    "# Second way\n",
    "sgd = SGDRegressor()\n",
    "score = cross_val_score(sgd, X_train, y_train, cv=5)\n",
    "print(f\"Score without using KFold: {np.mean(score)}\")\n",
    "\n",
    "# Both the ways are same. Score may vary but slightly\n",
    "\n"
   ]
  },
  {
   "cell_type": "markdown",
   "id": "5aeb53bd",
   "metadata": {},
   "source": [
    "## CV Score using  ```LeaveOneOut```\n",
    "\n",
    "- Leave one out is when you train on n-1 data points and test on 1 data point\n",
    "\n",
    "- Simply put ```CV=n``` in ```KFold```\n",
    "\n",
    "**or**\n",
    "\n",
    "- use LeaveOneOut()"
   ]
  },
  {
   "cell_type": "code",
   "execution_count": 150,
   "id": "a5c960c0",
   "metadata": {
    "collapsed": true,
    "jupyter": {
     "outputs_hidden": true
    },
    "tags": []
   },
   "outputs": [
    {
     "name": "stderr",
     "output_type": "stream",
     "text": [
      "/Users/PushpakRuhil/opt/anaconda3/lib/python3.9/site-packages/sklearn/metrics/_regression.py:918: UndefinedMetricWarning: R^2 score is not well-defined with less than two samples.\n",
      "  warnings.warn(msg, UndefinedMetricWarning)\n",
      "/Users/PushpakRuhil/opt/anaconda3/lib/python3.9/site-packages/sklearn/metrics/_regression.py:918: UndefinedMetricWarning: R^2 score is not well-defined with less than two samples.\n",
      "  warnings.warn(msg, UndefinedMetricWarning)\n",
      "/Users/PushpakRuhil/opt/anaconda3/lib/python3.9/site-packages/sklearn/metrics/_regression.py:918: UndefinedMetricWarning: R^2 score is not well-defined with less than two samples.\n",
      "  warnings.warn(msg, UndefinedMetricWarning)\n",
      "/Users/PushpakRuhil/opt/anaconda3/lib/python3.9/site-packages/sklearn/metrics/_regression.py:918: UndefinedMetricWarning: R^2 score is not well-defined with less than two samples.\n",
      "  warnings.warn(msg, UndefinedMetricWarning)\n",
      "/Users/PushpakRuhil/opt/anaconda3/lib/python3.9/site-packages/sklearn/metrics/_regression.py:918: UndefinedMetricWarning: R^2 score is not well-defined with less than two samples.\n",
      "  warnings.warn(msg, UndefinedMetricWarning)\n",
      "/Users/PushpakRuhil/opt/anaconda3/lib/python3.9/site-packages/sklearn/metrics/_regression.py:918: UndefinedMetricWarning: R^2 score is not well-defined with less than two samples.\n",
      "  warnings.warn(msg, UndefinedMetricWarning)\n",
      "/Users/PushpakRuhil/opt/anaconda3/lib/python3.9/site-packages/sklearn/metrics/_regression.py:918: UndefinedMetricWarning: R^2 score is not well-defined with less than two samples.\n",
      "  warnings.warn(msg, UndefinedMetricWarning)\n",
      "/Users/PushpakRuhil/opt/anaconda3/lib/python3.9/site-packages/sklearn/metrics/_regression.py:918: UndefinedMetricWarning: R^2 score is not well-defined with less than two samples.\n",
      "  warnings.warn(msg, UndefinedMetricWarning)\n",
      "/Users/PushpakRuhil/opt/anaconda3/lib/python3.9/site-packages/sklearn/metrics/_regression.py:918: UndefinedMetricWarning: R^2 score is not well-defined with less than two samples.\n",
      "  warnings.warn(msg, UndefinedMetricWarning)\n",
      "/Users/PushpakRuhil/opt/anaconda3/lib/python3.9/site-packages/sklearn/metrics/_regression.py:918: UndefinedMetricWarning: R^2 score is not well-defined with less than two samples.\n",
      "  warnings.warn(msg, UndefinedMetricWarning)\n",
      "/Users/PushpakRuhil/opt/anaconda3/lib/python3.9/site-packages/sklearn/metrics/_regression.py:918: UndefinedMetricWarning: R^2 score is not well-defined with less than two samples.\n",
      "  warnings.warn(msg, UndefinedMetricWarning)\n",
      "/Users/PushpakRuhil/opt/anaconda3/lib/python3.9/site-packages/sklearn/metrics/_regression.py:918: UndefinedMetricWarning: R^2 score is not well-defined with less than two samples.\n",
      "  warnings.warn(msg, UndefinedMetricWarning)\n",
      "/Users/PushpakRuhil/opt/anaconda3/lib/python3.9/site-packages/sklearn/metrics/_regression.py:918: UndefinedMetricWarning: R^2 score is not well-defined with less than two samples.\n",
      "  warnings.warn(msg, UndefinedMetricWarning)\n",
      "/Users/PushpakRuhil/opt/anaconda3/lib/python3.9/site-packages/sklearn/metrics/_regression.py:918: UndefinedMetricWarning: R^2 score is not well-defined with less than two samples.\n",
      "  warnings.warn(msg, UndefinedMetricWarning)\n",
      "/Users/PushpakRuhil/opt/anaconda3/lib/python3.9/site-packages/sklearn/metrics/_regression.py:918: UndefinedMetricWarning: R^2 score is not well-defined with less than two samples.\n",
      "  warnings.warn(msg, UndefinedMetricWarning)\n",
      "/Users/PushpakRuhil/opt/anaconda3/lib/python3.9/site-packages/sklearn/metrics/_regression.py:918: UndefinedMetricWarning: R^2 score is not well-defined with less than two samples.\n",
      "  warnings.warn(msg, UndefinedMetricWarning)\n",
      "/Users/PushpakRuhil/opt/anaconda3/lib/python3.9/site-packages/sklearn/metrics/_regression.py:918: UndefinedMetricWarning: R^2 score is not well-defined with less than two samples.\n",
      "  warnings.warn(msg, UndefinedMetricWarning)\n",
      "/Users/PushpakRuhil/opt/anaconda3/lib/python3.9/site-packages/sklearn/metrics/_regression.py:918: UndefinedMetricWarning: R^2 score is not well-defined with less than two samples.\n",
      "  warnings.warn(msg, UndefinedMetricWarning)\n",
      "/Users/PushpakRuhil/opt/anaconda3/lib/python3.9/site-packages/sklearn/metrics/_regression.py:918: UndefinedMetricWarning: R^2 score is not well-defined with less than two samples.\n",
      "  warnings.warn(msg, UndefinedMetricWarning)\n",
      "/Users/PushpakRuhil/opt/anaconda3/lib/python3.9/site-packages/sklearn/metrics/_regression.py:918: UndefinedMetricWarning: R^2 score is not well-defined with less than two samples.\n",
      "  warnings.warn(msg, UndefinedMetricWarning)\n",
      "/Users/PushpakRuhil/opt/anaconda3/lib/python3.9/site-packages/sklearn/metrics/_regression.py:918: UndefinedMetricWarning: R^2 score is not well-defined with less than two samples.\n",
      "  warnings.warn(msg, UndefinedMetricWarning)\n",
      "/Users/PushpakRuhil/opt/anaconda3/lib/python3.9/site-packages/sklearn/metrics/_regression.py:918: UndefinedMetricWarning: R^2 score is not well-defined with less than two samples.\n",
      "  warnings.warn(msg, UndefinedMetricWarning)\n",
      "/Users/PushpakRuhil/opt/anaconda3/lib/python3.9/site-packages/sklearn/metrics/_regression.py:918: UndefinedMetricWarning: R^2 score is not well-defined with less than two samples.\n",
      "  warnings.warn(msg, UndefinedMetricWarning)\n",
      "/Users/PushpakRuhil/opt/anaconda3/lib/python3.9/site-packages/sklearn/metrics/_regression.py:918: UndefinedMetricWarning: R^2 score is not well-defined with less than two samples.\n",
      "  warnings.warn(msg, UndefinedMetricWarning)\n",
      "/Users/PushpakRuhil/opt/anaconda3/lib/python3.9/site-packages/sklearn/metrics/_regression.py:918: UndefinedMetricWarning: R^2 score is not well-defined with less than two samples.\n",
      "  warnings.warn(msg, UndefinedMetricWarning)\n",
      "/Users/PushpakRuhil/opt/anaconda3/lib/python3.9/site-packages/sklearn/metrics/_regression.py:918: UndefinedMetricWarning: R^2 score is not well-defined with less than two samples.\n",
      "  warnings.warn(msg, UndefinedMetricWarning)\n",
      "/Users/PushpakRuhil/opt/anaconda3/lib/python3.9/site-packages/sklearn/metrics/_regression.py:918: UndefinedMetricWarning: R^2 score is not well-defined with less than two samples.\n",
      "  warnings.warn(msg, UndefinedMetricWarning)\n",
      "/Users/PushpakRuhil/opt/anaconda3/lib/python3.9/site-packages/sklearn/metrics/_regression.py:918: UndefinedMetricWarning: R^2 score is not well-defined with less than two samples.\n",
      "  warnings.warn(msg, UndefinedMetricWarning)\n",
      "/Users/PushpakRuhil/opt/anaconda3/lib/python3.9/site-packages/sklearn/metrics/_regression.py:918: UndefinedMetricWarning: R^2 score is not well-defined with less than two samples.\n",
      "  warnings.warn(msg, UndefinedMetricWarning)\n",
      "/Users/PushpakRuhil/opt/anaconda3/lib/python3.9/site-packages/sklearn/metrics/_regression.py:918: UndefinedMetricWarning: R^2 score is not well-defined with less than two samples.\n",
      "  warnings.warn(msg, UndefinedMetricWarning)\n",
      "/Users/PushpakRuhil/opt/anaconda3/lib/python3.9/site-packages/sklearn/metrics/_regression.py:918: UndefinedMetricWarning: R^2 score is not well-defined with less than two samples.\n",
      "  warnings.warn(msg, UndefinedMetricWarning)\n",
      "/Users/PushpakRuhil/opt/anaconda3/lib/python3.9/site-packages/sklearn/metrics/_regression.py:918: UndefinedMetricWarning: R^2 score is not well-defined with less than two samples.\n",
      "  warnings.warn(msg, UndefinedMetricWarning)\n",
      "/Users/PushpakRuhil/opt/anaconda3/lib/python3.9/site-packages/sklearn/metrics/_regression.py:918: UndefinedMetricWarning: R^2 score is not well-defined with less than two samples.\n",
      "  warnings.warn(msg, UndefinedMetricWarning)\n",
      "/Users/PushpakRuhil/opt/anaconda3/lib/python3.9/site-packages/sklearn/metrics/_regression.py:918: UndefinedMetricWarning: R^2 score is not well-defined with less than two samples.\n",
      "  warnings.warn(msg, UndefinedMetricWarning)\n",
      "/Users/PushpakRuhil/opt/anaconda3/lib/python3.9/site-packages/sklearn/metrics/_regression.py:918: UndefinedMetricWarning: R^2 score is not well-defined with less than two samples.\n",
      "  warnings.warn(msg, UndefinedMetricWarning)\n",
      "/Users/PushpakRuhil/opt/anaconda3/lib/python3.9/site-packages/sklearn/metrics/_regression.py:918: UndefinedMetricWarning: R^2 score is not well-defined with less than two samples.\n",
      "  warnings.warn(msg, UndefinedMetricWarning)\n",
      "/Users/PushpakRuhil/opt/anaconda3/lib/python3.9/site-packages/sklearn/metrics/_regression.py:918: UndefinedMetricWarning: R^2 score is not well-defined with less than two samples.\n",
      "  warnings.warn(msg, UndefinedMetricWarning)\n",
      "/Users/PushpakRuhil/opt/anaconda3/lib/python3.9/site-packages/sklearn/metrics/_regression.py:918: UndefinedMetricWarning: R^2 score is not well-defined with less than two samples.\n",
      "  warnings.warn(msg, UndefinedMetricWarning)\n",
      "/Users/PushpakRuhil/opt/anaconda3/lib/python3.9/site-packages/sklearn/metrics/_regression.py:918: UndefinedMetricWarning: R^2 score is not well-defined with less than two samples.\n",
      "  warnings.warn(msg, UndefinedMetricWarning)\n",
      "/Users/PushpakRuhil/opt/anaconda3/lib/python3.9/site-packages/sklearn/metrics/_regression.py:918: UndefinedMetricWarning: R^2 score is not well-defined with less than two samples.\n",
      "  warnings.warn(msg, UndefinedMetricWarning)\n",
      "/Users/PushpakRuhil/opt/anaconda3/lib/python3.9/site-packages/sklearn/metrics/_regression.py:918: UndefinedMetricWarning: R^2 score is not well-defined with less than two samples.\n",
      "  warnings.warn(msg, UndefinedMetricWarning)\n",
      "/Users/PushpakRuhil/opt/anaconda3/lib/python3.9/site-packages/sklearn/metrics/_regression.py:918: UndefinedMetricWarning: R^2 score is not well-defined with less than two samples.\n",
      "  warnings.warn(msg, UndefinedMetricWarning)\n",
      "/Users/PushpakRuhil/opt/anaconda3/lib/python3.9/site-packages/sklearn/metrics/_regression.py:918: UndefinedMetricWarning: R^2 score is not well-defined with less than two samples.\n",
      "  warnings.warn(msg, UndefinedMetricWarning)\n",
      "/Users/PushpakRuhil/opt/anaconda3/lib/python3.9/site-packages/sklearn/metrics/_regression.py:918: UndefinedMetricWarning: R^2 score is not well-defined with less than two samples.\n",
      "  warnings.warn(msg, UndefinedMetricWarning)\n",
      "/Users/PushpakRuhil/opt/anaconda3/lib/python3.9/site-packages/sklearn/metrics/_regression.py:918: UndefinedMetricWarning: R^2 score is not well-defined with less than two samples.\n",
      "  warnings.warn(msg, UndefinedMetricWarning)\n",
      "/Users/PushpakRuhil/opt/anaconda3/lib/python3.9/site-packages/sklearn/metrics/_regression.py:918: UndefinedMetricWarning: R^2 score is not well-defined with less than two samples.\n",
      "  warnings.warn(msg, UndefinedMetricWarning)\n",
      "/Users/PushpakRuhil/opt/anaconda3/lib/python3.9/site-packages/sklearn/metrics/_regression.py:918: UndefinedMetricWarning: R^2 score is not well-defined with less than two samples.\n",
      "  warnings.warn(msg, UndefinedMetricWarning)\n",
      "/Users/PushpakRuhil/opt/anaconda3/lib/python3.9/site-packages/sklearn/metrics/_regression.py:918: UndefinedMetricWarning: R^2 score is not well-defined with less than two samples.\n",
      "  warnings.warn(msg, UndefinedMetricWarning)\n",
      "/Users/PushpakRuhil/opt/anaconda3/lib/python3.9/site-packages/sklearn/metrics/_regression.py:918: UndefinedMetricWarning: R^2 score is not well-defined with less than two samples.\n",
      "  warnings.warn(msg, UndefinedMetricWarning)\n",
      "/Users/PushpakRuhil/opt/anaconda3/lib/python3.9/site-packages/sklearn/metrics/_regression.py:918: UndefinedMetricWarning: R^2 score is not well-defined with less than two samples.\n",
      "  warnings.warn(msg, UndefinedMetricWarning)\n",
      "/Users/PushpakRuhil/opt/anaconda3/lib/python3.9/site-packages/sklearn/metrics/_regression.py:918: UndefinedMetricWarning: R^2 score is not well-defined with less than two samples.\n",
      "  warnings.warn(msg, UndefinedMetricWarning)\n",
      "/Users/PushpakRuhil/opt/anaconda3/lib/python3.9/site-packages/sklearn/metrics/_regression.py:918: UndefinedMetricWarning: R^2 score is not well-defined with less than two samples.\n",
      "  warnings.warn(msg, UndefinedMetricWarning)\n",
      "/Users/PushpakRuhil/opt/anaconda3/lib/python3.9/site-packages/sklearn/metrics/_regression.py:918: UndefinedMetricWarning: R^2 score is not well-defined with less than two samples.\n",
      "  warnings.warn(msg, UndefinedMetricWarning)\n",
      "/Users/PushpakRuhil/opt/anaconda3/lib/python3.9/site-packages/sklearn/metrics/_regression.py:918: UndefinedMetricWarning: R^2 score is not well-defined with less than two samples.\n",
      "  warnings.warn(msg, UndefinedMetricWarning)\n",
      "/Users/PushpakRuhil/opt/anaconda3/lib/python3.9/site-packages/sklearn/metrics/_regression.py:918: UndefinedMetricWarning: R^2 score is not well-defined with less than two samples.\n",
      "  warnings.warn(msg, UndefinedMetricWarning)\n",
      "/Users/PushpakRuhil/opt/anaconda3/lib/python3.9/site-packages/sklearn/metrics/_regression.py:918: UndefinedMetricWarning: R^2 score is not well-defined with less than two samples.\n",
      "  warnings.warn(msg, UndefinedMetricWarning)\n",
      "/Users/PushpakRuhil/opt/anaconda3/lib/python3.9/site-packages/sklearn/metrics/_regression.py:918: UndefinedMetricWarning: R^2 score is not well-defined with less than two samples.\n",
      "  warnings.warn(msg, UndefinedMetricWarning)\n",
      "/Users/PushpakRuhil/opt/anaconda3/lib/python3.9/site-packages/sklearn/metrics/_regression.py:918: UndefinedMetricWarning: R^2 score is not well-defined with less than two samples.\n",
      "  warnings.warn(msg, UndefinedMetricWarning)\n",
      "/Users/PushpakRuhil/opt/anaconda3/lib/python3.9/site-packages/sklearn/metrics/_regression.py:918: UndefinedMetricWarning: R^2 score is not well-defined with less than two samples.\n",
      "  warnings.warn(msg, UndefinedMetricWarning)\n",
      "/Users/PushpakRuhil/opt/anaconda3/lib/python3.9/site-packages/sklearn/metrics/_regression.py:918: UndefinedMetricWarning: R^2 score is not well-defined with less than two samples.\n",
      "  warnings.warn(msg, UndefinedMetricWarning)\n",
      "/Users/PushpakRuhil/opt/anaconda3/lib/python3.9/site-packages/sklearn/metrics/_regression.py:918: UndefinedMetricWarning: R^2 score is not well-defined with less than two samples.\n",
      "  warnings.warn(msg, UndefinedMetricWarning)\n",
      "/Users/PushpakRuhil/opt/anaconda3/lib/python3.9/site-packages/sklearn/metrics/_regression.py:918: UndefinedMetricWarning: R^2 score is not well-defined with less than two samples.\n",
      "  warnings.warn(msg, UndefinedMetricWarning)\n",
      "/Users/PushpakRuhil/opt/anaconda3/lib/python3.9/site-packages/sklearn/metrics/_regression.py:918: UndefinedMetricWarning: R^2 score is not well-defined with less than two samples.\n",
      "  warnings.warn(msg, UndefinedMetricWarning)\n",
      "/Users/PushpakRuhil/opt/anaconda3/lib/python3.9/site-packages/sklearn/metrics/_regression.py:918: UndefinedMetricWarning: R^2 score is not well-defined with less than two samples.\n",
      "  warnings.warn(msg, UndefinedMetricWarning)\n",
      "/Users/PushpakRuhil/opt/anaconda3/lib/python3.9/site-packages/sklearn/metrics/_regression.py:918: UndefinedMetricWarning: R^2 score is not well-defined with less than two samples.\n",
      "  warnings.warn(msg, UndefinedMetricWarning)\n",
      "/Users/PushpakRuhil/opt/anaconda3/lib/python3.9/site-packages/sklearn/metrics/_regression.py:918: UndefinedMetricWarning: R^2 score is not well-defined with less than two samples.\n",
      "  warnings.warn(msg, UndefinedMetricWarning)\n",
      "/Users/PushpakRuhil/opt/anaconda3/lib/python3.9/site-packages/sklearn/metrics/_regression.py:918: UndefinedMetricWarning: R^2 score is not well-defined with less than two samples.\n",
      "  warnings.warn(msg, UndefinedMetricWarning)\n",
      "/Users/PushpakRuhil/opt/anaconda3/lib/python3.9/site-packages/sklearn/metrics/_regression.py:918: UndefinedMetricWarning: R^2 score is not well-defined with less than two samples.\n",
      "  warnings.warn(msg, UndefinedMetricWarning)\n",
      "/Users/PushpakRuhil/opt/anaconda3/lib/python3.9/site-packages/sklearn/metrics/_regression.py:918: UndefinedMetricWarning: R^2 score is not well-defined with less than two samples.\n",
      "  warnings.warn(msg, UndefinedMetricWarning)\n",
      "/Users/PushpakRuhil/opt/anaconda3/lib/python3.9/site-packages/sklearn/metrics/_regression.py:918: UndefinedMetricWarning: R^2 score is not well-defined with less than two samples.\n",
      "  warnings.warn(msg, UndefinedMetricWarning)\n",
      "/Users/PushpakRuhil/opt/anaconda3/lib/python3.9/site-packages/sklearn/metrics/_regression.py:918: UndefinedMetricWarning: R^2 score is not well-defined with less than two samples.\n",
      "  warnings.warn(msg, UndefinedMetricWarning)\n",
      "/Users/PushpakRuhil/opt/anaconda3/lib/python3.9/site-packages/sklearn/metrics/_regression.py:918: UndefinedMetricWarning: R^2 score is not well-defined with less than two samples.\n",
      "  warnings.warn(msg, UndefinedMetricWarning)\n",
      "/Users/PushpakRuhil/opt/anaconda3/lib/python3.9/site-packages/sklearn/metrics/_regression.py:918: UndefinedMetricWarning: R^2 score is not well-defined with less than two samples.\n",
      "  warnings.warn(msg, UndefinedMetricWarning)\n",
      "/Users/PushpakRuhil/opt/anaconda3/lib/python3.9/site-packages/sklearn/metrics/_regression.py:918: UndefinedMetricWarning: R^2 score is not well-defined with less than two samples.\n",
      "  warnings.warn(msg, UndefinedMetricWarning)\n",
      "/Users/PushpakRuhil/opt/anaconda3/lib/python3.9/site-packages/sklearn/metrics/_regression.py:918: UndefinedMetricWarning: R^2 score is not well-defined with less than two samples.\n",
      "  warnings.warn(msg, UndefinedMetricWarning)\n",
      "/Users/PushpakRuhil/opt/anaconda3/lib/python3.9/site-packages/sklearn/metrics/_regression.py:918: UndefinedMetricWarning: R^2 score is not well-defined with less than two samples.\n",
      "  warnings.warn(msg, UndefinedMetricWarning)\n",
      "/Users/PushpakRuhil/opt/anaconda3/lib/python3.9/site-packages/sklearn/metrics/_regression.py:918: UndefinedMetricWarning: R^2 score is not well-defined with less than two samples.\n",
      "  warnings.warn(msg, UndefinedMetricWarning)\n",
      "/Users/PushpakRuhil/opt/anaconda3/lib/python3.9/site-packages/sklearn/metrics/_regression.py:918: UndefinedMetricWarning: R^2 score is not well-defined with less than two samples.\n",
      "  warnings.warn(msg, UndefinedMetricWarning)\n",
      "/Users/PushpakRuhil/opt/anaconda3/lib/python3.9/site-packages/sklearn/metrics/_regression.py:918: UndefinedMetricWarning: R^2 score is not well-defined with less than two samples.\n",
      "  warnings.warn(msg, UndefinedMetricWarning)\n",
      "/Users/PushpakRuhil/opt/anaconda3/lib/python3.9/site-packages/sklearn/metrics/_regression.py:918: UndefinedMetricWarning: R^2 score is not well-defined with less than two samples.\n",
      "  warnings.warn(msg, UndefinedMetricWarning)\n",
      "/Users/PushpakRuhil/opt/anaconda3/lib/python3.9/site-packages/sklearn/metrics/_regression.py:918: UndefinedMetricWarning: R^2 score is not well-defined with less than two samples.\n",
      "  warnings.warn(msg, UndefinedMetricWarning)\n",
      "/Users/PushpakRuhil/opt/anaconda3/lib/python3.9/site-packages/sklearn/metrics/_regression.py:918: UndefinedMetricWarning: R^2 score is not well-defined with less than two samples.\n",
      "  warnings.warn(msg, UndefinedMetricWarning)\n",
      "/Users/PushpakRuhil/opt/anaconda3/lib/python3.9/site-packages/sklearn/metrics/_regression.py:918: UndefinedMetricWarning: R^2 score is not well-defined with less than two samples.\n",
      "  warnings.warn(msg, UndefinedMetricWarning)\n",
      "/Users/PushpakRuhil/opt/anaconda3/lib/python3.9/site-packages/sklearn/metrics/_regression.py:918: UndefinedMetricWarning: R^2 score is not well-defined with less than two samples.\n",
      "  warnings.warn(msg, UndefinedMetricWarning)\n",
      "/Users/PushpakRuhil/opt/anaconda3/lib/python3.9/site-packages/sklearn/metrics/_regression.py:918: UndefinedMetricWarning: R^2 score is not well-defined with less than two samples.\n",
      "  warnings.warn(msg, UndefinedMetricWarning)\n",
      "/Users/PushpakRuhil/opt/anaconda3/lib/python3.9/site-packages/sklearn/metrics/_regression.py:918: UndefinedMetricWarning: R^2 score is not well-defined with less than two samples.\n",
      "  warnings.warn(msg, UndefinedMetricWarning)\n",
      "/Users/PushpakRuhil/opt/anaconda3/lib/python3.9/site-packages/sklearn/metrics/_regression.py:918: UndefinedMetricWarning: R^2 score is not well-defined with less than two samples.\n",
      "  warnings.warn(msg, UndefinedMetricWarning)\n",
      "/Users/PushpakRuhil/opt/anaconda3/lib/python3.9/site-packages/sklearn/metrics/_regression.py:918: UndefinedMetricWarning: R^2 score is not well-defined with less than two samples.\n",
      "  warnings.warn(msg, UndefinedMetricWarning)\n",
      "/Users/PushpakRuhil/opt/anaconda3/lib/python3.9/site-packages/sklearn/metrics/_regression.py:918: UndefinedMetricWarning: R^2 score is not well-defined with less than two samples.\n",
      "  warnings.warn(msg, UndefinedMetricWarning)\n",
      "/Users/PushpakRuhil/opt/anaconda3/lib/python3.9/site-packages/sklearn/metrics/_regression.py:918: UndefinedMetricWarning: R^2 score is not well-defined with less than two samples.\n",
      "  warnings.warn(msg, UndefinedMetricWarning)\n",
      "/Users/PushpakRuhil/opt/anaconda3/lib/python3.9/site-packages/sklearn/metrics/_regression.py:918: UndefinedMetricWarning: R^2 score is not well-defined with less than two samples.\n",
      "  warnings.warn(msg, UndefinedMetricWarning)\n",
      "/Users/PushpakRuhil/opt/anaconda3/lib/python3.9/site-packages/sklearn/metrics/_regression.py:918: UndefinedMetricWarning: R^2 score is not well-defined with less than two samples.\n",
      "  warnings.warn(msg, UndefinedMetricWarning)\n",
      "/Users/PushpakRuhil/opt/anaconda3/lib/python3.9/site-packages/sklearn/metrics/_regression.py:918: UndefinedMetricWarning: R^2 score is not well-defined with less than two samples.\n",
      "  warnings.warn(msg, UndefinedMetricWarning)\n",
      "/Users/PushpakRuhil/opt/anaconda3/lib/python3.9/site-packages/sklearn/metrics/_regression.py:918: UndefinedMetricWarning: R^2 score is not well-defined with less than two samples.\n",
      "  warnings.warn(msg, UndefinedMetricWarning)\n",
      "/Users/PushpakRuhil/opt/anaconda3/lib/python3.9/site-packages/sklearn/metrics/_regression.py:918: UndefinedMetricWarning: R^2 score is not well-defined with less than two samples.\n",
      "  warnings.warn(msg, UndefinedMetricWarning)\n",
      "/Users/PushpakRuhil/opt/anaconda3/lib/python3.9/site-packages/sklearn/metrics/_regression.py:918: UndefinedMetricWarning: R^2 score is not well-defined with less than two samples.\n",
      "  warnings.warn(msg, UndefinedMetricWarning)\n",
      "/Users/PushpakRuhil/opt/anaconda3/lib/python3.9/site-packages/sklearn/metrics/_regression.py:918: UndefinedMetricWarning: R^2 score is not well-defined with less than two samples.\n",
      "  warnings.warn(msg, UndefinedMetricWarning)\n",
      "/Users/PushpakRuhil/opt/anaconda3/lib/python3.9/site-packages/sklearn/metrics/_regression.py:918: UndefinedMetricWarning: R^2 score is not well-defined with less than two samples.\n",
      "  warnings.warn(msg, UndefinedMetricWarning)\n",
      "/Users/PushpakRuhil/opt/anaconda3/lib/python3.9/site-packages/sklearn/metrics/_regression.py:918: UndefinedMetricWarning: R^2 score is not well-defined with less than two samples.\n",
      "  warnings.warn(msg, UndefinedMetricWarning)\n",
      "/Users/PushpakRuhil/opt/anaconda3/lib/python3.9/site-packages/sklearn/metrics/_regression.py:918: UndefinedMetricWarning: R^2 score is not well-defined with less than two samples.\n",
      "  warnings.warn(msg, UndefinedMetricWarning)\n",
      "/Users/PushpakRuhil/opt/anaconda3/lib/python3.9/site-packages/sklearn/metrics/_regression.py:918: UndefinedMetricWarning: R^2 score is not well-defined with less than two samples.\n",
      "  warnings.warn(msg, UndefinedMetricWarning)\n",
      "/Users/PushpakRuhil/opt/anaconda3/lib/python3.9/site-packages/sklearn/metrics/_regression.py:918: UndefinedMetricWarning: R^2 score is not well-defined with less than two samples.\n",
      "  warnings.warn(msg, UndefinedMetricWarning)\n",
      "/Users/PushpakRuhil/opt/anaconda3/lib/python3.9/site-packages/sklearn/metrics/_regression.py:918: UndefinedMetricWarning: R^2 score is not well-defined with less than two samples.\n",
      "  warnings.warn(msg, UndefinedMetricWarning)\n",
      "/Users/PushpakRuhil/opt/anaconda3/lib/python3.9/site-packages/sklearn/metrics/_regression.py:918: UndefinedMetricWarning: R^2 score is not well-defined with less than two samples.\n",
      "  warnings.warn(msg, UndefinedMetricWarning)\n",
      "/Users/PushpakRuhil/opt/anaconda3/lib/python3.9/site-packages/sklearn/metrics/_regression.py:918: UndefinedMetricWarning: R^2 score is not well-defined with less than two samples.\n",
      "  warnings.warn(msg, UndefinedMetricWarning)\n"
     ]
    },
    {
     "name": "stdout",
     "output_type": "stream",
     "text": [
      "Score using LeaveOneOut: [nan nan nan nan nan nan nan nan nan nan nan nan nan nan nan nan nan nan\n",
      " nan nan nan nan nan nan nan nan nan nan nan nan nan nan nan nan nan nan\n",
      " nan nan nan nan nan nan nan nan nan nan nan nan nan nan nan nan nan nan\n",
      " nan nan nan nan nan nan nan nan nan nan nan nan nan nan nan nan nan nan\n",
      " nan nan nan nan nan nan nan nan nan nan nan nan nan nan nan nan nan nan\n",
      " nan nan nan nan nan nan nan nan nan nan nan nan nan nan nan nan nan nan\n",
      " nan nan nan nan]\n"
     ]
    },
    {
     "name": "stderr",
     "output_type": "stream",
     "text": [
      "/Users/PushpakRuhil/opt/anaconda3/lib/python3.9/site-packages/sklearn/metrics/_regression.py:918: UndefinedMetricWarning: R^2 score is not well-defined with less than two samples.\n",
      "  warnings.warn(msg, UndefinedMetricWarning)\n",
      "/Users/PushpakRuhil/opt/anaconda3/lib/python3.9/site-packages/sklearn/metrics/_regression.py:918: UndefinedMetricWarning: R^2 score is not well-defined with less than two samples.\n",
      "  warnings.warn(msg, UndefinedMetricWarning)\n",
      "/Users/PushpakRuhil/opt/anaconda3/lib/python3.9/site-packages/sklearn/metrics/_regression.py:918: UndefinedMetricWarning: R^2 score is not well-defined with less than two samples.\n",
      "  warnings.warn(msg, UndefinedMetricWarning)\n",
      "/Users/PushpakRuhil/opt/anaconda3/lib/python3.9/site-packages/sklearn/metrics/_regression.py:918: UndefinedMetricWarning: R^2 score is not well-defined with less than two samples.\n",
      "  warnings.warn(msg, UndefinedMetricWarning)\n",
      "/Users/PushpakRuhil/opt/anaconda3/lib/python3.9/site-packages/sklearn/metrics/_regression.py:918: UndefinedMetricWarning: R^2 score is not well-defined with less than two samples.\n",
      "  warnings.warn(msg, UndefinedMetricWarning)\n",
      "/Users/PushpakRuhil/opt/anaconda3/lib/python3.9/site-packages/sklearn/metrics/_regression.py:918: UndefinedMetricWarning: R^2 score is not well-defined with less than two samples.\n",
      "  warnings.warn(msg, UndefinedMetricWarning)\n",
      "/Users/PushpakRuhil/opt/anaconda3/lib/python3.9/site-packages/sklearn/metrics/_regression.py:918: UndefinedMetricWarning: R^2 score is not well-defined with less than two samples.\n",
      "  warnings.warn(msg, UndefinedMetricWarning)\n"
     ]
    }
   ],
   "source": [
    "from sklearn.model_selection import LeaveOneOut\n",
    "sgd = SGDRegressor()\n",
    "n = X_train.shape[0]\n",
    "loocv = LeaveOneOut()\n",
    "score = cross_val_score(sgd, X_train, y_train, cv=loocv)\n",
    "print(f\"Score using LeaveOneOut: {score}\")\n"
   ]
  },
  {
   "cell_type": "markdown",
   "id": "c8680c0c",
   "metadata": {},
   "source": [
    "## CV Score using ```ShuffleSplit```\n",
    "\n",
    "- AKA <span style=\"color:purple\">Random Permutation</span> based <span style=\"color:red\">CV Strategy</span>\n",
    "\n",
    "- Generates user defined number of train/test splits\n",
    "- Robust to class distribution\n",
    "\n",
    "- In each iteration, it shuffles order of data samples and then splits them into train/test sets"
   ]
  },
  {
   "cell_type": "code",
   "execution_count": 155,
   "id": "e47d03f3",
   "metadata": {},
   "outputs": [
    {
     "name": "stdout",
     "output_type": "stream",
     "text": [
      "Score using ShuffleSplit: 0.9043432163974794\n"
     ]
    }
   ],
   "source": [
    "from sklearn.model_selection import ShuffleSplit\n",
    "\n",
    "sgd = SGDRegressor()\n",
    "shuffle_split = ShuffleSplit(n_splits=10, test_size=0.2,random_state=42)\n",
    "score = cross_val_score(sgd, X_train, y_train, cv=shuffle_split)\n",
    "\n",
    "print(f\"Score using ShuffleSplit: {np.mean(score)}\")\n"
   ]
  },
  {
   "cell_type": "markdown",
   "id": "1b1751d6",
   "metadata": {},
   "source": [
    "## Specifying Performance Measure in ```cross_val_score```\n",
    "\n",
    "- Set the ```scoring``` argument to any suitable performance measure\n"
   ]
  },
  {
   "cell_type": "code",
   "execution_count": 158,
   "id": "68bf1b62",
   "metadata": {},
   "outputs": [
    {
     "name": "stdout",
     "output_type": "stream",
     "text": [
      "Score using ShuffleSplit: -0.5497999237335527\n"
     ]
    }
   ],
   "source": [
    "score = cross_val_score(sgd, X_train, y_train,\n",
    "                        cv=shuffle_split,\n",
    "                       scoring='max_error')\n",
    "\n",
    "print(f\"Score using ShuffleSplit: {np.mean(score)}\")\n"
   ]
  },
  {
   "cell_type": "code",
   "execution_count": 161,
   "id": "05620693",
   "metadata": {},
   "outputs": [
    {
     "name": "stdout",
     "output_type": "stream",
     "text": [
      "Score using ShuffleSplit: -0.19567116133004697\n"
     ]
    }
   ],
   "source": [
    "score = cross_val_score(sgd, X_train, y_train,\n",
    "                        cv=shuffle_split,\n",
    "                       scoring='neg_mean_absolute_error')\n",
    "\n",
    "print(f\"Score using ShuffleSplit: {np.mean(score)}\")\n"
   ]
  },
  {
   "cell_type": "markdown",
   "id": "20993fee",
   "metadata": {},
   "source": [
    "***\n",
    "- Allowed scorers are below:\n",
    "***"
   ]
  },
  {
   "cell_type": "code",
   "execution_count": 162,
   "id": "982ad6af",
   "metadata": {},
   "outputs": [
    {
     "name": "stdout",
     "output_type": "stream",
     "text": [
      "['accuracy', 'adjusted_mutual_info_score', 'adjusted_rand_score', 'average_precision', 'balanced_accuracy', 'completeness_score', 'explained_variance', 'f1', 'f1_macro', 'f1_micro', 'f1_samples', 'f1_weighted', 'fowlkes_mallows_score', 'homogeneity_score', 'jaccard', 'jaccard_macro', 'jaccard_micro', 'jaccard_samples', 'jaccard_weighted', 'matthews_corrcoef', 'max_error', 'mutual_info_score', 'neg_brier_score', 'neg_log_loss', 'neg_mean_absolute_error', 'neg_mean_absolute_percentage_error', 'neg_mean_gamma_deviance', 'neg_mean_poisson_deviance', 'neg_mean_squared_error', 'neg_mean_squared_log_error', 'neg_median_absolute_error', 'neg_negative_likelihood_ratio', 'neg_root_mean_squared_error', 'normalized_mutual_info_score', 'positive_likelihood_ratio', 'precision', 'precision_macro', 'precision_micro', 'precision_samples', 'precision_weighted', 'r2', 'rand_score', 'recall', 'recall_macro', 'recall_micro', 'recall_samples', 'recall_weighted', 'roc_auc', 'roc_auc_ovo', 'roc_auc_ovo_weighted', 'roc_auc_ovr', 'roc_auc_ovr_weighted', 'top_k_accuracy', 'v_measure_score']\n"
     ]
    }
   ],
   "source": [
    "from sklearn.metrics import get_scorer_names\n",
    "\n",
    "print(get_scorer_names())"
   ]
  },
  {
   "cell_type": "markdown",
   "id": "6a0ea6be",
   "metadata": {},
   "source": [
    "## Obtaining TEST SCORES from different folds\n",
    "\n",
    "- Use ```cross_validate```\n",
    "\n",
    "- Returns a Python Dictionary"
   ]
  },
  {
   "cell_type": "code",
   "execution_count": 164,
   "id": "80c6159c",
   "metadata": {},
   "outputs": [],
   "source": [
    "from sklearn.model_selection import cross_validate\n",
    "\n",
    "cv_results = cross_validate(sgd, X_train, \n",
    "                            y_train, \n",
    "                            cv=shuffle_split,\n",
    "                            scoring='neg_mean_absolute_error')\n"
   ]
  },
  {
   "cell_type": "code",
   "execution_count": 166,
   "id": "8c07c879",
   "metadata": {},
   "outputs": [
    {
     "data": {
      "text/plain": [
       "array([0.00344992, 0.00291705, 0.00229192, 0.00383592, 0.0024271 ,\n",
       "       0.00269604, 0.00327778, 0.00316501, 0.00250387, 0.00356293])"
      ]
     },
     "execution_count": 166,
     "metadata": {},
     "output_type": "execute_result"
    }
   ],
   "source": [
    "cv_results['fit_time']"
   ]
  },
  {
   "cell_type": "code",
   "execution_count": 170,
   "id": "edab0951",
   "metadata": {},
   "outputs": [
    {
     "data": {
      "text/plain": [
       "{'fit_time': array([0.00344992, 0.00291705, 0.00229192, 0.00383592, 0.0024271 ,\n",
       "        0.00269604, 0.00327778, 0.00316501, 0.00250387, 0.00356293]),\n",
       " 'score_time': array([0.00194526, 0.0028522 , 0.00141525, 0.00171399, 0.00218391,\n",
       "        0.00191903, 0.00161028, 0.00170779, 0.001513  , 0.00317001]),\n",
       " 'test_score': array([-0.19816269, -0.17045731, -0.22828074, -0.26171124, -0.1977815 ,\n",
       "        -0.16769914, -0.19622637, -0.17380813, -0.23135049, -0.19028409])}"
      ]
     },
     "execution_count": 170,
     "metadata": {},
     "output_type": "execute_result"
    }
   ],
   "source": [
    "cv_results"
   ]
  },
  {
   "attachments": {
    "Screenshot%202023-10-13%20at%2010.53.37%20PM.png": {
     "image/png": "[encoded data removed]"
    }
   },
   "cell_type": "markdown",
   "id": "5c3414ed",
   "metadata": {},
   "source": [
    "![Screenshot%202023-10-13%20at%2010.53.37%20PM.png](attachment:Screenshot%202023-10-13%20at%2010.53.37%20PM.png)"
   ]
  },
  {
   "cell_type": "markdown",
   "id": "940f4862",
   "metadata": {},
   "source": [
    "***\n",
    "***\n",
    "## Obtaining Trained Estimators and Scores on Training Data During CV\n",
    "\n",
    "- For trained estimator, set ```return_estimator = True```\n",
    "- For scores on training set, set ```return_train_score = True```\n"
   ]
  },
  {
   "cell_type": "code",
   "execution_count": 163,
   "id": "f33f8eff",
   "metadata": {},
   "outputs": [
    {
     "data": {
      "text/plain": [
       "ShuffleSplit(n_splits=10, random_state=42, test_size=0.2, train_size=None)"
      ]
     },
     "execution_count": 163,
     "metadata": {},
     "output_type": "execute_result"
    }
   ],
   "source": [
    "shuffle_split"
   ]
  },
  {
   "cell_type": "code",
   "execution_count": 171,
   "id": "2555ef00",
   "metadata": {},
   "outputs": [],
   "source": [
    "cv_results = cross_validate(sgd, \n",
    "                            X_train, \n",
    "                            y_train,\n",
    "                            cv=shuffle_split,\n",
    "                            return_estimator=True,\n",
    "                            return_train_score=True)"
   ]
  },
  {
   "cell_type": "code",
   "execution_count": 174,
   "id": "0d2b1aa9",
   "metadata": {},
   "outputs": [
    {
     "data": {
      "text/plain": [
       "[SGDRegressor(),\n",
       " SGDRegressor(),\n",
       " SGDRegressor(),\n",
       " SGDRegressor(),\n",
       " SGDRegressor(),\n",
       " SGDRegressor(),\n",
       " SGDRegressor(),\n",
       " SGDRegressor(),\n",
       " SGDRegressor(),\n",
       " SGDRegressor()]"
      ]
     },
     "execution_count": 174,
     "metadata": {},
     "output_type": "execute_result"
    }
   ],
   "source": [
    "cv_results['estimator']"
   ]
  },
  {
   "cell_type": "code",
   "execution_count": 175,
   "id": "19dbaa74",
   "metadata": {},
   "outputs": [
    {
     "data": {
      "text/plain": [
       "array([0.9116797 , 0.90973172, 0.91914946, 0.91664461, 0.91478041,\n",
       "       0.89877077, 0.91338196, 0.89088494, 0.91855984, 0.90724766])"
      ]
     },
     "execution_count": 175,
     "metadata": {},
     "output_type": "execute_result"
    }
   ],
   "source": [
    "cv_results['train_score']"
   ]
  },
  {
   "attachments": {
    "Screenshot%202023-10-13%20at%2011.04.27%20PM.png": {
     "image/png": "[encoded data removed]"
    }
   },
   "cell_type": "markdown",
   "id": "05720af8",
   "metadata": {},
   "source": [
    "- **NOTE: ```cross_validate``` ALLOWS YOU TO SPECIFY MULTIPLE SCORING METRICS UNLIKE ```cross_val_score```**\n",
    "\n",
    "![Screenshot%202023-10-13%20at%2011.04.27%20PM.png](attachment:Screenshot%202023-10-13%20at%2011.04.27%20PM.png)"
   ]
  },
  {
   "cell_type": "markdown",
   "id": "44d6d944",
   "metadata": {},
   "source": [
    "# Stuying Effect of Number of Samples on Training and Test Errors\n",
    "\n",
    "- **STEP 1:** Instantiate an object of ```learning_curve``` class with **<span style=\"color:purple\">estimator, training data, size, cross validation strategy</span>** and **<span style=\"color:purple\">scoring scheme</span>** as arguments"
   ]
  },
  {
   "cell_type": "code",
   "execution_count": 193,
   "id": "1fded7f4",
   "metadata": {},
   "outputs": [],
   "source": [
    "from sklearn.model_selection import learning_curve\n",
    "\n",
    "results = learning_curve(sgd,\n",
    "                         X_train,\n",
    "                         y_train,\n",
    "                         cv=shuffle_split,\n",
    "                         return_times=True, train_sizes=np.linspace(0.2, 1.0, 10),\n",
    "                         scoring='neg_mean_absolute_error')\n",
    "\n",
    "train_sizes, train_scores, test_scores, fit_times, score_times = results[:5]\n",
    "\n",
    "# Converting the scores into errors\n",
    "train_error, test_error = -train_score, -test_score"
   ]
  },
  {
   "cell_type": "markdown",
   "id": "9708a81e",
   "metadata": {},
   "source": [
    "- **STEP 2:** Plot **training and test scores** as function of the size of training sets. \n",
    "\n",
    "- Make assessment about model fitment: under/overfitting or right fit"
   ]
  },
  {
   "cell_type": "code",
   "execution_count": 191,
   "id": "05910409",
   "metadata": {},
   "outputs": [],
   "source": [
    "import matplotlib.pyplot as plt"
   ]
  },
  {
   "cell_type": "code",
   "execution_count": 185,
   "id": "c1e7473b",
   "metadata": {},
   "outputs": [
    {
     "data": {
      "image/png": "[encoded data removed]",
      "text/plain": [
       "<Figure size 640x480 with 1 Axes>"
      ]
     },
     "metadata": {},
     "output_type": "display_data"
    }
   ],
   "source": [
    "plt.plot(train_size, train_score)\n",
    "\n",
    "plt.show()"
   ]
  },
  {
   "cell_type": "code",
   "execution_count": 198,
   "id": "2a6f2e97",
   "metadata": {},
   "outputs": [],
   "source": [
    "def plot_learning_curve(train_sizes, train_scores, test_scores):\n",
    "    train_scores_mean = np.mean(-train_scores, axis=1)\n",
    "    train_scores_std = np.std(-train_scores, axis=1)\n",
    "    test_scores_mean = np.mean(-test_scores, axis=1)\n",
    "    test_scores_std = np.std(-test_scores, axis=1)\n",
    "    fit_times_mean = np.mean(fit_times, axis=1)\n",
    "    fit_times_std = np.std(fit_times, axis=1)\n",
    "    plt.fill_between(\n",
    "    train_sizes,\n",
    "    train_scores_mean - train_scores_std,\n",
    "    train_scores_mean + train_scores_std,\n",
    "    alpha=0.1,\n",
    "    color=\"r\",)\n",
    "    plt.fill_between(\n",
    "    train_sizes,\n",
    "\n",
    "    train_sizes,\n",
    "    test_scores_mean - test_scores_std,\n",
    "    test_scores_mean + test_scores_std,\n",
    "    alpha=0.1,\n",
    "    color=\"g\",)\n",
    "    plt.plot(train_sizes, train_scores_mean, \"o-\", color=\"r\", label=\"T\")\n",
    "    plt.plot(train_sizes, test_scores_mean, \"o-\", color=\"g\", label=\"Cr\")\n",
    "    plt.xlabel(\"Training examples\")\n",
    "    plt.ylabel(\"MSE\")\n",
    "    plt.legend(loc=\"best\")\n",
    "\n",
    "def plot_scalability_curve(train_sizes, fit_times):\n",
    "    fit_times_mean = np.mean(fit_times, axis=1)\n",
    "    fit_times_std = np.std(fit_times, axis=1)\n",
    "    plt.fill_between(\n",
    "    train_sizes,\n",
    "    fit_times_mean - fit_times_std,\n",
    "    fit_times_mean + fit_times_std,\n",
    "    alpha=0.1,)\n",
    "    plt.plot(train_sizes, fit_times_mean, \"o-\")\n",
    "    plt.xlabel(\"Training examples\")\n",
    "    plt.ylabel(\"Fit time\")\n",
    "    plt.title(\"Scalability of the model\")"
   ]
  },
  {
   "cell_type": "code",
   "execution_count": 199,
   "id": "3e1e0210",
   "metadata": {},
   "outputs": [
    {
     "data": {
      "image/png": "[encoded data removed]",
      "text/plain": [
       "<Figure size 640x480 with 1 Axes>"
      ]
     },
     "metadata": {},
     "output_type": "display_data"
    }
   ],
   "source": [
    "plot_learning_curve(train_sizes, train_scores, test_scores)"
   ]
  },
  {
   "cell_type": "code",
   "execution_count": 200,
   "id": "63f77228",
   "metadata": {},
   "outputs": [
    {
     "data": {
      "image/png": "[encoded data removed]",
      "text/plain": [
       "<Figure size 640x480 with 1 Axes>"
      ]
     },
     "metadata": {},
     "output_type": "display_data"
    }
   ],
   "source": [
    "plot_scalability_curve(train_sizes, fit_times)"
   ]
  },
  {
   "attachments": {
    "Screenshot%202023-10-13%20at%2011.13.30%20PM.png": {
     "image/png": "[encoded data removed]"
    }
   },
   "cell_type": "markdown",
   "id": "973297f7",
   "metadata": {},
   "source": [
    "***\n",
    "***\n",
    "![Screenshot%202023-10-13%20at%2011.13.30%20PM.png](attachment:Screenshot%202023-10-13%20at%2011.13.30%20PM.png)"
   ]
  },
  {
   "cell_type": "code",
   "execution_count": null,
   "id": "05e09e7f",
   "metadata": {},
   "outputs": [],
   "source": []
  }
 ],
 "metadata": {
  "kernelspec": {
   "display_name": "Python 3 (ipykernel)",
   "language": "python",
   "name": "python3"
  },
  "language_info": {
   "codemirror_mode": {
    "name": "ipython",
    "version": 3
   },
   "file_extension": ".py",
   "mimetype": "text/x-python",
   "name": "python",
   "nbconvert_exporter": "python",
   "pygments_lexer": "ipython3",
   "version": "3.9.13"
  },
  "toc": {
   "base_numbering": 1,
   "nav_menu": {},
   "number_sections": true,
   "sideBar": true,
   "skip_h1_title": false,
   "title_cell": "Table of Contents",
   "title_sidebar": "Contents",
   "toc_cell": false,
   "toc_position": {},
   "toc_section_display": true,
   "toc_window_display": false
  }
 },
 "nbformat": 4,
 "nbformat_minor": 5
}
