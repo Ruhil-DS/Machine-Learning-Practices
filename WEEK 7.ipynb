{
 "cells": [
  {
   "cell_type": "markdown",
   "id": "2fee493f-7889-4288-8bcb-58ceeabc16c5",
   "metadata": {},
   "source": [
    "# WEEK 7: Notes\n",
    "\n",
    "In this week, we start by looking at the implementation of KNN in SK-Learn followed by SVM implementation.\n"
   ]
  },
  {
   "cell_type": "markdown",
   "id": "76670997-dc3f-451c-9d02-c224acdc452a",
   "metadata": {},
   "source": [
    "# Nearest Neighbor Classifier\n",
    "\n",
    "- It is a type of <span style=\"color:purple\">instance-based</span> learning or <span style=\"color:purple\">non-generalizing</span> learning\n",
    "    - Does not attempt to **construct a model**\n",
    "    - Simply stores instances of the training data\n",
    "- Classification is computed from a simple <span style=\"color:purple\">majority vote of the nearest neighbors</span> of each point.\n",
    "- Two different implementations of nearest neighbors classifiers are available:\n",
    "    1. ```KNeighboursClassifier```\n",
    "    1. ```RadiusNeighborsClassifier```\n",
    "    "
   ]
  },
  {
   "cell_type": "markdown",
   "id": "29f020b8-3853-49bd-9352-9227e8c6b75c",
   "metadata": {},
   "source": [
    "## Difference between ```KNeighborsClassifier``` and ```RadiusNeighborsClassifier```\n",
    "\n",
    "KNeighborsClassifier | RadiusNeighborsClassifier\n",
    "--- | ---\n",
    "Learning based on the k-nearest neighbors | Learning based on the number of neighbours within a fixed radius $r$ of each training point\n",
    "Most commonly used technique | Used in cases where the data is not uniformly sampled\n",
    "Choice of the value $K$ is highly data-dependent | Fixed value of $r$ is specified, such that points in sparser neighborhoods use fewer nearest neighbors for the classification"
   ]
  },
  {
   "cell_type": "markdown",
   "id": "ce43fde5-beda-4a47-8811-3d33b25b095b",
   "metadata": {},
   "source": [
    "# KNeighborsClassifier"
   ]
  },
  {
   "cell_type": "code",
   "execution_count": 2,
   "id": "3607f5ec-8796-4b99-8c95-d870e948df0b",
   "metadata": {},
   "outputs": [],
   "source": [
    "from sklearn.neighbors import KNeighborsClassifier\n",
    "knn_clf = KNeighborsClassifier(n_neighbors=4) # Default = 5\n",
    "\n",
    "# TRAINING THE MODEL\n",
    "# knn_clf.fit(X_train, y_train)\n"
   ]
  },
  {
   "cell_type": "markdown",
   "id": "357fe57e-2757-47c0-a6b4-817f872eaa83",
   "metadata": {},
   "source": [
    "## Assigning weights to neighborhood in KNN\n",
    "- It's better to weight the neighbors such that nearer neighbors contribute more to the fit\n",
    "- the ```weight``` parameter can take 2 values:\n",
    "    1. 'uniform': all points in each neighborhood are equallt weighted\n",
    "    1. 'distance': weight points by the inverse of their distance. Closer neighbors of a query point will have a greater influence than neighbors which are further away\n",
    "\n",
    "> Default weight = 'uniform'"
   ]
  },
  {
   "cell_type": "markdown",
   "id": "cc6f9e3c-be5a-4ad8-9eda-7c277cff5926",
   "metadata": {},
   "source": [
    "## Defining our own weight values for KNN\n",
    "- It is possible to define our own weights if we have an array of distances\n",
    "- **```weights```** parameter also accepts a user-defined function which takes an array of distances as input and returns an array of the same shape containing the weights"
   ]
  },
  {
   "cell_type": "code",
   "execution_count": 3,
   "id": "77b4e43f-1efe-46ea-9740-e07c8a6e5dd0",
   "metadata": {},
   "outputs": [],
   "source": [
    "def user_Weights(wt_array):\n",
    "    return 2**wt_array"
   ]
  },
  {
   "cell_type": "code",
   "execution_count": 6,
   "id": "78837313-6cad-43b3-87a1-c86ee0cf829f",
   "metadata": {},
   "outputs": [
    {
     "data": {
      "text/plain": [
       "array([2, 4, 8])"
      ]
     },
     "execution_count": 6,
     "metadata": {},
     "output_type": "execute_result"
    }
   ],
   "source": [
    "import numpy as np\n",
    "user_Weights(np.asarray([1,2,3]))"
   ]
  },
  {
   "cell_type": "code",
   "execution_count": 7,
   "id": "73d1d367-49f8-43e3-acf3-550c7a2a04f3",
   "metadata": {},
   "outputs": [],
   "source": [
    "knn_clf = KNeighborsClassifier(weights=user_Weights)"
   ]
  },
  {
   "cell_type": "markdown",
   "id": "360dce97-e7c0-42b1-86e9-ba792750c021",
   "metadata": {},
   "source": [
    "## Algorithm used to compute the nearest neighbors\n",
    "\n",
    "- **```algorithm```** parameter can take the following values:\n",
    "    1. 'ball_tree': uses BallTree\n",
    "    1. 'kd_tree': uses KDTree\n",
    "    1. 'brute': uses brute-force search\n",
    "    1. 'auto': will attempt to defice the most appropriate algorithm based on the values passed to the fit\n",
    "\n",
    "> default algorithm = 'auto'"
   ]
  },
  {
   "cell_type": "code",
   "execution_count": 8,
   "id": "65bb865f-0c47-44a0-9187-a058889431ed",
   "metadata": {},
   "outputs": [],
   "source": [
    "knn_clf = KNeighborsClassifier(algorithm=\"ball_tree\")"
   ]
  },
  {
   "cell_type": "markdown",
   "id": "aba9a691-de8c-44ee-87c2-680b12a120a4",
   "metadata": {},
   "source": [
    "## Additional Parameters for <span style=\"color:green\">tree algorithm</span> in KNN\n",
    "\n",
    "- For **\"ball_tree\"** and **\"kd_tree\"**, there are some other parameters to be set\n",
    "\n",
    "1. ```leaf_size```\n",
    "    - Can affect the speed of the construction and query, as well as the memory required to store the tree\n",
    "    - default = 30\n",
    "\n",
    "<br>\n",
    "\n",
    "2. ```metric```\n",
    "    - Distance metric to use for the tree\n",
    "    - It is either string or a callable function\n",
    "    - Some metrics are:\n",
    "        - \"euclidean\"\n",
    "        - \"manhattan\"\n",
    "        - \"chebyshev\"\n",
    "        - \"minkowski\"\n",
    "        - \"wminkowski\"\n",
    "        - \"seuclidean\"\n",
    "        - \"mahalanobis\"\n",
    "    - Default = 'minkowski'\n",
    "\n",
    "<br>\n",
    "\n",
    "3. ```p```\n",
    "    - Power parameter for the Minkowski metric\n",
    "    - Default = 2"
   ]
  },
  {
   "cell_type": "markdown",
   "id": "b039dd0d-4b62-4858-bd65-ac7bce8a5eaa",
   "metadata": {},
   "source": [
    "# RadiusNeighborsClassifier"
   ]
  },
  {
   "cell_type": "code",
   "execution_count": 11,
   "id": "2917bcd4-419a-4f04-b9f8-01c7d04ba1eb",
   "metadata": {},
   "outputs": [],
   "source": [
    "from sklearn.neighbors import RadiusNeighborsClassifier\n",
    "\n",
    "rn_clf = RadiusNeighborsClassifier()"
   ]
  },
  {
   "cell_type": "markdown",
   "id": "a5e6d64b-1d25-49ee-aac8-e923b93112dd",
   "metadata": {},
   "source": [
    "## Parameters for specifying the Radius\n",
    "**```radius```**\n",
    "- Number of neighbors is specified within a fixed radius $r$ of each training point, under this parameter\n",
    "- Default = 1.0\n",
    "- Takes float value"
   ]
  },
  {
   "cell_type": "code",
   "execution_count": 12,
   "id": "5ee2bed1-ce2c-4e11-94a6-457805dae7c6",
   "metadata": {},
   "outputs": [],
   "source": [
    "rn_clf = RadiusNeighborsClassifier(radius=1.5)"
   ]
  },
  {
   "cell_type": "markdown",
   "id": "e11f68c6-2aa5-4d2a-84bc-5551f88283b6",
   "metadata": {},
   "source": [
    "**```weights```**\n",
    "- uniform\n",
    "- distance [default]\n",
    "- function [callable]\n",
    "\n",
    "**```algorithm```**\n",
    "- ball_tree\n",
    "- kd_tree\n",
    "- brute\n",
    "- auto [default]\n",
    "\n",
    "**```leaf_size```**\n",
    "- 30 [default]\n",
    "\n",
    "**```metric```**\n",
    "- minkowski [default]\n",
    "- All previously discussed metrics work here as well\n",
    "\n",
    "**```p```**\n",
    "- 2 [default]\n"
   ]
  },
  {
   "cell_type": "code",
   "execution_count": 13,
   "id": "5e7fb879-d5ca-4cdf-8c82-3993f47bf0f8",
   "metadata": {},
   "outputs": [],
   "source": [
    "rn_clf = RadiusNeighborsClassifier(radius=1.5,\n",
    "                                   algorithm='ball_tree',\n",
    "                                   leaf_size=27,\n",
    "                                   metric='euclidean',\n",
    "                                   p=2.4\n",
    "                                  )"
   ]
  },
  {
   "cell_type": "markdown",
   "id": "f7f1ae40-9e42-4d15-8cfe-1729baaa3a6d",
   "metadata": {},
   "source": [
    "# Support Vector Machines"
   ]
  },
  {
   "cell_type": "markdown",
   "id": "5d500f84-d1d7-4d03-8e54-47055705422a",
   "metadata": {},
   "source": [
    "- 3 implementations of SVM in SK-Learn\n",
    "    - SVC\n",
    "    - NuSVC\n",
    "    - LinearSVC\n",
    "\n",
    "- ```SVC``` and ```NuSVC``` are very similar methods but accept slightly different sets of parameters.\n",
    "    - Implementation is based on libsvm\n",
    "- ```LinearSVC``` is a faster implementation of linear SVM classification with only <span style=\"color:purple\">linear kernel</span>"
   ]
  },
  {
   "cell_type": "markdown",
   "id": "5c8ef41a-12cf-472b-b2de-a83da7fb8de2",
   "metadata": {},
   "source": [
    "# Implementing SVC"
   ]
  },
  {
   "cell_type": "code",
   "execution_count": 15,
   "id": "58d4345d-5e2c-49f0-9604-e8b9216739ff",
   "metadata": {},
   "outputs": [],
   "source": [
    "from sklearn.svm import SVC\n",
    "\n",
    "svm_clf = SVC()"
   ]
  },
  {
   "cell_type": "markdown",
   "id": "9a903d79-aabb-47c3-b9e1-0910e6d99c5a",
   "metadata": {},
   "source": [
    "## <span style=\"color:Purple\">Regularization</span> in SVC\n",
    "\n",
    "**C** parameter is a regularizer in SVM.\n",
    "\n",
    "$$\n",
    "c \\propto \\dfrac{1}{width}\n",
    "$$\n",
    "\n",
    "- Strength of the regularization is inversely proportional to $C$\n",
    "- Strictly positive\n",
    "- Penalty is a squared l2 penalty"
   ]
  },
  {
   "cell_type": "markdown",
   "id": "66181521-6442-4bb4-876d-4bac3110664b",
   "metadata": {},
   "source": [
    "## ```Kernel``` parameter in SVM\n",
    "\n",
    "- Can take the following values:\n",
    "    1. <span style=\"color:green\">'linear'</span>\n",
    "    1. <span style=\"color:green\">'poly'</span>\n",
    "    1. <span style=\"color:green\">'rbf'</span>\n",
    "    1. <span style=\"color:green\">'sigmoid'</span>\n",
    "    1. <span style=\"color:green\">'precomputed'</span>\n",
    "- default kernel = 'rbf'\n",
    "- Radial Basis Function\n",
    "***\n",
    "- If ```kernel = 'poly'```, set ```degree``` (any int value)"
   ]
  },
  {
   "cell_type": "markdown",
   "id": "57b8dbc7-6920-47c9-b264-49ffc148ef98",
   "metadata": {},
   "source": [
    "- ```gamma``` is the Kernel coefficient for 'rbf', 'poly' and 'sigmoid'\n",
    "- RBF kernel function is given by:\n",
    "$$\n",
    "\\kappa(\\mathbf{u},\\mathbf{v}) = \\exp(-\\gamma \\|\\mathbf{u}-\\mathbf{v}\\|^2)\n",
    "$$\n",
    "\n",
    "- Can take the following values:\n",
    "    - 'scale'\n",
    "$$\n",
    "\\text{value of gamma} = \\dfrac{1}{\\text{no. of features}\\times X.Var()} \n",
    "$$\n",
    "\n",
    "    - 'auto'\n",
    "$$\n",
    "\\text{value of gamma} = \\dfrac{1}{\\text{no. of features}}\n",
    "$$\n",
    "\n",
    "    - float value\n",
    "\n",
    "\n"
   ]
  },
  {
   "cell_type": "code",
   "execution_count": 17,
   "id": "8c57b516-3327-4b61-a207-8b0cee2015e7",
   "metadata": {},
   "outputs": [],
   "source": [
    "svm_clf = SVC(kernel='rbf', gamma='scale')"
   ]
  },
  {
   "cell_type": "markdown",
   "id": "314e3683-11c0-40b3-b2e5-d14f291bc0fd",
   "metadata": {},
   "source": [
    "- If kernel = 'poly' or 'sigmoid', set ```coef0``` which is an independent term in kernel function (any int value)\n"
   ]
  },
  {
   "cell_type": "markdown",
   "id": "22d11b72-ebf7-409d-afa7-b6052829cb0d",
   "metadata": {},
   "source": [
    "## Viewing the support vectors\n",
    "- After training, we can see the support vectors\n",
    "- Support vectors are data points which lie on the margins"
   ]
  },
  {
   "cell_type": "markdown",
   "id": "0a403370-6313-4a47-9bba-c6f2d3396276",
   "metadata": {},
   "source": [
    "```python\n",
    "svm_clf = SVC()\n",
    "svm_clf.fit(X_train, y_train)\n",
    "\n",
    "# to view indices of the support vectors\n",
    "clf.support_\n",
    "\n",
    "# To view the support vectors\n",
    "clf.support_vectors_\n",
    "\n",
    "# To view the number of support vectors for each class\n",
    "clf.n_support_\n",
    "```"
   ]
  },
  {
   "cell_type": "code",
   "execution_count": 18,
   "id": "2db98208-3ebf-4861-943f-b1434e3a3378",
   "metadata": {},
   "outputs": [],
   "source": [
    "from sklearn.datasets import load_breast_cancer\n",
    "\n",
    "X, y = load_breast_cancer(return_X_y=True)"
   ]
  },
  {
   "cell_type": "code",
   "execution_count": 20,
   "id": "08c3a21f-6ce9-414f-872c-98fb14e00567",
   "metadata": {},
   "outputs": [
    {
     "data": {
      "text/html": [
       "<style>#sk-container-id-1 {color: black;background-color: white;}#sk-container-id-1 pre{padding: 0;}#sk-container-id-1 div.sk-toggleable {background-color: white;}#sk-container-id-1 label.sk-toggleable__label {cursor: pointer;display: block;width: 100%;margin-bottom: 0;padding: 0.3em;box-sizing: border-box;text-align: center;}#sk-container-id-1 label.sk-toggleable__label-arrow:before {content: \"▸\";float: left;margin-right: 0.25em;color: #696969;}#sk-container-id-1 label.sk-toggleable__label-arrow:hover:before {color: black;}#sk-container-id-1 div.sk-estimator:hover label.sk-toggleable__label-arrow:before {color: black;}#sk-container-id-1 div.sk-toggleable__content {max-height: 0;max-width: 0;overflow: hidden;text-align: left;background-color: #f0f8ff;}#sk-container-id-1 div.sk-toggleable__content pre {margin: 0.2em;color: black;border-radius: 0.25em;background-color: #f0f8ff;}#sk-container-id-1 input.sk-toggleable__control:checked~div.sk-toggleable__content {max-height: 200px;max-width: 100%;overflow: auto;}#sk-container-id-1 input.sk-toggleable__control:checked~label.sk-toggleable__label-arrow:before {content: \"▾\";}#sk-container-id-1 div.sk-estimator input.sk-toggleable__control:checked~label.sk-toggleable__label {background-color: #d4ebff;}#sk-container-id-1 div.sk-label input.sk-toggleable__control:checked~label.sk-toggleable__label {background-color: #d4ebff;}#sk-container-id-1 input.sk-hidden--visually {border: 0;clip: rect(1px 1px 1px 1px);clip: rect(1px, 1px, 1px, 1px);height: 1px;margin: -1px;overflow: hidden;padding: 0;position: absolute;width: 1px;}#sk-container-id-1 div.sk-estimator {font-family: monospace;background-color: #f0f8ff;border: 1px dotted black;border-radius: 0.25em;box-sizing: border-box;margin-bottom: 0.5em;}#sk-container-id-1 div.sk-estimator:hover {background-color: #d4ebff;}#sk-container-id-1 div.sk-parallel-item::after {content: \"\";width: 100%;border-bottom: 1px solid gray;flex-grow: 1;}#sk-container-id-1 div.sk-label:hover label.sk-toggleable__label {background-color: #d4ebff;}#sk-container-id-1 div.sk-serial::before {content: \"\";position: absolute;border-left: 1px solid gray;box-sizing: border-box;top: 0;bottom: 0;left: 50%;z-index: 0;}#sk-container-id-1 div.sk-serial {display: flex;flex-direction: column;align-items: center;background-color: white;padding-right: 0.2em;padding-left: 0.2em;position: relative;}#sk-container-id-1 div.sk-item {position: relative;z-index: 1;}#sk-container-id-1 div.sk-parallel {display: flex;align-items: stretch;justify-content: center;background-color: white;position: relative;}#sk-container-id-1 div.sk-item::before, #sk-container-id-1 div.sk-parallel-item::before {content: \"\";position: absolute;border-left: 1px solid gray;box-sizing: border-box;top: 0;bottom: 0;left: 50%;z-index: -1;}#sk-container-id-1 div.sk-parallel-item {display: flex;flex-direction: column;z-index: 1;position: relative;background-color: white;}#sk-container-id-1 div.sk-parallel-item:first-child::after {align-self: flex-end;width: 50%;}#sk-container-id-1 div.sk-parallel-item:last-child::after {align-self: flex-start;width: 50%;}#sk-container-id-1 div.sk-parallel-item:only-child::after {width: 0;}#sk-container-id-1 div.sk-dashed-wrapped {border: 1px dashed gray;margin: 0 0.4em 0.5em 0.4em;box-sizing: border-box;padding-bottom: 0.4em;background-color: white;}#sk-container-id-1 div.sk-label label {font-family: monospace;font-weight: bold;display: inline-block;line-height: 1.2em;}#sk-container-id-1 div.sk-label-container {text-align: center;}#sk-container-id-1 div.sk-container {/* jupyter's `normalize.less` sets `[hidden] { display: none; }` but bootstrap.min.css set `[hidden] { display: none !important; }` so we also need the `!important` here to be able to override the default hidden behavior on the sphinx rendered scikit-learn.org. See: https://github.com/scikit-learn/scikit-learn/issues/21755 */display: inline-block !important;position: relative;}#sk-container-id-1 div.sk-text-repr-fallback {display: none;}</style><div id=\"sk-container-id-1\" class=\"sk-top-container\"><div class=\"sk-text-repr-fallback\"><pre>SVC()</pre><b>In a Jupyter environment, please rerun this cell to show the HTML representation or trust the notebook. <br />On GitHub, the HTML representation is unable to render, please try loading this page with nbviewer.org.</b></div><div class=\"sk-container\" hidden><div class=\"sk-item\"><div class=\"sk-estimator sk-toggleable\"><input class=\"sk-toggleable__control sk-hidden--visually\" id=\"sk-estimator-id-1\" type=\"checkbox\" checked><label for=\"sk-estimator-id-1\" class=\"sk-toggleable__label sk-toggleable__label-arrow\">SVC</label><div class=\"sk-toggleable__content\"><pre>SVC()</pre></div></div></div></div></div>"
      ],
      "text/plain": [
       "SVC()"
      ]
     },
     "execution_count": 20,
     "metadata": {},
     "output_type": "execute_result"
    }
   ],
   "source": [
    "from sklearn.svm import SVC\n",
    "\n",
    "svm_clf = SVC()\n",
    "svm_clf.fit(X, y)\n"
   ]
  },
  {
   "cell_type": "code",
   "execution_count": 21,
   "id": "308f5f53-85e3-4017-a033-fc49eed82017",
   "metadata": {},
   "outputs": [
    {
     "data": {
      "text/plain": [
       "array([  3,   5,   7,   8,   9,  13,  14,  15,  22,  26,  31,  36,  38,\n",
       "        39,  40,  41,  43,  44,  47,  54,  57,  62,  64,  65,  73,  86,\n",
       "        91,  94,  99, 100, 105, 126, 135, 138, 146, 171, 177, 180, 184,\n",
       "       190, 193, 194, 196, 199, 205, 212, 213, 214, 215, 223, 229, 255,\n",
       "       257, 259, 263, 283, 297, 329, 330, 351, 353, 379, 385, 414, 430,\n",
       "       435, 461, 479, 489, 501, 509, 512, 514, 536, 562,  19,  49,  89,\n",
       "        90,  92,  93, 123, 125, 128, 133, 147, 148, 149, 157, 165, 169,\n",
       "       204, 209, 220, 224, 225, 227, 235, 238, 243, 278, 290, 291, 298,\n",
       "       311, 326, 340, 347, 363, 371, 375, 387, 406, 413, 421, 423, 434,\n",
       "       437, 438, 442, 447, 448, 453, 455, 462, 465, 466, 472, 476, 477,\n",
       "       481, 484, 486, 491, 495, 500, 508, 511, 513, 518, 523, 526, 532,\n",
       "       541, 542, 545, 558, 560], dtype=int32)"
      ]
     },
     "execution_count": 21,
     "metadata": {},
     "output_type": "execute_result"
    }
   ],
   "source": [
    "# To view the support vector indices\n",
    "svm_clf.support_"
   ]
  },
  {
   "cell_type": "code",
   "execution_count": 22,
   "id": "46b9382b-87c2-4aa6-a31a-238e9792dae0",
   "metadata": {},
   "outputs": [
    {
     "data": {
      "text/plain": [
       "array([[1.142e+01, 2.038e+01, 7.758e+01, ..., 2.575e-01, 6.638e-01,\n",
       "        1.730e-01],\n",
       "       [1.245e+01, 1.570e+01, 8.257e+01, ..., 1.741e-01, 3.985e-01,\n",
       "        1.244e-01],\n",
       "       [1.371e+01, 2.083e+01, 9.020e+01, ..., 1.556e-01, 3.196e-01,\n",
       "        1.151e-01],\n",
       "       ...,\n",
       "       [1.362e+01, 2.323e+01, 8.719e+01, ..., 7.174e-02, 2.642e-01,\n",
       "        6.953e-02],\n",
       "       [1.459e+01, 2.268e+01, 9.639e+01, ..., 1.105e-01, 2.258e-01,\n",
       "        8.004e-02],\n",
       "       [1.405e+01, 2.715e+01, 9.138e+01, ..., 1.048e-01, 2.250e-01,\n",
       "        8.321e-02]])"
      ]
     },
     "execution_count": 22,
     "metadata": {},
     "output_type": "execute_result"
    }
   ],
   "source": [
    "# To view the support vectors\n",
    "svm_clf.support_vectors_"
   ]
  },
  {
   "cell_type": "code",
   "execution_count": 23,
   "id": "082217c5-9d7f-403a-87f5-1feae2cca667",
   "metadata": {},
   "outputs": [
    {
     "data": {
      "text/plain": [
       "array([75, 73], dtype=int32)"
      ]
     },
     "execution_count": 23,
     "metadata": {},
     "output_type": "execute_result"
    }
   ],
   "source": [
    "# To view the number of support vectors, for each class\n",
    "svm_clf.n_support_"
   ]
  },
  {
   "cell_type": "code",
   "execution_count": 28,
   "id": "036883b4-8519-4252-83fc-6263240ba0f9",
   "metadata": {},
   "outputs": [
    {
     "data": {
      "text/plain": [
       "30"
      ]
     },
     "execution_count": 28,
     "metadata": {},
     "output_type": "execute_result"
    }
   ],
   "source": [
    "# Number of features seen during fit\n",
    "svm_clf.n_features_in_"
   ]
  },
  {
   "cell_type": "code",
   "execution_count": 30,
   "id": "eb7ba56a-2bb9-4675-854d-e9d95bf33880",
   "metadata": {},
   "outputs": [
    {
     "data": {
      "text/plain": [
       "(569, 30)"
      ]
     },
     "execution_count": 30,
     "metadata": {},
     "output_type": "execute_result"
    }
   ],
   "source": [
    "X.shape"
   ]
  },
  {
   "cell_type": "code",
   "execution_count": 31,
   "id": "44412fbe-f7a1-4729-9921-a8d3d8626c04",
   "metadata": {},
   "outputs": [
    {
     "data": {
      "text/plain": [
       "0.9226713532513181"
      ]
     },
     "execution_count": 31,
     "metadata": {},
     "output_type": "execute_result"
    }
   ],
   "source": [
    "svm_clf.score(X, y)"
   ]
  },
  {
   "cell_type": "markdown",
   "id": "d203d2c5-1f17-4fa8-95c2-bd335b703557",
   "metadata": {},
   "source": [
    "# Implementing NuSVC ($\\nu$-Support Vector Classifier)"
   ]
  },
  {
   "cell_type": "markdown",
   "id": "02402c53-aeae-48b2-94e0-9f97311a604e",
   "metadata": {},
   "source": [
    "- Similar to SVC but uses a new factor $\\nu$ to control the number of support vectors \n",
    "- $\\nu$ is used to set an upper-bound to the fraction of margin errors\n"
   ]
  },
  {
   "cell_type": "code",
   "execution_count": 32,
   "id": "0e7ebff9-d414-4a04-adab-db94c26ecf83",
   "metadata": {},
   "outputs": [],
   "source": [
    "from sklearn.svm import NuSVC\n",
    "\n",
    "nu_svm = NuSVC()"
   ]
  },
  {
   "cell_type": "markdown",
   "id": "1199f33d-a657-432b-9c07-4733f0cdeeaa",
   "metadata": {},
   "source": [
    "## Significance of $\\nu$ in NuSVC\n",
    "- Instead of $C$, we have $\\nu$ which is used to control the number of support vectors and margin errors\n",
    "- $\\nu$ is an upper-bound on the **fraction of margin errors** and a lower-bound of the **fraction of support vectors**\n",
    "\n",
    "- $\\nu \\in (0,1]$\n",
    "- Default $\\nu = \\textbf{0.5}$\n",
    "\n",
    "- Other parameters are the same"
   ]
  },
  {
   "cell_type": "markdown",
   "id": "eaa4b6c3-fb77-41ec-80c3-b2912182b7b6",
   "metadata": {},
   "source": [
    "# Implementing LinearSVC"
   ]
  },
  {
   "cell_type": "code",
   "execution_count": 33,
   "id": "cad33c2b-88b8-4703-ad8e-2126b4b4d475",
   "metadata": {},
   "outputs": [],
   "source": [
    "from sklearn.svm import LinearSVC\n",
    "\n",
    "linear_svm = LinearSVC()"
   ]
  },
  {
   "cell_type": "markdown",
   "id": "66808dd1-e65c-422b-9c41-8114824d3ece",
   "metadata": {},
   "source": [
    "## Advantages of LinearSVC\n",
    "- It has more flexibility in the <span style=\"color:purple\">choice of penalties and loss function</span> since it is implemented in terms of liblinear\n",
    "- Scaled better to <span style=\"color:purple\">large number of samples</span>\n",
    "- SUpports both, dense and sparse input"
   ]
  },
  {
   "cell_type": "markdown",
   "id": "dcb1b85d-96c8-4450-a889-822e43f9fd5b",
   "metadata": {},
   "source": [
    "## ```penalty``` in LinearSVC\n",
    "- It can take 2 values:\n",
    "    1. <span style=\"color:purple\">$l1$</span>\n",
    "    2. <span style=\"color:purple\">$l2$</span>\n",
    "    \n",
    "- <span style=\"color:purple\">$l1$</span> leads to coef_ vectors that are sparse\n",
    "\n",
    "- Default penalty = **l2**"
   ]
  },
  {
   "cell_type": "code",
   "execution_count": 34,
   "id": "9ee08335-21b0-480e-a37b-b2e0eea3f2a6",
   "metadata": {},
   "outputs": [],
   "source": [
    "linear_svm = LinearSVC(penalty='l1')"
   ]
  },
  {
   "cell_type": "markdown",
   "id": "6b32af9c-2768-4982-b946-bd9d7da80c4a",
   "metadata": {},
   "source": [
    "## ```loss``` in LinearSVC\n",
    "\n",
    "- The ```loss``` parameter can take 2 values:\n",
    "    1. <span style=\"color:purple\">'hinge'</span>: Standard SVM loss\n",
    "    1. <span style=\"color:purple\">'squared_hinge'</span>: Squared of the hinge loss\n",
    "\n",
    "- Default loss = **squared_loss**\n",
    "\n",
    "- **<span style=\"color:RED\">NOTE THAT, the following combination is not allowed:</span>**\n",
    "    - ```penalty='l1'``` and ```loss='hinge'```\n",
    "\n",
    "***\n",
    "\n",
    "# Some other parameters in LinearSVC\n",
    "\n",
    "<span style=\"color:purple\">$C$</span>\n",
    "- Regularization parameter\n",
    "\n",
    "<span style=\"color:purple\">$dual$</span>\n",
    "- Select the algorithm to either solve the dual or the primal optimization problem\n",
    "- When ```n_samples```$>$```n_features```, prefer **<span style=\"color:red\">dual = False</span>**\n",
    "\n",
    "<span style=\"color:purple\">$fit\\_intercept$</span>\n",
    "- To calculate the intercept for the model"
   ]
  },
  {
   "cell_type": "code",
   "execution_count": 35,
   "id": "22d5db8b-1be6-40bc-abfe-7648e547edb4",
   "metadata": {},
   "outputs": [],
   "source": [
    "linear_svm = LinearSVC(C=1.5,\n",
    "                       dual=False, # Default = True\n",
    "                       fit_intercept=True # Default = True\n",
    "                      )"
   ]
  },
  {
   "cell_type": "markdown",
   "id": "70ef5665-d175-4895-bba7-f694ed76c296",
   "metadata": {},
   "source": [
    "## Multi-Class Classification in SVM\n",
    "\n",
    "- <span style=\"color:purple\">SVC</span> and <span style=\"color:purple\">NuSVC</span> implements **<span style=\"color:red\">One-vs-One</span>** approach\n",
    "- <span style=\"color:purple\">LinearSVC</span> implements **<span style=\"color:red\">One-vs-Rest</span>** approach"
   ]
  },
  {
   "cell_type": "code",
   "execution_count": 37,
   "id": "8cd11025-13c0-4800-91ea-b1ce16071b11",
   "metadata": {},
   "outputs": [
    {
     "data": {
      "text/plain": [
       "'ovr'"
      ]
     },
     "execution_count": 37,
     "metadata": {},
     "output_type": "execute_result"
    }
   ],
   "source": [
    "linear_svm.multi_class"
   ]
  },
  {
   "cell_type": "markdown",
   "id": "c2c99cbb-8b32-49fb-ae99-70ae0fb828c3",
   "metadata": {},
   "source": [
    "## Advantages of SVM\n",
    "- Effictive in high-dimensional spaces\n",
    "- Effictive in cases where the number of dimensions is greater than the number of samples(n_features>n_samples)\n",
    "- Uses a subset of training points in the decision function(called support vectors). Hence, it's memory efficient\n",
    "- Versatile: Different kernel functions can be specifiedfor the decision function\n",
    "\n",
    "## Disadvantages of SVM\n",
    "- SVMs do not provide probability estimates directly. These are calculated using an expensive 5-fold CV\n",
    "- Avoid over-fitting in choosing the kernel function if the number of features is much greater than the number of samples\n",
    "\n"
   ]
  },
  {
   "cell_type": "code",
   "execution_count": null,
   "id": "817e0e95-bcb7-4155-a057-e73cbbd13bf2",
   "metadata": {},
   "outputs": [],
   "source": []
  }
 ],
 "metadata": {
  "kernelspec": {
   "display_name": "Python 3 (ipykernel)",
   "language": "python",
   "name": "python3"
  },
  "language_info": {
   "codemirror_mode": {
    "name": "ipython",
    "version": 3
   },
   "file_extension": ".py",
   "mimetype": "text/x-python",
   "name": "python",
   "nbconvert_exporter": "python",
   "pygments_lexer": "ipython3",
   "version": "3.9.13"
  },
  "toc-autonumbering": true
 },
 "nbformat": 4,
 "nbformat_minor": 5
}
